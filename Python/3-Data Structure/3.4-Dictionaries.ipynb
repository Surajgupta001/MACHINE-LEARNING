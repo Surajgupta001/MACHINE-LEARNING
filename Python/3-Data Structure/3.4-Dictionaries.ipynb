{
 "cells": [
  {
   "cell_type": "markdown",
   "id": "d4c86c3b",
   "metadata": {},
   "source": [
    "# Dictionaries"
   ]
  },
  {
   "cell_type": "markdown",
   "id": "2507cc6a",
   "metadata": {},
   "source": [
    "## Course Outline\n",
    "1. Introduction to Dictionaries\n",
    "2. Creating Dictionaries\n",
    "3. Accessing and Modifying Elements\n",
    "4. Dictionary Methods\n",
    "5. Iterating Over Dictionaries\n",
    "6. Nested Dictionaries\n",
    "7. Dictionary Comprehensions\n",
    "8. Practical Examples and Use Cases"
   ]
  },
  {
   "cell_type": "markdown",
   "id": "95bcab33",
   "metadata": {},
   "source": [
    "### Introduction to Dictionaries\n",
    "\n",
    "Dictionaries are unordered, mutable collections of key-value pairs. Each key is unique and immutable(e.g. strings, numbers, tuples), and is used to access its corresponding value."
   ]
  },
  {
   "cell_type": "code",
   "execution_count": 18,
   "id": "9cf96087",
   "metadata": {},
   "outputs": [
    {
     "name": "stdout",
     "output_type": "stream",
     "text": [
      "{}\n",
      "<class 'dict'>\n"
     ]
    }
   ],
   "source": [
    "## Creating Dictionaries\n",
    "empty_dict = {}\n",
    "print(empty_dict)  # Output: {}\n",
    "print(type(empty_dict))  # Output: <class 'dict'>"
   ]
  },
  {
   "cell_type": "code",
   "execution_count": 19,
   "id": "8effd069",
   "metadata": {},
   "outputs": [
    {
     "data": {
      "text/plain": [
       "{}"
      ]
     },
     "execution_count": 19,
     "metadata": {},
     "output_type": "execute_result"
    }
   ],
   "source": [
    "empty_dict = dict()\n",
    "empty_dict  # Output: {}"
   ]
  },
  {
   "cell_type": "code",
   "execution_count": 20,
   "id": "31d39ebf",
   "metadata": {},
   "outputs": [
    {
     "name": "stdout",
     "output_type": "stream",
     "text": [
      "{'name': 'John Doe', 'age': 21, 'courses': ['Math', 'CompSci'], 'is_graduated': False, 1: 'one', (2, 3): 'tuple_key', frozenset({4, 5}): 'frozenset_key'}\n",
      "<class 'dict'>\n"
     ]
    }
   ],
   "source": [
    "student = {\n",
    "    \"name\": \"John Doe\",\n",
    "    \"age\": 21,\n",
    "    \"courses\": [\"Math\", \"CompSci\"],\n",
    "    \"is_graduated\": False,\n",
    "    1: \"one\",\n",
    "    (2, 3): \"tuple_key\",\n",
    "    frozenset([4, 5]): \"frozenset_key\",\n",
    "}\n",
    "print(student)\n",
    "print(type(student))  # Output: <class 'dict'>"
   ]
  },
  {
   "cell_type": "code",
   "execution_count": 21,
   "id": "e409e4a0",
   "metadata": {},
   "outputs": [
    {
     "name": "stdout",
     "output_type": "stream",
     "text": [
      "John Doe\n",
      "21\n",
      "Not Found\n",
      "{'name': 'John Doe', 'age': 22, 'courses': ['Math', 'CompSci'], 'is_graduated': False, 1: 'one', (2, 3): 'tuple_key', frozenset({4, 5}): 'frozenset_key', 'address': '123 Main St'}\n",
      "Removed courses: ['Math', 'CompSci']\n",
      "{'name': 'John Doe', 'age': 22, 'is_graduated': False, 1: 'one', (2, 3): 'tuple_key', frozenset({4, 5}): 'frozenset_key', 'address': '123 Main St'}\n"
     ]
    }
   ],
   "source": [
    "## Accessing and Modifying Elements\n",
    "print(student[\"name\"])  # Output: John Doe\n",
    "print(student.get(\"age\"))  # Output: 21\n",
    "print(student.get(\"address\", \"Not Found\"))  # Output: Not Found\n",
    "\n",
    "## Modifying Elements\n",
    "# -> Dictionary are mutable, so we can change, add, or remove elements.\n",
    "# Adding a new key-value pair\n",
    "student[\"age\"] = 22\n",
    "student[\"address\"] = \"123 Main St\"\n",
    "print(student)\n",
    "# Removing a key-value pair\n",
    "removed_course = student.pop(\"courses\")\n",
    "print(f\"Removed courses: {removed_course}\")\n",
    "print(student)"
   ]
  },
  {
   "cell_type": "code",
   "execution_count": 22,
   "id": "921791b5",
   "metadata": {},
   "outputs": [
    {
     "name": "stdout",
     "output_type": "stream",
     "text": [
      "{'name': 'John Doe', 'age': 22, 1: 'one', (2, 3): 'tuple_key', frozenset({4, 5}): 'frozenset_key', 'address': '123 Main St'}\n"
     ]
    }
   ],
   "source": [
    "## Deleting Elements\n",
    "del student[\"is_graduated\"]\n",
    "print(student)"
   ]
  },
  {
   "cell_type": "code",
   "execution_count": 23,
   "id": "c27c7d6a",
   "metadata": {},
   "outputs": [
    {
     "name": "stdout",
     "output_type": "stream",
     "text": [
      "dict_keys(['name', 'age', 1, (2, 3), frozenset({4, 5}), 'address'])\n",
      "dict_values(['John Doe', 22, 'one', 'tuple_key', 'frozenset_key', '123 Main St'])\n",
      "dict_items([('name', 'John Doe'), ('age', 22), (1, 'one'), ((2, 3), 'tuple_key'), (frozenset({4, 5}), 'frozenset_key'), ('address', '123 Main St')])\n",
      "{}\n"
     ]
    }
   ],
   "source": [
    "## Dictionary Methods\n",
    "print(student.keys())  # Output: get all the dict_keys([...]) i.e. all the keys\n",
    "print(student.values())  # Output: get all the dict_values([...] ) i.e. all the values\n",
    "print(student.items())  # Output: get all the dict_items([...]) i.e. (key, value) pairs\n",
    "student.clear()\n",
    "print(student)  # Output: {}"
   ]
  },
  {
   "cell_type": "code",
   "execution_count": 27,
   "id": "c442b11b",
   "metadata": {},
   "outputs": [
    {
     "name": "stdout",
     "output_type": "stream",
     "text": [
      "{'name': 'John Doe', 'age': 22, 'address': '123 Main St', 'is_graduated': False, 1: 'one', (2, 3): 'tuple_key', frozenset({4, 5}): 'frozenset_key'}\n",
      "{'name': 'John Doe', 'age': 22, 'address': '123 Main St', 'is_graduated': False, 1: 'one', (2, 3): 'tuple_key', frozenset({4, 5}): 'frozenset_key'}\n"
     ]
    }
   ],
   "source": [
    "## Shallow Copy\n",
    "student = {\n",
    "    \"name\": \"John Doe\",\n",
    "    \"age\": 22,\n",
    "    \"address\": \"123 Main St\",\n",
    "    \"is_graduated\": False,\n",
    "    1: \"one\",\n",
    "    (2, 3): \"tuple_key\",\n",
    "    frozenset([4, 5]): \"frozenset_key\",\n",
    "}\n",
    "student_copy = student  # Shallow copy (reference copy)\n",
    "print(student)          # Reflects changes in original (shallow copy)\n",
    "print(student_copy)     # Reflects changes in original (shallow copy)"
   ]
  },
  {
   "cell_type": "code",
   "execution_count": 30,
   "id": "9c1ca990",
   "metadata": {},
   "outputs": [
    {
     "name": "stdout",
     "output_type": "stream",
     "text": [
      "{'name': 'John Doe', 'age': 22, 'address': '123 Main St', 'is_graduated': False, 1: 'one', (2, 3): 'tuple_key', frozenset({4, 5}): 'frozenset_key'}\n",
      "{'name': 'John Doe', 'age': 22, 'address': '123 Main St', 'is_graduated': False, 1: 'one', (2, 3): 'tuple_key', frozenset({4, 5}): 'frozenset_key'}\n"
     ]
    }
   ],
   "source": [
    "## Deep Copy\n",
    "student_deepcopy = student.copy()  # Deep copy (independent copy)\n",
    "print(student)          # Original dictionary\n",
    "print(student_deepcopy)  # Independent copy"
   ]
  },
  {
   "cell_type": "code",
   "execution_count": 31,
   "id": "17e81665",
   "metadata": {},
   "outputs": [
    {
     "name": "stdout",
     "output_type": "stream",
     "text": [
      "{'name': 'John Doe', 'age': 23, 'address': '123 Main St', 'is_graduated': False, 1: 'one', (2, 3): 'tuple_key', frozenset({4, 5}): 'frozenset_key'}\n",
      "{'name': 'John Doe', 'age': 22, 'address': '123 Main St', 'is_graduated': False, 1: 'one', (2, 3): 'tuple_key', frozenset({4, 5}): 'frozenset_key'}\n"
     ]
    }
   ],
   "source": [
    "student[\"age\"] = 23\n",
    "print(student)          # Original dictionary with updated age\n",
    "print(student_deepcopy)  # Independent copy remains unchanged"
   ]
  },
  {
   "cell_type": "code",
   "execution_count": 34,
   "id": "d80d55a7",
   "metadata": {},
   "outputs": [
    {
     "name": "stdout",
     "output_type": "stream",
     "text": [
      "Key: name\n",
      "Key: age\n",
      "Key: address\n",
      "Key: is_graduated\n",
      "Key: 1\n",
      "Key: (2, 3)\n",
      "Key: frozenset({4, 5})\n"
     ]
    }
   ],
   "source": [
    "## Iterating Over Dictionaries\n",
    "## You can iterate over keys, values, or key-value pairs in a dictionary.\n",
    "\n",
    "# Iterate over keys\n",
    "for key in student:\n",
    "    print(f\"Key: {key}\")"
   ]
  },
  {
   "cell_type": "code",
   "execution_count": 35,
   "id": "cd5b90c7",
   "metadata": {},
   "outputs": [
    {
     "name": "stdout",
     "output_type": "stream",
     "text": [
      "Value: John Doe\n",
      "Value: 23\n",
      "Value: 123 Main St\n",
      "Value: False\n",
      "Value: one\n",
      "Value: tuple_key\n",
      "Value: frozenset_key\n"
     ]
    }
   ],
   "source": [
    "# Iterate over values\n",
    "for value in student.values():\n",
    "    print(f\"Value: {value}\")"
   ]
  },
  {
   "cell_type": "code",
   "execution_count": null,
   "id": "fdeef0d7",
   "metadata": {},
   "outputs": [
    {
     "name": "stdout",
     "output_type": "stream",
     "text": [
      "name: John Doe\n",
      "age: 23\n",
      "address: 123 Main St\n",
      "is_graduated: False\n",
      "1: one\n",
      "(2, 3): tuple_key\n",
      "frozenset({4, 5}): frozenset_key\n"
     ]
    }
   ],
   "source": [
    "# Iterate over key-value pairs or items\n",
    "for key, value in student.items():\n",
    "    print(f\"{key}: {value}\")"
   ]
  },
  {
   "cell_type": "code",
   "execution_count": null,
   "id": "fa7838c3",
   "metadata": {},
   "outputs": [
    {
     "name": "stdout",
     "output_type": "stream",
     "text": [
      "90\n"
     ]
    }
   ],
   "source": [
    "## Nested Dictionaries\n",
    "\n",
    "student = {\n",
    "    'name': 'Alice',\n",
    "    'age': 21,\n",
    "    'courses': {\n",
    "        'math': 90,\n",
    "        'science': 85\n",
    "    }\n",
    "}\n",
    "# Accessing nested dictionary elements\n",
    "print(student['courses']['math'])  # Output: 90"
   ]
  },
  {
   "cell_type": "code",
   "execution_count": 41,
   "id": "f5b74b92",
   "metadata": {},
   "outputs": [
    {
     "name": "stdout",
     "output_type": "stream",
     "text": [
      "name: Alice\n",
      "age: 21\n",
      "courses:\n",
      "  math: 90\n",
      "  science: 85\n"
     ]
    }
   ],
   "source": [
    "## Iterating Over Nested Dictionaries\n",
    "for key, value in student.items():\n",
    "    if isinstance(value, dict):\n",
    "        print(f\"{key}:\")\n",
    "        for sub_key, sub_value in value.items():\n",
    "            print(f\"  {sub_key}: {sub_value}\")\n",
    "    else:\n",
    "        print(f\"{key}: {value}\")"
   ]
  },
  {
   "cell_type": "code",
   "execution_count": 42,
   "id": "6683241a",
   "metadata": {},
   "outputs": [
    {
     "name": "stdout",
     "output_type": "stream",
     "text": [
      "{0: 0, 1: 1, 2: 4, 3: 9, 4: 16, 5: 25}\n"
     ]
    }
   ],
   "source": [
    "## Dictionary Comprehensions\n",
    "squares = {x: x*x for x in range(6)}\n",
    "print(squares)  # Output: {0: 0, 1: 1, 2: 4, 3: 9, 4: 16, 5: 25}"
   ]
  },
  {
   "cell_type": "code",
   "execution_count": 43,
   "id": "a2d7f86a",
   "metadata": {},
   "outputs": [
    {
     "name": "stdout",
     "output_type": "stream",
     "text": [
      "{0: 0, 2: 4, 4: 16}\n"
     ]
    }
   ],
   "source": [
    "## Conditional Dictionary Comprehensions\n",
    "even_squares = {x: x*x for x in range(6) if x % 2 == 0}\n",
    "print(even_squares)  # Output: {0: 0, 2: 4, 4: 16}\n"
   ]
  },
  {
   "cell_type": "code",
   "execution_count": 45,
   "id": "cc82d814",
   "metadata": {},
   "outputs": [
    {
     "name": "stdout",
     "output_type": "stream",
     "text": [
      "{'a': 1, 'b': 3, 'c': 4}\n"
     ]
    }
   ],
   "source": [
    "## Merge two dictionaries\n",
    "dict1 = {'a': 1, 'b': 2}\n",
    "dict2 = {'b': 3, 'c': 4}\n",
    "merged_dict = {**dict1, **dict2}\n",
    "print(merged_dict)  # Output: {'a': 1, 'b': 3, 'c': 4}"
   ]
  }
 ],
 "metadata": {
  "kernelspec": {
   "display_name": "base",
   "language": "python",
   "name": "python3"
  },
  "language_info": {
   "codemirror_mode": {
    "name": "ipython",
    "version": 3
   },
   "file_extension": ".py",
   "mimetype": "text/x-python",
   "name": "python",
   "nbconvert_exporter": "python",
   "pygments_lexer": "ipython3",
   "version": "3.13.5"
  }
 },
 "nbformat": 4,
 "nbformat_minor": 5
}

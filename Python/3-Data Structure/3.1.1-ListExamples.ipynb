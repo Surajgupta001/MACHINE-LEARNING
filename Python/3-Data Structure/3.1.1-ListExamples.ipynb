{
 "cells": [
  {
   "cell_type": "markdown",
   "id": "4992dcb8",
   "metadata": {},
   "source": [
    "# Real-world Examples Using Lists in Python\n",
    "\n",
    "Lists are one of most commonly used data structures in Python, thanks to their versatility and ease of use. Here are some real-world examples where lists can be effectively utilized:\n",
    "\n",
    "## Example 1: Manage a To-Do List Application"
   ]
  },
  {
   "cell_type": "code",
   "execution_count": 2,
   "id": "d92d93fc",
   "metadata": {},
   "outputs": [
    {
     "name": "stdout",
     "output_type": "stream",
     "text": [
      "Updated To-Do List: ['Buy groceries', 'Call Alice', 'Finish the report', 'Schedule dentist appointment', 'Read a book', 'Walk the dog']\n",
      "After removing a task: ['Buy groceries', 'Finish the report', 'Schedule dentist appointment', 'Read a book', 'Walk the dog']\n",
      "Task 'Finish the report' is in the list.\n",
      "Total tasks: 5\n",
      "To-Do List Remaining: ['Buy groceries', 'Finish the report', 'Schedule dentist appointment', 'Read a book', 'Walk the dog']\n",
      "- Buy groceries\n",
      "- Finish the report\n",
      "- Schedule dentist appointment\n",
      "- Read a book\n",
      "- Walk the dog\n"
     ]
    }
   ],
   "source": [
    "to_do_list = [\n",
    "    \"Buy groceries\",\n",
    "    \"Call Alice\",\n",
    "    \"Finish the report\",\n",
    "    \"Schedule dentist appointment\"\n",
    "]\n",
    "\n",
    "## Adding to task\n",
    "to_do_list.append(\"Read a book\")\n",
    "to_do_list.append(\"Walk the dog\")\n",
    "print(\"Updated To-Do List:\", to_do_list)\n",
    "\n",
    "## Removing a task\n",
    "to_do_list.remove(\"Call Alice\")\n",
    "print(\"After removing a task:\", to_do_list)\n",
    "\n",
    "## Checking if a task is in the list\n",
    "if \"Finish the report\" in to_do_list:\n",
    "    print(\"Task 'Finish the report' is in the list.\")\n",
    "\n",
    "print(\"Total tasks:\", len(to_do_list))\n",
    "print(\"To-Do List Remaining:\", to_do_list)\n",
    "for task in to_do_list:\n",
    "    print(\"-\", task)"
   ]
  },
  {
   "cell_type": "markdown",
   "id": "88879569",
   "metadata": {},
   "source": [
    "## Example 2: Origanizing Student Grades"
   ]
  },
  {
   "cell_type": "code",
   "execution_count": 5,
   "id": "f0eab7a4",
   "metadata": {},
   "outputs": [
    {
     "name": "stdout",
     "output_type": "stream",
     "text": [
      "Average Grade: 88.00\n",
      "Highest Grade: 95\n",
      "Lowest Grade: 78\n",
      "All Grades: [85, 92, 78, 90, 88, 95]\n"
     ]
    }
   ],
   "source": [
    "grades = [85, 92, 78, 90, 88]\n",
    "\n",
    "## Adding a new grade\n",
    "grades.append(95)\n",
    "\n",
    "## Calculating average grade\n",
    "average_grade = sum(grades) / len(grades)\n",
    "print(f\"Average Grade: {average_grade:.2f}\")\n",
    "\n",
    "## Finding highest and lowest grades\n",
    "highest_grade = max(grades)\n",
    "lowest_grade = min(grades)\n",
    "\n",
    "print(\"Highest Grade:\", highest_grade)\n",
    "print(\"Lowest Grade:\", lowest_grade)\n",
    "\n",
    "print(\"All Grades:\", grades)"
   ]
  },
  {
   "cell_type": "markdown",
   "id": "51e87f86",
   "metadata": {},
   "source": [
    "## Example 3: Inventory Management System"
   ]
  },
  {
   "cell_type": "code",
   "execution_count": 6,
   "id": "de70dff2",
   "metadata": {},
   "outputs": [
    {
     "name": "stdout",
     "output_type": "stream",
     "text": [
      "Current Inventory:\n",
      "Apple: 50\n",
      "Banana: 40\n",
      "Grapes: 40\n"
     ]
    }
   ],
   "source": [
    "## Example 3: Inventory Management System\n",
    "\n",
    "# Initial inventory list\n",
    "inventory = [\n",
    "    {\"item\": \"Apple\", \"quantity\": 50},\n",
    "    {\"item\": \"Banana\", \"quantity\": 30},\n",
    "    {\"item\": \"Orange\", \"quantity\": 20}\n",
    "]\n",
    "\n",
    "# Add a new item\n",
    "inventory.append({\"item\": \"Grapes\", \"quantity\": 40})\n",
    "\n",
    "# Update quantity of an item\n",
    "for product in inventory:\n",
    "    if product[\"item\"] == \"Banana\":\n",
    "        product[\"quantity\"] += 10  # Restock bananas\n",
    "\n",
    "# Remove an item from inventory\n",
    "inventory = [product for product in inventory if product[\"item\"] != \"Orange\"]\n",
    "\n",
    "# Display inventory\n",
    "print(\"Current Inventory:\")\n",
    "for product in inventory:\n",
    "    print(f\"{product['item']}: {product['quantity']}\")"
   ]
  },
  {
   "cell_type": "markdown",
   "id": "0f562394",
   "metadata": {},
   "source": [
    "## Example 4: Collecting User Feedback"
   ]
  },
  {
   "cell_type": "code",
   "execution_count": 7,
   "id": "64953eb9",
   "metadata": {},
   "outputs": [
    {
     "name": "stdout",
     "output_type": "stream",
     "text": [
      "User Feedback:\n",
      "- Great service!\n",
      "- Could improve response time.\n",
      "- Loved the user interface.\n",
      "- Support team was very helpful.\n",
      "Total feedback received: 4\n"
     ]
    }
   ],
   "source": [
    "## Example 4: Collecting User Feedback\n",
    "\n",
    "# Initialize an empty list to store feedback\n",
    "feedback_list = []\n",
    "\n",
    "# Simulate collecting feedback from users\n",
    "feedback_list.append(\"Great service!\")\n",
    "feedback_list.append(\"Could improve response time.\")\n",
    "feedback_list.append(\"Loved the user interface.\")\n",
    "feedback_list.append(\"Support team was very helpful.\")\n",
    "\n",
    "# Display all feedback\n",
    "print(\"User Feedback:\")\n",
    "for feedback in feedback_list:\n",
    "    print(\"-\", feedback)\n",
    "\n",
    "# Count total feedback entries\n",
    "print(\"Total feedback received:\", len(feedback_list))"
   ]
  }
 ],
 "metadata": {
  "kernelspec": {
   "display_name": "base",
   "language": "python",
   "name": "python3"
  },
  "language_info": {
   "codemirror_mode": {
    "name": "ipython",
    "version": 3
   },
   "file_extension": ".py",
   "mimetype": "text/x-python",
   "name": "python",
   "nbconvert_exporter": "python",
   "pygments_lexer": "ipython3",
   "version": "3.13.5"
  }
 },
 "nbformat": 4,
 "nbformat_minor": 5
}

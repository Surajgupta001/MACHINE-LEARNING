{
 "cells": [
  {
   "cell_type": "markdown",
   "id": "ea31bd50",
   "metadata": {},
   "source": [
    "# SETS\n",
    "\n",
    "Sets are built-in data types in Python that store unordered collections of unique elements. They are mutable, meaning you can add or remove elements after the set is created. Sets are useful for operations like membership testing, removing duplicates from a list, and performing mathematical set operations like union, intersection, and difference."
   ]
  },
  {
   "cell_type": "code",
   "execution_count": 1,
   "id": "d08ac4f4",
   "metadata": {},
   "outputs": [
    {
     "name": "stdout",
     "output_type": "stream",
     "text": [
      "{1, 2, 3, 4, 5}\n",
      "<class 'set'>\n"
     ]
    }
   ],
   "source": [
    "## Cteate Sets\n",
    "my_set = {1, 2, 3, 4, 5}\n",
    "print(my_set)  # Output: {1, 2, 3, 4, 5}\n",
    "print(type(my_set))  # Output: <class 'set'>"
   ]
  },
  {
   "cell_type": "code",
   "execution_count": 3,
   "id": "ee64a14a",
   "metadata": {},
   "outputs": [
    {
     "name": "stdout",
     "output_type": "stream",
     "text": [
      "<class 'set'>\n"
     ]
    }
   ],
   "source": [
    "my_empty_set = set()\n",
    "print(type(my_empty_set))  # Output: <class 'set'>"
   ]
  },
  {
   "cell_type": "code",
   "execution_count": 4,
   "id": "4a05c339",
   "metadata": {},
   "outputs": [
    {
     "name": "stdout",
     "output_type": "stream",
     "text": [
      "{1, 2, 3, 4, 5}\n"
     ]
    }
   ],
   "source": [
    "my_set = {1, 2, 2, 3, 4, 4, 5}\n",
    "print(my_set)  # Output: {1, 2, 3, 4, 5}"
   ]
  },
  {
   "cell_type": "code",
   "execution_count": 5,
   "id": "20ea56e6",
   "metadata": {},
   "outputs": [
    {
     "name": "stdout",
     "output_type": "stream",
     "text": [
      "{1, 2, 3, 4, 5, 6}\n",
      "{1, 2, 4, 5, 6}\n"
     ]
    }
   ],
   "source": [
    "## Basic Set Operations\n",
    "## Adding and Removing Elements\n",
    "my_set.add(6)\n",
    "print(my_set)  # Output: {1, 2, 3, 4, 5, 6}\n",
    "my_set.remove(3)\n",
    "print(my_set)  # Output: {1, 2, 4, 5, 6}"
   ]
  },
  {
   "cell_type": "code",
   "execution_count": 6,
   "id": "7729854d",
   "metadata": {},
   "outputs": [
    {
     "ename": "KeyError",
     "evalue": "10",
     "output_type": "error",
     "traceback": [
      "\u001b[1;31m---------------------------------------------------------------------------\u001b[0m",
      "\u001b[1;31mKeyError\u001b[0m                                  Traceback (most recent call last)",
      "Cell \u001b[1;32mIn[6], line 1\u001b[0m\n\u001b[1;32m----> 1\u001b[0m my_set\u001b[38;5;241m.\u001b[39mremove(\u001b[38;5;241m10\u001b[39m)\n",
      "\u001b[1;31mKeyError\u001b[0m: 10"
     ]
    }
   ],
   "source": [
    "my_set.remove(10)  # Raises KeyError if 10 is not in the set\n"
   ]
  },
  {
   "cell_type": "code",
   "execution_count": 8,
   "id": "4a1946f0",
   "metadata": {},
   "outputs": [
    {
     "name": "stdout",
     "output_type": "stream",
     "text": [
      "{1, 2, 4, 5, 6}\n"
     ]
    }
   ],
   "source": [
    "my_set.discard(10)  # Does nothing if 10 is not in the set\n",
    "print(my_set) # Output: {1, 2, 4, 5, 6}"
   ]
  },
  {
   "cell_type": "code",
   "execution_count": 9,
   "id": "8d6a7a1b",
   "metadata": {},
   "outputs": [
    {
     "name": "stdout",
     "output_type": "stream",
     "text": [
      "Popped Element: 1\n",
      "{2, 4, 5, 6}\n"
     ]
    }
   ],
   "source": [
    "## pop method\n",
    "popped_element = my_set.pop()\n",
    "print(f\"Popped Element: {popped_element}\")\n",
    "print(my_set)  # Output: {1, 2, 4, 5, 6}"
   ]
  },
  {
   "cell_type": "code",
   "execution_count": 11,
   "id": "c2b82ac1",
   "metadata": {},
   "outputs": [
    {
     "name": "stdout",
     "output_type": "stream",
     "text": [
      "True\n",
      "False\n"
     ]
    }
   ],
   "source": [
    "## set membership test\n",
    "my_set = {1, 2, 3, 4, 5}\n",
    "print(3 in my_set)  # Output: True\n",
    "print(10 in my_set)  # Output: False"
   ]
  },
  {
   "cell_type": "code",
   "execution_count": 15,
   "id": "adf6ce1b",
   "metadata": {},
   "outputs": [
    {
     "name": "stdout",
     "output_type": "stream",
     "text": [
      "Union: {1, 2, 3, 4, 5, 6}\n",
      "Intersection: {3, 4}\n",
      "Difference: {1, 2}\n",
      "Symmetric Difference: {1, 2, 5, 6}\n",
      "Set A after Intersection Update: {3, 4}\n",
      "True\n",
      "True\n"
     ]
    }
   ],
   "source": [
    "## Mathematical Set Operations\n",
    "set_a = {1, 2, 3, 4}\n",
    "set_b = {3, 4, 5, 6}\n",
    "# Union\n",
    "set_union = set_a | set_b\n",
    "print(f\"Union: {set_union}\")  # Output: {1, 2, 3, 4, 5, 6}\n",
    "# Intersection\n",
    "set_intersection = set_a & set_b\n",
    "print(f\"Intersection: {set_intersection}\")  # Output: {3, 4}\n",
    "# Difference\n",
    "set_difference = set_a - set_b\n",
    "print(f\"Difference: {set_difference}\")  # Output: {1, 2}\n",
    "# Symmetric Difference -> unique  elements in both sets\n",
    "set_sym_diff = set_a ^ set_b\n",
    "print(f\"Symmetric Difference: {set_sym_diff}\")  # Output: {1, 2, 5, 6}\n",
    "# Intersection Update\n",
    "set_a &= set_b\n",
    "print(f\"Set A after Intersection Update: {set_a}\")  # Output: {3, 4}\n",
    "# subset and Superset\n",
    "print(set_a.issubset(set_b))  # Output: True\n",
    "print(set_b.issuperset(set_a))  # Output: True"
   ]
  },
  {
   "cell_type": "code",
   "execution_count": 16,
   "id": "4d9dd3d2",
   "metadata": {},
   "outputs": [
    {
     "data": {
      "text/plain": [
       "{1, 2, 3, 4, 5}"
      ]
     },
     "execution_count": 16,
     "metadata": {},
     "output_type": "execute_result"
    }
   ],
   "source": [
    "lst = [1, 2, 2, 3, 4, 4, 5]\n",
    "set(lst) # Output: {1, 2, 3, 4, 5}"
   ]
  },
  {
   "cell_type": "code",
   "execution_count": 17,
   "id": "5127b657",
   "metadata": {},
   "outputs": [
    {
     "name": "stdout",
     "output_type": "stream",
     "text": [
      "Unique Words: {'world', 'hello'}\n"
     ]
    }
   ],
   "source": [
    "## Counting Unique words in a Text\n",
    "text = \"hello world hello\"\n",
    "words = text.split()\n",
    "unique_words = set(words)\n",
    "print(f\"Unique Words: {unique_words}\")  # Output: {'hello', 'world'}"
   ]
  }
 ],
 "metadata": {
  "kernelspec": {
   "display_name": "base",
   "language": "python",
   "name": "python3"
  },
  "language_info": {
   "codemirror_mode": {
    "name": "ipython",
    "version": 3
   },
   "file_extension": ".py",
   "mimetype": "text/x-python",
   "name": "python",
   "nbconvert_exporter": "python",
   "pygments_lexer": "ipython3",
   "version": "3.13.5"
  }
 },
 "nbformat": 4,
 "nbformat_minor": 5
}

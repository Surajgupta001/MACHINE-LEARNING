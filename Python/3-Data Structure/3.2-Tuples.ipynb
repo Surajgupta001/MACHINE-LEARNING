{
 "cells": [
  {
   "cell_type": "markdown",
   "id": "2a5a7d71",
   "metadata": {},
   "source": [
    "# TUPLES"
   ]
  },
  {
   "cell_type": "markdown",
   "id": "7c087f5d",
   "metadata": {},
   "source": [
    "## Course Outline\n",
    "1. Introduction to Tuples\n",
    "2. Creating Tuples\n",
    "3. Accessing Tuple Elements\n",
    "4. Tuple Operations\n",
    "5. Immutability of Tuples\n",
    "6. Tuple Methods\n",
    "7. Packing and Unpacking Tuples\n",
    "8. Nested Tuples\n",
    "9. Use Cases of Tuples"
   ]
  },
  {
   "cell_type": "markdown",
   "id": "b1a32d9d",
   "metadata": {},
   "source": [
    "### Introduction to Tuples\n",
    "\n",
    "Explanation:\n",
    "\n",
    "Tuples are ordered, immutable collections of items in Python. They are similar to lists but cannot be modified after creation. Tuples are defined by enclosing elements in parentheses `()`."
   ]
  },
  {
   "cell_type": "code",
   "execution_count": 1,
   "id": "6efd2e63",
   "metadata": {},
   "outputs": [
    {
     "name": "stdout",
     "output_type": "stream",
     "text": [
      "()\n",
      "<class 'tuple'>\n"
     ]
    }
   ],
   "source": [
    "## Creating a tuples\n",
    "empty_tuple = ()\n",
    "print(empty_tuple)  # Output: ()\n",
    "print(type(empty_tuple))  # Output: <class 'tuple'>"
   ]
  },
  {
   "cell_type": "code",
   "execution_count": 3,
   "id": "987a829e",
   "metadata": {},
   "outputs": [
    {
     "name": "stdout",
     "output_type": "stream",
     "text": [
      "[]\n",
      "<class 'list'>\n",
      "()\n",
      "<class 'tuple'>\n"
     ]
    }
   ],
   "source": [
    "lst = list()\n",
    "print(lst)  # Output: []\n",
    "print(type(lst))  # Output: <class 'list'>\n",
    "tpl = tuple()\n",
    "print(tpl)  # Output: ()\n",
    "print(type(tpl))  # Output: <class 'tuple'>"
   ]
  },
  {
   "cell_type": "code",
   "execution_count": 4,
   "id": "e8a91934",
   "metadata": {},
   "outputs": [
    {
     "data": {
      "text/plain": [
       "(1, 2, 3, 4, 5)"
      ]
     },
     "execution_count": 4,
     "metadata": {},
     "output_type": "execute_result"
    }
   ],
   "source": [
    "numbers=tuple([1,2,3,4,5])\n",
    "numbers"
   ]
  },
  {
   "cell_type": "code",
   "execution_count": 5,
   "id": "871a7207",
   "metadata": {},
   "outputs": [
    {
     "data": {
      "text/plain": [
       "[1, 2, 3, 4, 5]"
      ]
     },
     "execution_count": 5,
     "metadata": {},
     "output_type": "execute_result"
    }
   ],
   "source": [
    "list((1,2,3,4,5))"
   ]
  },
  {
   "cell_type": "code",
   "execution_count": 6,
   "id": "c942cd55",
   "metadata": {},
   "outputs": [
    {
     "name": "stdout",
     "output_type": "stream",
     "text": [
      "(1, 'Hello', 3.14, True)\n"
     ]
    }
   ],
   "source": [
    "mixed_tuple = (1, \"Hello\", 3.14, True)\n",
    "print(mixed_tuple)  # Output: (1, 'Hello', 3.14, True)"
   ]
  },
  {
   "cell_type": "code",
   "execution_count": 8,
   "id": "78c13916",
   "metadata": {},
   "outputs": [
    {
     "name": "stdout",
     "output_type": "stream",
     "text": [
      "10\n",
      "50\n",
      "(20, 30, 40)\n"
     ]
    }
   ],
   "source": [
    "## Accessing Tuple Elements\n",
    "numbers = (10, 20, 30, 40, 50)\n",
    "print(numbers[0])  # Output: 10\n",
    "print(numbers[-1]) # Output: 50\n",
    "print(numbers[1:4]) # Output: (20, 30, 40)"
   ]
  },
  {
   "cell_type": "code",
   "execution_count": 11,
   "id": "85138007",
   "metadata": {},
   "outputs": [
    {
     "name": "stdout",
     "output_type": "stream",
     "text": [
      "(1, 2, 3, 4, 5, 6)\n",
      "(1, 2, 3, 1, 2, 3)\n"
     ]
    }
   ],
   "source": [
    "## Tuples Operations\n",
    "tuple1 = (1, 2, 3)\n",
    "tuple2 = (4, 5, 6)\n",
    "# Concatenation\n",
    "combined = tuple1 + tuple2\n",
    "print(combined)  # Output: (1, 2, 3, 4, 5, 6)\n",
    "# Repetition\n",
    "repeated = tuple1 * 2\n",
    "print(repeated)  # Output: (1, 2, 3, 1, 2, 3)"
   ]
  },
  {
   "cell_type": "code",
   "execution_count": 15,
   "id": "e0f31bbc",
   "metadata": {},
   "outputs": [
    {
     "name": "stdout",
     "output_type": "stream",
     "text": [
      "[1, 2, 3]\n",
      "['hellow', 2, 3]\n"
     ]
    }
   ],
   "source": [
    "## Immutability of Tuples\n",
    "# Tuples cannot be changed after they are created\n",
    "\n",
    "lst=[1,2,3]\n",
    "print(lst)\n",
    "\n",
    "lst[0] = \"hellow\"\n",
    "print(lst)"
   ]
  },
  {
   "cell_type": "code",
   "execution_count": 16,
   "id": "d3ac5ea2",
   "metadata": {},
   "outputs": [
    {
     "name": "stdout",
     "output_type": "stream",
     "text": [
      "(1, 2, 3)\n"
     ]
    },
    {
     "ename": "TypeError",
     "evalue": "'tuple' object does not support item assignment",
     "output_type": "error",
     "traceback": [
      "\u001b[1;31m---------------------------------------------------------------------------\u001b[0m",
      "\u001b[1;31mTypeError\u001b[0m                                 Traceback (most recent call last)",
      "Cell \u001b[1;32mIn[16], line 4\u001b[0m\n\u001b[0;32m      1\u001b[0m tpl\u001b[38;5;241m=\u001b[39m(\u001b[38;5;241m1\u001b[39m,\u001b[38;5;241m2\u001b[39m,\u001b[38;5;241m3\u001b[39m)\n\u001b[0;32m      2\u001b[0m \u001b[38;5;28mprint\u001b[39m(tpl)\n\u001b[1;32m----> 4\u001b[0m tpl[\u001b[38;5;241m0\u001b[39m] \u001b[38;5;241m=\u001b[39m \u001b[38;5;124m\"\u001b[39m\u001b[38;5;124mhellow\u001b[39m\u001b[38;5;124m\"\u001b[39m\n\u001b[0;32m      5\u001b[0m \u001b[38;5;28mprint\u001b[39m(tpl)\n",
      "\u001b[1;31mTypeError\u001b[0m: 'tuple' object does not support item assignment"
     ]
    }
   ],
   "source": [
    "tpl=(1,2,3)\n",
    "print(tpl)\n",
    "\n",
    "tpl[0] = \"hellow\"\n",
    "print(tpl)"
   ]
  },
  {
   "cell_type": "code",
   "execution_count": 17,
   "id": "aab136c9",
   "metadata": {},
   "outputs": [
    {
     "name": "stdout",
     "output_type": "stream",
     "text": [
      "3\n",
      "3\n"
     ]
    }
   ],
   "source": [
    "## Tuple Methods\n",
    "# Tuples have only two built-in methods: count() and index()\n",
    "sample_tuple = (1, 2, 2, 3, 4, 2)\n",
    "print(sample_tuple.count(2))  # Output: 3\n",
    "print(sample_tuple.index(3))  # Output: 3"
   ]
  },
  {
   "cell_type": "code",
   "execution_count": 18,
   "id": "6be11578",
   "metadata": {},
   "outputs": [
    {
     "name": "stdout",
     "output_type": "stream",
     "text": [
      "(1, 'Hello', 3.14)\n",
      "1\n",
      "Hello\n",
      "3.14\n"
     ]
    }
   ],
   "source": [
    "## Packing and Unpacking Tuples\n",
    "packed_tuple = 1, \"Hello\", 3.14\n",
    "print(packed_tuple)  # Output: (1, 'Hello', 3.14)\n",
    "\n",
    "# Unpacking the tuple\n",
    "a, b, c = packed_tuple\n",
    "print(a)  # Output: 1\n",
    "print(b)  # Output: Hello\n",
    "print(c)  # Output: 3.14"
   ]
  },
  {
   "cell_type": "code",
   "execution_count": 19,
   "id": "f99ebffa",
   "metadata": {},
   "outputs": [
    {
     "name": "stdout",
     "output_type": "stream",
     "text": [
      "1\n",
      "[2, 3, 4]\n",
      "5\n"
     ]
    }
   ],
   "source": [
    "## Unpacking with *\n",
    "numbers = (1, 2, 3, 4, 5)\n",
    "first, *middle, last = numbers\n",
    "print(first)  # Output: 1\n",
    "print(middle)  # Output: [2, 3, 4]\n",
    "print(last)  # Output: 5"
   ]
  },
  {
   "cell_type": "code",
   "execution_count": 23,
   "id": "c4c0eacf",
   "metadata": {},
   "outputs": [
    {
     "name": "stdout",
     "output_type": "stream",
     "text": [
      "[1, [2, 3], [4, [5, 6]]]\n",
      "[2, 3]\n",
      "5\n",
      "(1, (2, 3), (4, (5, 6)))\n",
      "(2, 3)\n",
      "5\n"
     ]
    }
   ],
   "source": [
    "## Nested Lists\n",
    "nested_list = [1, [2, 3], [4, [5, 6]]]\n",
    "print(nested_list)  # Output: [1, [2, 3], [4, [5, 6]]]\n",
    "print(nested_list[1])  # Output: [2, 3]\n",
    "print(nested_list[2][1][0])  # Output: 5\n",
    "\n",
    "## Nested Tuples\n",
    "nested_tuple = (1, (2, 3), (4, (5, 6)))\n",
    "print(nested_tuple)  # Output: (1, (2, 3), (4, (5, 6)))\n",
    "print(nested_tuple[1])  # Output: (2, 3)\n",
    "print(nested_tuple[2][1][0])  # Output: 5"
   ]
  },
  {
   "cell_type": "code",
   "execution_count": 26,
   "id": "c89ddd38",
   "metadata": {},
   "outputs": [
    {
     "name": "stdout",
     "output_type": "stream",
     "text": [
      "1 \n",
      "2 3 \n",
      "4 (5, 6) \n"
     ]
    }
   ],
   "source": [
    "## Iterating Over nested tuples\n",
    "for sub_tuples in nested_tuple:\n",
    "    if isinstance(sub_tuples, tuple):\n",
    "        for item in sub_tuples:\n",
    "            print(item, end=\" \")\n",
    "    else:\n",
    "        print(sub_tuples, end=\" \")\n",
    "    print()"
   ]
  }
 ],
 "metadata": {
  "kernelspec": {
   "display_name": "base",
   "language": "python",
   "name": "python3"
  },
  "language_info": {
   "codemirror_mode": {
    "name": "ipython",
    "version": 3
   },
   "file_extension": ".py",
   "mimetype": "text/x-python",
   "name": "python",
   "nbconvert_exporter": "python",
   "pygments_lexer": "ipython3",
   "version": "3.13.5"
  }
 },
 "nbformat": 4,
 "nbformat_minor": 5
}

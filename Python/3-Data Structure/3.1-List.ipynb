{
 "cells": [
  {
   "cell_type": "markdown",
   "id": "4afb6394",
   "metadata": {},
   "source": [
    "# Introduction to Lists"
   ]
  },
  {
   "cell_type": "markdown",
   "id": "1878fbe7",
   "metadata": {},
   "source": [
    "- Lists are ordered, mutable (changeable) collections of items.\n",
    "- They can contain items of different data types, including numbers, strings, and even other lists."
   ]
  },
  {
   "cell_type": "markdown",
   "id": "086adde7",
   "metadata": {},
   "source": [
    "## Course Outline\n",
    "1. Introduction to Lists\n",
    "2. Creating Lists\n",
    "3. Accessing List Elements\n",
    "4. Modifying List Elements\n",
    "5. List Methods\n",
    "6. Slicing Lists\n",
    "7. Iterating Over Lists\n",
    "8. List Comprehensions\n",
    "9. Nested Lists\n",
    "10. Practical Examples and Exercises"
   ]
  },
  {
   "cell_type": "code",
   "execution_count": 1,
   "id": "b8b1dd4b",
   "metadata": {},
   "outputs": [
    {
     "name": "stdout",
     "output_type": "stream",
     "text": [
      "<class 'list'>\n"
     ]
    }
   ],
   "source": [
    "lst = []\n",
    "print(type(lst))"
   ]
  },
  {
   "cell_type": "code",
   "execution_count": 2,
   "id": "0a1f3892",
   "metadata": {},
   "outputs": [
    {
     "name": "stdout",
     "output_type": "stream",
     "text": [
      "['Alice', 'Bob', 'Charlie', 1, 2, 3, True, False]\n"
     ]
    }
   ],
   "source": [
    "name = [\"Alice\", \"Bob\", \"Charlie\", 1, 2, 3, True, False]\n",
    "print(name)"
   ]
  },
  {
   "cell_type": "code",
   "execution_count": 3,
   "id": "c1f30c69",
   "metadata": {},
   "outputs": [
    {
     "name": "stdout",
     "output_type": "stream",
     "text": [
      "[1, 'Hello', 3.14, True, None, [1, 2, 3], (4, 5), {'key': 'value'}]\n"
     ]
    }
   ],
   "source": [
    "mixed_list = [1, \"Hello\", 3.14, True, None, [1, 2, 3], (4, 5), {\"key\": \"value\"}]\n",
    "print(mixed_list)"
   ]
  },
  {
   "cell_type": "code",
   "execution_count": 9,
   "id": "b764b655",
   "metadata": {},
   "outputs": [
    {
     "name": "stdout",
     "output_type": "stream",
     "text": [
      "Iron Man\n",
      "['Thor', 'Hulk', 'Black Widow']\n",
      "['Thor', 'Hulk']\n",
      "['Iron Man', 'Thor']\n",
      "['Hulk', 'Black Widow']\n",
      "['Iron Man', 'Hulk']\n",
      "['Black Widow', 'Hulk', 'Thor', 'Iron Man']\n",
      "Black Widow\n",
      "[]\n"
     ]
    }
   ],
   "source": [
    "### Accessing List Elements\n",
    "marvel = [\"Iron Man\", \"Thor\", \"Hulk\", \"Black Widow\"]\n",
    "print(marvel[0])  # First element\n",
    "print(marvel[1:]) # From second element to end\n",
    "print(marvel[1:3]) # Slicing\n",
    "print(marvel[:2])  # First two elements\n",
    "print(marvel[2:])  # From third element to end\n",
    "print(marvel[::2]) # Every second element\n",
    "print(marvel[::-1]) # Reversed list\n",
    "print(marvel[-1]) # Last element\n",
    "print(marvel[-1:-3]) # Empty list "
   ]
  },
  {
   "cell_type": "code",
   "execution_count": 10,
   "id": "6895f5a7",
   "metadata": {},
   "outputs": [
    {
     "name": "stdout",
     "output_type": "stream",
     "text": [
      "['Captain America', 'Thor', 'Hulk', 'Black Widow']\n"
     ]
    }
   ],
   "source": [
    "## Modifying Lists Elements\n",
    "marvel[0] = \"Captain America\"\n",
    "print(marvel)"
   ]
  },
  {
   "cell_type": "code",
   "execution_count": 13,
   "id": "7efdbdc2",
   "metadata": {},
   "outputs": [
    {
     "name": "stdout",
     "output_type": "stream",
     "text": [
      "['Captain America', 'S', 'c', 'a', 'r', 'l', 'e', 't', ' ', 'W', 'i', 't', 'c', 'h']\n"
     ]
    }
   ],
   "source": [
    "marvel[1:] = \"Scarlet Witch\"\n",
    "print(marvel)"
   ]
  },
  {
   "cell_type": "code",
   "execution_count": 11,
   "id": "416a0f1e",
   "metadata": {},
   "outputs": [
    {
     "name": "stdout",
     "output_type": "stream",
     "text": [
      "['Captain America', 'Hawkeye', 'Scarlet Witch', 'Black Widow']\n"
     ]
    }
   ],
   "source": [
    "marvel[1:3] = [\"Hawkeye\", \"Scarlet Witch\"]\n",
    "print(marvel)"
   ]
  },
  {
   "cell_type": "code",
   "execution_count": 17,
   "id": "80688322",
   "metadata": {},
   "outputs": [
    {
     "name": "stdout",
     "output_type": "stream",
     "text": [
      "['apple', 'banana', 'cherry', 'orange']\n",
      "['apple', 'kiwi', 'banana', 'cherry', 'orange']\n",
      "['apple', 'kiwi', 'cherry', 'orange']\n",
      "['apple', 'kiwi', 'cherry']\n",
      "['apple', 'cherry', 'kiwi']\n",
      "['kiwi', 'cherry', 'apple']\n",
      "1\n",
      "1\n",
      "[]\n"
     ]
    }
   ],
   "source": [
    "## List Methods\n",
    "fruits = [\"apple\", \"banana\", \"cherry\"]\n",
    "fruits.append(\"orange\") # Add to the end\n",
    "print(fruits)\n",
    "fruits.insert(1, \"kiwi\") # Add at index 1\n",
    "print(fruits)\n",
    "fruits.remove(\"banana\") # Remove by value\n",
    "print(fruits)\n",
    "fruits.pop() # Remove last item\n",
    "print(fruits)\n",
    "fruits.sort() # Sort the list\n",
    "print(fruits)\n",
    "fruits.reverse() # Reverse the list\n",
    "print(fruits)\n",
    "print(fruits.index(\"cherry\")) # Find index of an item\n",
    "print(fruits.count(\"apple\")) # Count occurrences of an item\n",
    "fruits.clear() # Clear the list\n",
    "print(fruits)"
   ]
  },
  {
   "cell_type": "code",
   "execution_count": 19,
   "id": "ec214392",
   "metadata": {},
   "outputs": [
    {
     "name": "stdout",
     "output_type": "stream",
     "text": [
      "[3, 4, 5]\n",
      "[1, 2, 3, 4]\n",
      "[6, 7, 8, 9, 10]\n",
      "[1, 3, 5, 7, 9]\n",
      "[10, 9, 8, 7, 6, 5, 4, 3, 2, 1]\n",
      "[8, 9, 10]\n"
     ]
    }
   ],
   "source": [
    "## Slicing List\n",
    "numbers = [1, 2, 3, 4, 5, 6, 7, 8, 9, 10]\n",
    "print(numbers[2:5]) # Elements from index 2 to 4\n",
    "print(numbers[:4])  # First four elements\n",
    "print(numbers[5:])  # Elements from index 5 to end\n",
    "print(numbers[::2]) # Every second element\n",
    "print(numbers[::-1]) # Reversed list\n",
    "print(numbers[-3:]) # Last three elements"
   ]
  },
  {
   "cell_type": "code",
   "execution_count": 22,
   "id": "dc40a6e3",
   "metadata": {},
   "outputs": [
    {
     "name": "stdout",
     "output_type": "stream",
     "text": [
      "apple\n",
      "banana\n",
      "cherry\n",
      "apple\n",
      "banana\n",
      "cherry\n"
     ]
    }
   ],
   "source": [
    "## Iterating Over Lists\n",
    "fruits = [\"apple\", \"banana\", \"cherry\"]\n",
    "for fruit in fruits:\n",
    "    print(fruit)\n",
    "for i in range(len(fruits)):\n",
    "    print(fruits[i])"
   ]
  },
  {
   "cell_type": "code",
   "execution_count": 21,
   "id": "720964db",
   "metadata": {},
   "outputs": [
    {
     "name": "stdout",
     "output_type": "stream",
     "text": [
      "Index: 0, Fruit: apple\n",
      "Index: 1, Fruit: banana\n",
      "Index: 2, Fruit: cherry\n"
     ]
    }
   ],
   "source": [
    "## Iterating with index\n",
    "for index, fruit in enumerate(fruits):\n",
    "    print(f\"Index: {index}, Fruit: {fruit}\")"
   ]
  },
  {
   "cell_type": "code",
   "execution_count": 23,
   "id": "10d4931c",
   "metadata": {},
   "outputs": [
    {
     "name": "stdout",
     "output_type": "stream",
     "text": [
      "[0, 1, 4, 9, 16, 25, 36, 49, 64, 81]\n"
     ]
    }
   ],
   "source": [
    "## List Comprehensions\n",
    "let = []\n",
    "for x in range(10):\n",
    "    let.append(x**2)\n",
    "print(let)"
   ]
  },
  {
   "cell_type": "code",
   "execution_count": 24,
   "id": "7997362b",
   "metadata": {},
   "outputs": [
    {
     "data": {
      "text/plain": [
       "[0, 1, 4, 9, 16, 25, 36, 49, 64, 81]"
      ]
     },
     "execution_count": 24,
     "metadata": {},
     "output_type": "execute_result"
    }
   ],
   "source": [
    "[x**2 for x in range(10)] # List of numbers from 0 to 9"
   ]
  },
  {
   "cell_type": "markdown",
   "id": "78b32d10",
   "metadata": {},
   "source": [
    "## List Comprehensions Syntax\n",
    "\n",
    "Basics syntax         [expression for item in iterable if condition]\n",
    "\n",
    "with condition logic  [expression for item in iterable if condition]\n",
    "\n",
    "Nested list comprehensions [expression for item1 in iterable1 if condition1 for item2 in iterable2 if condition2 ...]"
   ]
  },
  {
   "cell_type": "code",
   "execution_count": 26,
   "id": "f9a8a5a3",
   "metadata": {},
   "outputs": [
    {
     "name": "stdout",
     "output_type": "stream",
     "text": [
      "[0, 1, 4, 9, 16, 25, 36, 49, 64, 81]\n"
     ]
    }
   ],
   "source": [
    "### Basic List Comprehensions Syntax\n",
    "## Basics syntax         [expression for item in iterable if condition]\n",
    "\n",
    "squares = [x**2 for x in range(10)]\n",
    "print(squares)"
   ]
  },
  {
   "cell_type": "code",
   "execution_count": 28,
   "id": "aeccbb23",
   "metadata": {},
   "outputs": [
    {
     "name": "stdout",
     "output_type": "stream",
     "text": [
      "[0, 2, 4, 6, 8]\n"
     ]
    }
   ],
   "source": [
    "### List Comprehensions with condition logic\n",
    "## with condition logic  [expression for item in iterable if condition]\n",
    "\n",
    "let=[]\n",
    "for i in range(10):\n",
    "    if i % 2 == 0:\n",
    "        let.append(i)\n",
    "print(let)"
   ]
  },
  {
   "cell_type": "code",
   "execution_count": 29,
   "id": "95ab6899",
   "metadata": {},
   "outputs": [
    {
     "data": {
      "text/plain": [
       "[0, 2, 4, 6, 8]"
      ]
     },
     "execution_count": 29,
     "metadata": {},
     "output_type": "execute_result"
    }
   ],
   "source": [
    "[num for num in range(10) if num % 2 == 0] # List of even numbers from 0 to 9"
   ]
  },
  {
   "cell_type": "code",
   "execution_count": 33,
   "id": "ce39a344",
   "metadata": {},
   "outputs": [
    {
     "name": "stdout",
     "output_type": "stream",
     "text": [
      "[(1, 'a'), (1, 'b'), (1, 'c'), (2, 'a'), (2, 'b'), (2, 'c'), (3, 'a'), (3, 'b'), (3, 'c')]\n"
     ]
    }
   ],
   "source": [
    "### Nested List Comprehensions\n",
    "lst1 = [1, 2, 3]\n",
    "lst2 = ['a', 'b', 'c']\n",
    "pairs = [(x, y) for x in lst1 for y in lst2]\n",
    "print(pairs)"
   ]
  },
  {
   "cell_type": "code",
   "execution_count": 30,
   "id": "f9e5cc6a",
   "metadata": {},
   "outputs": [
    {
     "name": "stdout",
     "output_type": "stream",
     "text": [
      "[(0, 1), (0, 2), (1, 0), (1, 2), (2, 0), (2, 1)]\n"
     ]
    }
   ],
   "source": [
    "### Nested List Comprehensions\n",
    "## Nested list comprehensions [expression for item1 in iterable1 if condition1 for item2 in iterable2 if condition2 ...]\n",
    "\n",
    "pairs = [(x, y) for x in range(3) for y in range(3) if x != y]\n",
    "print(pairs)"
   ]
  },
  {
   "cell_type": "code",
   "execution_count": 34,
   "id": "3fb973c6",
   "metadata": {},
   "outputs": [
    {
     "name": "stdout",
     "output_type": "stream",
     "text": [
      "[0, 1, 4, 9, 16, 25, 36, 49, 64, 81]\n"
     ]
    }
   ],
   "source": [
    "### List Comprehensions with function calls\n",
    "def square(x):\n",
    "    return x * x\n",
    "\n",
    "squared_numbers = [square(x) for x in range(10)]\n",
    "print(squared_numbers)"
   ]
  }
 ],
 "metadata": {
  "kernelspec": {
   "display_name": "base",
   "language": "python",
   "name": "python3"
  },
  "language_info": {
   "codemirror_mode": {
    "name": "ipython",
    "version": 3
   },
   "file_extension": ".py",
   "mimetype": "text/x-python",
   "name": "python",
   "nbconvert_exporter": "python",
   "pygments_lexer": "ipython3",
   "version": "3.13.5"
  }
 },
 "nbformat": 4,
 "nbformat_minor": 5
}

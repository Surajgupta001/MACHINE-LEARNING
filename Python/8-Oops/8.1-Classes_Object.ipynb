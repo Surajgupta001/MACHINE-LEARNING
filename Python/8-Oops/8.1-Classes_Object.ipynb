{
 "cells": [
  {
   "cell_type": "markdown",
   "id": "327dfb41",
   "metadata": {},
   "source": [
    "# Classes And Objects\n",
    "\n",
    "Object-oriented programming (OOP) is a programming paradigm that uses \"objects\" to represent data and methods to manipulate that data. In Python, everything is an object, and classes are blueprints for creating objects."
   ]
  },
  {
   "cell_type": "code",
   "execution_count": 1,
   "id": "91428796",
   "metadata": {},
   "outputs": [
    {
     "name": "stdout",
     "output_type": "stream",
     "text": [
      "<class '__main__.Car'>\n"
     ]
    }
   ],
   "source": [
    "### A class is a blueprint for creating objects. Attributes and methods are associated with a class.\n",
    "\n",
    "class Car:\n",
    "    pass\n",
    "\n",
    "audi = Car()\n",
    "bmw = Car()\n",
    "\n",
    "print(type(audi))"
   ]
  },
  {
   "cell_type": "code",
   "execution_count": 3,
   "id": "3efe877f",
   "metadata": {},
   "outputs": [
    {
     "name": "stdout",
     "output_type": "stream",
     "text": [
      "<__main__.Car object at 0x00000270CB797CB0>\n",
      "<__main__.Car object at 0x00000270CB77CCD0>\n"
     ]
    }
   ],
   "source": [
    "print(audi)\n",
    "print(bmw)"
   ]
  },
  {
   "cell_type": "code",
   "execution_count": 4,
   "id": "63cbc1ec",
   "metadata": {},
   "outputs": [
    {
     "data": {
      "text/plain": [
       "['__class__',\n",
       " '__delattr__',\n",
       " '__dict__',\n",
       " '__dir__',\n",
       " '__doc__',\n",
       " '__eq__',\n",
       " '__firstlineno__',\n",
       " '__format__',\n",
       " '__ge__',\n",
       " '__getattribute__',\n",
       " '__getstate__',\n",
       " '__gt__',\n",
       " '__hash__',\n",
       " '__init__',\n",
       " '__init_subclass__',\n",
       " '__le__',\n",
       " '__lt__',\n",
       " '__module__',\n",
       " '__ne__',\n",
       " '__new__',\n",
       " '__reduce__',\n",
       " '__reduce_ex__',\n",
       " '__repr__',\n",
       " '__setattr__',\n",
       " '__sizeof__',\n",
       " '__static_attributes__',\n",
       " '__str__',\n",
       " '__subclasshook__',\n",
       " '__weakref__']"
      ]
     },
     "execution_count": 4,
     "metadata": {},
     "output_type": "execute_result"
    }
   ],
   "source": [
    "dir(audi)"
   ]
  },
  {
   "cell_type": "code",
   "execution_count": 7,
   "id": "eb271572",
   "metadata": {},
   "outputs": [
    {
     "name": "stdout",
     "output_type": "stream",
     "text": [
      "<__main__.Dogs object at 0x00000270CB947E00>\n",
      "Bruno\n",
      "5\n"
     ]
    }
   ],
   "source": [
    "### Instance Variables and Methods\n",
    "class Dogs:\n",
    "    ## Constructor\n",
    "    def __init__(self, name, age):\n",
    "        # Instance Variables\n",
    "        self.name = name\n",
    "        self.age = age\n",
    "\n",
    "# Create Objects\n",
    "dog1 = Dogs(\"Bruno\", 5)\n",
    "print(dog1)\n",
    "print(dog1.name)\n",
    "print(dog1.age)\n",
    "        "
   ]
  },
  {
   "cell_type": "code",
   "execution_count": 8,
   "id": "f7bafe33",
   "metadata": {},
   "outputs": [
    {
     "name": "stdout",
     "output_type": "stream",
     "text": [
      "Tommy\n",
      "3\n"
     ]
    }
   ],
   "source": [
    "dog2 = Dogs(\"Tommy\", 3)\n",
    "print(dog2.name)\n",
    "print(dog2.age)"
   ]
  },
  {
   "cell_type": "code",
   "execution_count": null,
   "id": "bcb79793",
   "metadata": {},
   "outputs": [
    {
     "name": "stdout",
     "output_type": "stream",
     "text": [
      "Buddy says Woof!\n",
      "4\n",
      "Buddy\n",
      "4\n"
     ]
    }
   ],
   "source": [
    "## Define a class with instance methods\n",
    "class Dog:\n",
    "    def __init__(self, name, age):\n",
    "        self.name = name\n",
    "        self.age = age\n",
    "\n",
    "    # Instance Method\n",
    "    def bark(self):\n",
    "        return f\"{self.name} says Woof!\"\n",
    "\n",
    "    def get_age(self):\n",
    "        return self.age\n",
    "\n",
    "# Create an object of the Dog class\n",
    "dog = Dog(\"Buddy\", 4)\n",
    "print(dog.bark())\n",
    "print(dog.get_age())\n",
    "print(dog.name)\n",
    "print(dog.age)"
   ]
  },
  {
   "cell_type": "code",
   "execution_count": 10,
   "id": "5ec4e0df",
   "metadata": {},
   "outputs": [
    {
     "name": "stdout",
     "output_type": "stream",
     "text": [
      "Alice\n",
      "1000\n",
      "Deposited: 500. New balance: 1500\n",
      "Withdrew: 200. New balance: 1300\n",
      "Insufficient funds\n",
      "1300\n"
     ]
    }
   ],
   "source": [
    "### Modeling a Back Account\n",
    "\n",
    "## Define a class for bank account\n",
    "class BankAccount:\n",
    "    def __init__(self, owner, balance=0):\n",
    "        self.owner = owner\n",
    "        self.balance = balance\n",
    "        \n",
    "    def deposite(self, amount):\n",
    "        self.balance += amount\n",
    "        print(f\"Deposited: {amount}. New balance: {self.balance}\")\n",
    "        \n",
    "    def withdraw(self, amount):\n",
    "        if amount > self.balance:\n",
    "            print(\"Insufficient funds\")\n",
    "        else:\n",
    "            self.balance -= amount\n",
    "            print(f\"Withdrew: {amount}. New balance: {self.balance}\")\n",
    "            \n",
    "    def get_balance(self):\n",
    "        return self.balance\n",
    "    \n",
    "# Create an object of BankAccount\n",
    "account = BankAccount(\"Alice\", 1000)\n",
    "print(account.owner)\n",
    "print(account.get_balance())\n",
    "account.deposite(500)\n",
    "account.withdraw(200)\n",
    "account.withdraw(2000)  # Should show insufficient funds\n",
    "print(account.get_balance())"
   ]
  }
 ],
 "metadata": {
  "kernelspec": {
   "display_name": "base",
   "language": "python",
   "name": "python3"
  },
  "language_info": {
   "codemirror_mode": {
    "name": "ipython",
    "version": 3
   },
   "file_extension": ".py",
   "mimetype": "text/x-python",
   "name": "python",
   "nbconvert_exporter": "python",
   "pygments_lexer": "ipython3",
   "version": "3.13.5"
  }
 },
 "nbformat": 4,
 "nbformat_minor": 5
}

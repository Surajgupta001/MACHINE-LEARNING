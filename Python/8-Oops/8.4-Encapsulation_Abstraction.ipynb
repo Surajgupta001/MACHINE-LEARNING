{
 "cells": [
  {
   "cell_type": "markdown",
   "id": "0587f273",
   "metadata": {},
   "source": [
    "# Encapsulation And Abstraction In Python\n",
    "\n",
    "Encapsulation and abstraction are two fundamental concepts in object-oriented programming (OOP) that help in designing robust and maintainable, and resuable code. Encapsulation involves bundling the data (attributes) and methods (functions) that operate on the data into a single unit, typically a class. Abstraction, on the other hand, is the concept of hiding the complex implementation details and exposing only the necessary and relevant parts of an object."
   ]
  },
  {
   "cell_type": "markdown",
   "id": "4346a3b7",
   "metadata": {},
   "source": [
    "# Encapsulation\n",
    "\n",
    "Encapsulation is the concept of wrapping data (attributes) and methods (functions) into a single unit, typically a class. It restricts direct access to some of an object's components, which can prevent the accidental modification of data. In Python, encapsulation is implemented using access specifiers: public, protected, and private."
   ]
  },
  {
   "cell_type": "code",
   "execution_count": 6,
   "id": "7a2d7685",
   "metadata": {},
   "outputs": [
    {
     "name": "stdout",
     "output_type": "stream",
     "text": [
      "Alice\n",
      "Alice\n"
     ]
    }
   ],
   "source": [
    "## Encapsulation with Getter and Setter Methods\n",
    "class Person:\n",
    "    def __init__(self, name, age):\n",
    "        self.name = name  # Public attribute\n",
    "        self.age = age    # Public attribute\n",
    "\n",
    "# Getter method\n",
    "def get_name(self):\n",
    "        return self.name\n",
    "\n",
    "person = Person(\"Alice\", 30)\n",
    "print(person.name)  # Accessing public attribute directly\n",
    "print(get_name(person)) # Accessing via getter method"
   ]
  },
  {
   "cell_type": "code",
   "execution_count": 7,
   "id": "156b2977",
   "metadata": {},
   "outputs": [
    {
     "data": {
      "text/plain": [
       "['__class__',\n",
       " '__delattr__',\n",
       " '__dict__',\n",
       " '__dir__',\n",
       " '__doc__',\n",
       " '__eq__',\n",
       " '__firstlineno__',\n",
       " '__format__',\n",
       " '__ge__',\n",
       " '__getattribute__',\n",
       " '__getstate__',\n",
       " '__gt__',\n",
       " '__hash__',\n",
       " '__init__',\n",
       " '__init_subclass__',\n",
       " '__le__',\n",
       " '__lt__',\n",
       " '__module__',\n",
       " '__ne__',\n",
       " '__new__',\n",
       " '__reduce__',\n",
       " '__reduce_ex__',\n",
       " '__repr__',\n",
       " '__setattr__',\n",
       " '__sizeof__',\n",
       " '__static_attributes__',\n",
       " '__str__',\n",
       " '__subclasshook__',\n",
       " '__weakref__',\n",
       " 'age',\n",
       " 'name']"
      ]
     },
     "execution_count": 7,
     "metadata": {},
     "output_type": "execute_result"
    }
   ],
   "source": [
    "dir(person)"
   ]
  },
  {
   "cell_type": "code",
   "execution_count": 13,
   "id": "4f01b461",
   "metadata": {},
   "outputs": [
    {
     "name": "stdout",
     "output_type": "stream",
     "text": [
      "Alice\n",
      "35\n"
     ]
    },
    {
     "ename": "AttributeError",
     "evalue": "'Person' object has no attribute '__name'",
     "output_type": "error",
     "traceback": [
      "\u001b[1;31m---------------------------------------------------------------------------\u001b[0m",
      "\u001b[1;31mAttributeError\u001b[0m                            Traceback (most recent call last)",
      "Cell \u001b[1;32mIn[13], line 30\u001b[0m\n\u001b[0;32m     28\u001b[0m person\u001b[38;5;241m.\u001b[39mset_age(\u001b[38;5;241m35\u001b[39m)        \u001b[38;5;66;03m# Modifying private attribute via setter method\u001b[39;00m\n\u001b[0;32m     29\u001b[0m \u001b[38;5;28mprint\u001b[39m(person\u001b[38;5;241m.\u001b[39mget_age())\n\u001b[1;32m---> 30\u001b[0m \u001b[38;5;28mprint\u001b[39m(person\u001b[38;5;241m.\u001b[39m__name)  \u001b[38;5;66;03m# This will raise an AttributeError\u001b[39;00m\n\u001b[0;32m     31\u001b[0m \u001b[38;5;28mdir\u001b[39m(person)\n",
      "\u001b[1;31mAttributeError\u001b[0m: 'Person' object has no attribute '__name'"
     ]
    }
   ],
   "source": [
    "class Person:\n",
    "    def __init__(self, name, age):\n",
    "        self.__name = name  # Private attribute\n",
    "        self.__age = age    # Private attribute\n",
    "\n",
    "    # Getter method for name\n",
    "    def get_name(self):\n",
    "        return self.__name\n",
    "\n",
    "    # Setter method for name\n",
    "    def set_name(self, name):\n",
    "        self.__name = name\n",
    "\n",
    "    # Getter method for age\n",
    "    def get_age(self):\n",
    "        return self.__age\n",
    "\n",
    "    # Setter method for age\n",
    "    def set_age(self, age):\n",
    "        if age >= 0:\n",
    "            self.__age = age\n",
    "        else:\n",
    "            print(\"Age cannot be negative\")\n",
    "\n",
    "\n",
    "person = Person(\"Alice\", 30)\n",
    "print(person.get_name())  # Accessing private attribute via getter method\n",
    "person.set_age(35)        # Modifying private attribute via setter method\n",
    "print(person.get_age())\n",
    "print(person.__name)  # This will raise an AttributeError\n",
    "dir(person)"
   ]
  },
  {
   "cell_type": "code",
   "execution_count": 15,
   "id": "67e4f683",
   "metadata": {},
   "outputs": [
    {
     "name": "stdout",
     "output_type": "stream",
     "text": [
      "Bob\n",
      "E123\n"
     ]
    },
    {
     "data": {
      "text/plain": [
       "['__class__',\n",
       " '__delattr__',\n",
       " '__dict__',\n",
       " '__dir__',\n",
       " '__doc__',\n",
       " '__eq__',\n",
       " '__firstlineno__',\n",
       " '__format__',\n",
       " '__ge__',\n",
       " '__getattribute__',\n",
       " '__getstate__',\n",
       " '__gt__',\n",
       " '__hash__',\n",
       " '__init__',\n",
       " '__init_subclass__',\n",
       " '__le__',\n",
       " '__lt__',\n",
       " '__module__',\n",
       " '__ne__',\n",
       " '__new__',\n",
       " '__reduce__',\n",
       " '__reduce_ex__',\n",
       " '__repr__',\n",
       " '__setattr__',\n",
       " '__sizeof__',\n",
       " '__static_attributes__',\n",
       " '__str__',\n",
       " '__subclasshook__',\n",
       " '__weakref__',\n",
       " '_age',\n",
       " '_name',\n",
       " 'employee_id']"
      ]
     },
     "execution_count": 15,
     "metadata": {},
     "output_type": "execute_result"
    }
   ],
   "source": [
    "class Person:\n",
    "    def __init__(self, name, age):\n",
    "        self._name = name  # Protected attribute\n",
    "        self._age = age    # Protected attribute\n",
    "        \n",
    "class Employee(Person):\n",
    "    def __init__(self, name, age, employee_id):\n",
    "        super().__init__(name, age)\n",
    "        self.employee_id = employee_id  # Public attribute\n",
    "        \n",
    "emp = Employee(\"Bob\", 28, \"E123\")\n",
    "print(emp._name)  # Accessing protected attribute from subclass\n",
    "print(emp.employee_id)  # Accessing public attribute\n",
    "dir(emp)"
   ]
  }
 ],
 "metadata": {
  "kernelspec": {
   "display_name": "base",
   "language": "python",
   "name": "python3"
  },
  "language_info": {
   "codemirror_mode": {
    "name": "ipython",
    "version": 3
   },
   "file_extension": ".py",
   "mimetype": "text/x-python",
   "name": "python",
   "nbconvert_exporter": "python",
   "pygments_lexer": "ipython3",
   "version": "3.13.5"
  }
 },
 "nbformat": 4,
 "nbformat_minor": 5
}

{
 "cells": [
  {
   "cell_type": "markdown",
   "id": "1c4a45ac",
   "metadata": {},
   "source": [
    "# Operator Overloading\n",
    "\n",
    "Operator overloading in Python allows you to define custom behavior for operators (like +, -, *, etc.) when they are used with instances of your classes. This is done by implementing special methods in your class that correspond to the operators you want to overload.\n",
    "\n",
    "## Commonly Used Operators and Their Corresponding Magic Methods\n",
    "\n",
    "Here are some commonly used operators and their corresponding magic methods:\n",
    "\n",
    "`__add__(self, other)`: Overloads the + operator.\n",
    "`__sub__(self, other)`: Overloads the - operator.\n",
    "`__mul__(self, other)`: Overloads the * operator.\n",
    "`__truediv__(self, other)`: Overloads the / operator.\n",
    "`__floordiv__(self, other)`: Overloads the // operator.\n",
    "`__mod__(self, other)`: Overloads the % operator.\n",
    "`__pow__(self, other)`: Overloads the ** operator.\n",
    "`__eq__(self, other)`: Overloads the == operator.\n",
    "`__ne__(self, other)`: Overloads the != operator.\n",
    "`__lt__(self, other)`: Overloads the < operator."
   ]
  },
  {
   "cell_type": "code",
   "execution_count": 1,
   "id": "3454a3f7",
   "metadata": {},
   "outputs": [
    {
     "data": {
      "text/plain": [
       "0"
      ]
     },
     "execution_count": 1,
     "metadata": {},
     "output_type": "execute_result"
    }
   ],
   "source": [
    "1-1"
   ]
  },
  {
   "cell_type": "code",
   "execution_count": 2,
   "id": "bd03b2cc",
   "metadata": {},
   "outputs": [
    {
     "data": {
      "text/plain": [
       "True"
      ]
     },
     "execution_count": 2,
     "metadata": {},
     "output_type": "execute_result"
    }
   ],
   "source": [
    "12 > 6"
   ]
  },
  {
   "cell_type": "code",
   "execution_count": 8,
   "id": "aa1d8d91",
   "metadata": {},
   "outputs": [
    {
     "name": "stdout",
     "output_type": "stream",
     "text": [
      "Vector(6, 8)\n",
      "Vector(-2, -2)\n",
      "Vector(8, 15)\n",
      "Vector(0.5, 0.6)\n",
      "Vector(0, 0)\n",
      "Vector(2, 3)\n",
      "Vector(16, 243)\n",
      "False\n",
      "True\n",
      "True\n",
      "False\n"
     ]
    }
   ],
   "source": [
    "class Vector:\n",
    "    def __init__(self, x, y):\n",
    "        self.x = x\n",
    "        self.y = y\n",
    "\n",
    "    def __repr__(self):  # minimal addition so print() shows something readable\n",
    "        return f\"Vector({self.x}, {self.y})\"\n",
    "\n",
    "    def __add__(self, other):\n",
    "        return Vector(self.x + other.x, self.y + other.y)\n",
    "\n",
    "    def __sub__(self, other):\n",
    "        return Vector(self.x - other.x, self.y - other.y)\n",
    "\n",
    "    def __mul__(self, other):\n",
    "        return Vector(self.x * other.x, self.y * other.y)\n",
    "\n",
    "    def __truediv__(self, other):\n",
    "        return Vector(self.x / other.x, self.y / other.y)\n",
    "\n",
    "    def __floordiv__(self, other):\n",
    "        return Vector(self.x // other.x, self.y // other.y)\n",
    "\n",
    "    def __mod__(self, other):\n",
    "        return Vector(self.x % other.x, self.y % other.y)\n",
    "\n",
    "    def __pow__(self, other):\n",
    "        return Vector(self.x ** other.x, self.y ** other.y)\n",
    "\n",
    "    def __eq__(self, other):\n",
    "        return self.x == other.x and self.y == other.y\n",
    "\n",
    "    def __ne__(self, other):\n",
    "        return self.x != other.x or self.y != other.y\n",
    "\n",
    "    def __lt__(self, other):\n",
    "        return self.x < other.x and self.y < other.y\n",
    "    \n",
    "## Create a objects of Vector class\n",
    "v1 = Vector(2, 3)\n",
    "v2 = Vector(4, 5)\n",
    "\n",
    "print(v1 + v2) # Vector(6, 8)\n",
    "print(v1 - v2) # Vector(-2, -2)\n",
    "print(v1 * v2) # Vector(8, 15)\n",
    "print(v1 / v2) # Vector(0.5, 0.6)\n",
    "print(v1 // v2) # Vector(0, 0)\n",
    "print(v1 % v2) # Vector(2, 3)\n",
    "print(v1 ** v2) # Vector(16, 243)\n",
    "print(v1 == v2) # False\n",
    "print(v1 != v2) # True\n",
    "print(v1 < v2) # True\n",
    "print(v1 > v2) # False"
   ]
  },
  {
   "cell_type": "code",
   "execution_count": 10,
   "id": "f8143e68",
   "metadata": {},
   "outputs": [
    {
     "name": "stdout",
     "output_type": "stream",
     "text": [
      "ComplexNumber(6, 8)\n",
      "ComplexNumber(-2, -2)\n",
      "ComplexNumber(-7, 22)\n",
      "ComplexNumber(0.5609756097560976, 0.04878048780487805)\n",
      "False\n",
      "True\n"
     ]
    }
   ],
   "source": [
    "### Overloading Operators for complex numbers\n",
    "\n",
    "class ComplexNumber:\n",
    "    def __init__(self, real, imag):\n",
    "        self.real = real\n",
    "        self.imag = imag\n",
    "\n",
    "    def __repr__(self):\n",
    "        return f\"ComplexNumber({self.real}, {self.imag})\"\n",
    "\n",
    "    def __add__(self, other):\n",
    "        return ComplexNumber(self.real + other.real, self.imag + other.imag)\n",
    "\n",
    "    def __sub__(self, other):\n",
    "        return ComplexNumber(self.real - other.real, self.imag - other.imag)\n",
    "\n",
    "    def __mul__(self, other):\n",
    "        return ComplexNumber(self.real * other.real - self.imag * other.imag,\n",
    "                             self.real * other.imag + self.imag * other.real)\n",
    "\n",
    "    def __truediv__(self, other):\n",
    "        denom = other.real**2 + other.imag**2\n",
    "        return ComplexNumber((self.real * other.real + self.imag * other.imag) / denom,\n",
    "                             (self.imag * other.real - self.real * other.imag) / denom)\n",
    "\n",
    "    def __eq__(self, other):\n",
    "        return self.real == other.real and self.imag == other.imag\n",
    "\n",
    "    def __ne__(self, other):\n",
    "        return not self == other\n",
    "\n",
    "    def __lt__(self, other):\n",
    "        return (self.real**2 + self.imag**2) < (other.real**2 + other.imag**2)\n",
    "\n",
    "    def __gt__(self, other):\n",
    "        return (self.real**2 + self.imag**2) > (other.real**2 + other.imag**2)\n",
    "    \n",
    "\n",
    "# Create objects of ComplexNumber class\n",
    "c1 = ComplexNumber(2, 3)\n",
    "c2 = ComplexNumber(4, 5)\n",
    "\n",
    "print(c1 + c2)  # ComplexNumber(6, 8)\n",
    "print(c1 - c2)  # ComplexNumber(-2, -2)\n",
    "print(c1 * c2)  # ComplexNumber(-7, 22)\n",
    "print(c1 / c2)  # ComplexNumber(0.61, 0.08)\n",
    "print(c1 == c2) # False\n",
    "print(c1 != c2) # True"
   ]
  }
 ],
 "metadata": {
  "kernelspec": {
   "display_name": "base",
   "language": "python",
   "name": "python3"
  },
  "language_info": {
   "codemirror_mode": {
    "name": "ipython",
    "version": 3
   },
   "file_extension": ".py",
   "mimetype": "text/x-python",
   "name": "python",
   "nbconvert_exporter": "python",
   "pygments_lexer": "ipython3",
   "version": "3.13.5"
  }
 },
 "nbformat": 4,
 "nbformat_minor": 5
}

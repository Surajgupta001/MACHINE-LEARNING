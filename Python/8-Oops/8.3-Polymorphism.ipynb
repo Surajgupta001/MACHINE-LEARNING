{
 "cells": [
  {
   "cell_type": "markdown",
   "id": "42477dd0",
   "metadata": {},
   "source": [
    "# Polymorphism\n",
    "\n",
    "Polymorphism is a core concept in object-oriented programming that allows objects of different classes to be treated as objects of a common superclass. It enables a single interface to represent different underlying forms (data types)."
   ]
  },
  {
   "cell_type": "markdown",
   "id": "2836add7",
   "metadata": {},
   "source": [
    "## Method Overriding\n",
    "- When a child class provides a specific implementation of a method that is already defined in its parent class, it is known as method overriding.\n",
    "- This allows the child class to modify or extend the behavior of the inherited method.\n"
   ]
  },
  {
   "cell_type": "code",
   "execution_count": 3,
   "id": "02b2ed3d",
   "metadata": {},
   "outputs": [
    {
     "name": "stdout",
     "output_type": "stream",
     "text": [
      "Dog barks\n",
      "Cat meows\n"
     ]
    }
   ],
   "source": [
    "# Base Class\n",
    "class Animal:\n",
    "    def speak(self):\n",
    "        return \"Animal speaks\"\n",
    "\n",
    "# Derived Classes\n",
    "class Dog(Animal):\n",
    "    def speak(self):\n",
    "        return \"Dog barks\"\n",
    "\n",
    "# Another Derived Class\n",
    "class Cat(Animal):\n",
    "    def speak(self):\n",
    "        return \"Cat meows\"\n",
    "\n",
    "# Function that demonstrates polymorphism\n",
    "def animal_sound(animal):\n",
    "    print(animal.speak())\n",
    "\n",
    "# Creating instances of different classes\n",
    "dog = Dog()\n",
    "cat = Cat()\n",
    "animal_sound(dog)  # Output: Dog barks\n",
    "animal_sound(cat)  # Output: Cat meows"
   ]
  },
  {
   "cell_type": "code",
   "execution_count": 4,
   "id": "8f3c8331",
   "metadata": {},
   "outputs": [
    {
     "name": "stdout",
     "output_type": "stream",
     "text": [
      "Area: 50\n",
      "Area: 153.86\n"
     ]
    }
   ],
   "source": [
    "### Polymorphism with functions and methods\n",
    "# Base class\n",
    "class Shape:\n",
    "    def area(self):\n",
    "        return \"The area of the shape\"\n",
    "    \n",
    "# Derived class - Rectangle\n",
    "class Rectangle(Shape):\n",
    "    def __init__(self, width, height):\n",
    "        self.width = width\n",
    "        self.height = height\n",
    "    \n",
    "    def area(self):\n",
    "        return self.width * self.height\n",
    "    \n",
    "# Derived class - Circle\n",
    "class Circle(Shape):\n",
    "    def __init__(self, radius):\n",
    "        self.radius = radius\n",
    "    \n",
    "    def area(self):\n",
    "        return 3.14 * self.radius * self.radius\n",
    "    \n",
    "## Function to demonstrate polymorphism\n",
    "def print_area(shape):\n",
    "    print(\"Area:\", shape.area())\n",
    "\n",
    "# Creating instances of different shapes\n",
    "rect = Rectangle(5, 10)\n",
    "circ = Circle(7)\n",
    "print_area(rect)  # Output: Area: 50\n",
    "print_area(circ)  # Output: Area: 153.86"
   ]
  },
  {
   "cell_type": "markdown",
   "id": "da34659c",
   "metadata": {},
   "source": [
    "## Polymorphism with Abstract Base Classes\n",
    "\n",
    "Abstract Base Classes (ABCs) are used to define a common interface for a group of related objects. They can enforce that derived classes implement particular methods, promoting a consistency across different classes implementing the same interface."
   ]
  },
  {
   "cell_type": "code",
   "execution_count": 5,
   "id": "d3d9e081",
   "metadata": {},
   "outputs": [
    {
     "name": "stdout",
     "output_type": "stream",
     "text": [
      "Car engine started\n",
      "Motorcycle engine started\n"
     ]
    }
   ],
   "source": [
    "from abc import ABC, abstractmethod\n",
    "\n",
    "## Define an abstract classes\n",
    "class Vehicle(ABC):\n",
    "    @abstractmethod\n",
    "    def start_engine(self):\n",
    "        pass\n",
    "    \n",
    "# Derived class - Car\n",
    "class Car(Vehicle):\n",
    "    def start_engine(self):\n",
    "        return \"Car engine started\"\n",
    "    \n",
    "# Derived class - Motorcycle\n",
    "class Motorcycle(Vehicle):\n",
    "    def start_engine(self):\n",
    "        return \"Motorcycle engine started\"\n",
    "    \n",
    "# Create objects of different vehicle types\n",
    "car = Car()\n",
    "motorcycle = Motorcycle()\n",
    "\n",
    "print(car.start_engine())        # Output: Car engine started\n",
    "print(motorcycle.start_engine()) # Output: Motorcycle engine started"
   ]
  }
 ],
 "metadata": {
  "kernelspec": {
   "display_name": "base",
   "language": "python",
   "name": "python3"
  },
  "language_info": {
   "codemirror_mode": {
    "name": "ipython",
    "version": 3
   },
   "file_extension": ".py",
   "mimetype": "text/x-python",
   "name": "python",
   "nbconvert_exporter": "python",
   "pygments_lexer": "ipython3",
   "version": "3.13.5"
  }
 },
 "nbformat": 4,
 "nbformat_minor": 5
}

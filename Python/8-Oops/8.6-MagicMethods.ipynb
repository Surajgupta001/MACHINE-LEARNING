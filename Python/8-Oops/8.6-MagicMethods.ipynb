{
 "cells": [
  {
   "cell_type": "markdown",
   "id": "ca1aff0f",
   "metadata": {},
   "source": [
    "# Magic Methods\n",
    "\n",
    "Magic methods in Python, also known as dunder methods (short for \"double underscore\"), are special methods that you can define to add \"magic\" to your classes. They are always surrounded by double underscores (e.g., `__init__`, `__str__`, `__add__`). These methods allow you to define how your objects behave with built-in operations and functions."
   ]
  },
  {
   "cell_type": "markdown",
   "id": "a780bbf0",
   "metadata": {},
   "source": [
    "## Magic Methods\n",
    "\n",
    "Magic methods are predefined methods in Python that you can override to customize the behavior of your objects. Here are some commonly used magic methods:\n",
    "\n",
    "- `__init__`: Called when an instance of the class is created. It initializes the object's attributes.\n",
    "- `__str__`: Defines the string representation of the object, used by the str() function and print statements.\n",
    "- `__repr__`: Defines the official string representation of the object, used by the repr() function and in interactive sessions.\n",
    "- `__len__`: Defines the behavior of the len() function for the object.\n",
    "- `__getitem__`: Defines the behavior of indexing (e.g., obj[key]).\n",
    "- `__setitem__`: Defines the behavior of item assignment (e.g., obj[key] = value)."
   ]
  },
  {
   "cell_type": "code",
   "execution_count": null,
   "id": "a1589582",
   "metadata": {},
   "outputs": [
    {
     "name": "stdout",
     "output_type": "stream",
     "text": [
      "<__main__.Person object at 0x00000208DC8FBA10>\n"
     ]
    }
   ],
   "source": [
    "## Basic Magic Methods\n",
    "\n",
    "class Person:\n",
    "    def __init__(self, name, age):\n",
    "        self.name = name\n",
    "        self.age = age\n",
    "\n",
    "person = Person(\"John\", 30)\n",
    "print(person) "
   ]
  },
  {
   "cell_type": "code",
   "execution_count": 5,
   "id": "130e0f1e",
   "metadata": {},
   "outputs": [
    {
     "name": "stdout",
     "output_type": "stream",
     "text": [
      "Person(name=John, age=30)\n",
      "Person(name=John, age=30)\n"
     ]
    }
   ],
   "source": [
    "## Basic Magic Methods\n",
    "\n",
    "class Person:\n",
    "    def __init__(self, name, age):\n",
    "        self.name = name\n",
    "        self.age = age\n",
    "        \n",
    "    def __str__(self):\n",
    "        return f\"Person(name={self.name}, age={self.age})\"\n",
    "    \n",
    "    def __repr__(self):\n",
    "        return f\"Person(name={self.name}, age={self.age})\"\n",
    "\n",
    "person = Person(\"John\", 30)\n",
    "print(person) \n",
    "print(repr(person))"
   ]
  }
 ],
 "metadata": {
  "kernelspec": {
   "display_name": "base",
   "language": "python",
   "name": "python3"
  },
  "language_info": {
   "codemirror_mode": {
    "name": "ipython",
    "version": 3
   },
   "file_extension": ".py",
   "mimetype": "text/x-python",
   "name": "python",
   "nbconvert_exporter": "python",
   "pygments_lexer": "ipython3",
   "version": "3.13.5"
  }
 },
 "nbformat": 4,
 "nbformat_minor": 5
}

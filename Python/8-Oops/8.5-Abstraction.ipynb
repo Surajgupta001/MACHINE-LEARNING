{
 "cells": [
  {
   "cell_type": "markdown",
   "id": "1e3b5907",
   "metadata": {},
   "source": [
    "# Abstraction\n",
    "\n",
    "Abstraction is the concept of hiding the complex reality while exposing only the necessary parts. It is a fundamental principle in software engineering and programming that helps manage complexity by reducing and simplifying the interactions with systems."
   ]
  },
  {
   "cell_type": "code",
   "execution_count": 3,
   "id": "d7faf09d",
   "metadata": {},
   "outputs": [
    {
     "name": "stdout",
     "output_type": "stream",
     "text": [
      "Car engine started\n",
      "Driving\n",
      "Bike engine started\n",
      "Driving\n"
     ]
    }
   ],
   "source": [
    "from abc import ABC, abstractmethod\n",
    "\n",
    "## Abstract class\n",
    "class Vehicle(ABC):\n",
    "    def drive(self):\n",
    "        print(\"Driving\")\n",
    "        \n",
    "    @abstractmethod\n",
    "    def start_engine(self):\n",
    "        pass\n",
    "\n",
    "class Car(Vehicle):\n",
    "    def start_engine(self):\n",
    "        print(\"Car engine started\")\n",
    "        \n",
    "class Bike(Vehicle):\n",
    "    def start_engine(self):\n",
    "        print(\"Bike engine started\")\n",
    "\n",
    "def operate_vehicle(vehicle):\n",
    "    vehicle.start_engine()\n",
    "    vehicle.drive()\n",
    "    \n",
    "car = Car()\n",
    "operate_vehicle(car)  # Output: Car engine started\n",
    "bike = Bike()\n",
    "operate_vehicle(bike)  # Output: Bike engine started"
   ]
  }
 ],
 "metadata": {
  "kernelspec": {
   "display_name": "base",
   "language": "python",
   "name": "python3"
  },
  "language_info": {
   "codemirror_mode": {
    "name": "ipython",
    "version": 3
   },
   "file_extension": ".py",
   "mimetype": "text/x-python",
   "name": "python",
   "nbconvert_exporter": "python",
   "pygments_lexer": "ipython3",
   "version": "3.13.5"
  }
 },
 "nbformat": 4,
 "nbformat_minor": 5
}

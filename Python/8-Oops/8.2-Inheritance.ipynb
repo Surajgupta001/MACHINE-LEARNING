{
 "cells": [
  {
   "cell_type": "markdown",
   "id": "d147b4d6",
   "metadata": {},
   "source": [
    "# Inheritance In OOPS"
   ]
  },
  {
   "cell_type": "markdown",
   "id": "6eb5f5ef",
   "metadata": {},
   "source": [
    "## Introduction to Inheritance in Python\n",
    "\n",
    "Inheritance is a fundamental concept in object-oriented programming that allows a class to inherit attributes and methods from another class. In this article, we will discuss how to implement inheritance in Python, covering both single and multiple inheritance with examples.\n",
    "\n",
    "Inheritance is derived from real-world scenarios. For example, you inherit property from your parents, such as a house or land, but the reverse is not possible. Similarly, in Python, inheritance works in the same way, where a child class inherits properties from a parent class."
   ]
  },
  {
   "cell_type": "code",
   "execution_count": null,
   "id": "f95cc5b8",
   "metadata": {},
   "outputs": [],
   "source": [
    "## Inheritance in Python (Single Inheritance)\n",
    "## parent class\n",
    "\n",
    "class Car:\n",
    "    def __init__(self, windows, doors, engineType):\n",
    "        self.windows = windows\n",
    "        self.doors = doors\n",
    "        self.engineType = engineType\n",
    "        \n",
    "    def drive(self):\n",
    "        print(f\"The Person will drive the {self.engineType} car\")"
   ]
  },
  {
   "cell_type": "code",
   "execution_count": 4,
   "id": "3d57cb01",
   "metadata": {},
   "outputs": [
    {
     "name": "stdout",
     "output_type": "stream",
     "text": [
      "The Person will drive the Petrol car\n"
     ]
    }
   ],
   "source": [
    "car = Car(4, 4, \"Petrol\")\n",
    "car.drive()"
   ]
  },
  {
   "cell_type": "code",
   "execution_count": 8,
   "id": "acbecc78",
   "metadata": {},
   "outputs": [
    {
     "name": "stdout",
     "output_type": "stream",
     "text": [
      "The Electric Tesla is driving itself.\n",
      "The Person will drive the Electric car\n"
     ]
    }
   ],
   "source": [
    "class Tesla(Car): # child class\n",
    "    def __init__(self, windows, doors, engineType, is_Selfdriving):\n",
    "        super().__init__(windows, doors, engineType) # calling parent class constructor -> Inheriting\n",
    "        self.is_Selfdriving = is_Selfdriving\n",
    "\n",
    "    def selfDrive(self):\n",
    "        if self.is_Selfdriving:\n",
    "            print(f\"The {self.engineType} Tesla is driving itself.\")\n",
    "        else:\n",
    "            super().selfDrive()\n",
    "            \n",
    "# creating an object of the child class\n",
    "tesla = Tesla(4, 4, \"Electric\", True)\n",
    "tesla.selfDrive()\n",
    "tesla.drive()"
   ]
  },
  {
   "cell_type": "code",
   "execution_count": 10,
   "id": "69f3c8a5",
   "metadata": {},
   "outputs": [
    {
     "name": "stdout",
     "output_type": "stream",
     "text": [
      "Buddy says Woof!\n",
      "Owner: Alice\n"
     ]
    }
   ],
   "source": [
    "### Multiple Inheritance in Python\n",
    "## When a class inherit from more than one class, it is called multiple inheritance.\n",
    "\n",
    "# Base class 1\n",
    "class Animal:\n",
    "    def __init__(self, name):\n",
    "        self.name = name\n",
    "        \n",
    "    def speak(self):\n",
    "        return \"Animal speaks\"\n",
    "    \n",
    "# Base class 2\n",
    "class Pet:\n",
    "    def __init__(self, owner):\n",
    "        self.owner = owner\n",
    "        \n",
    "# Derived class\n",
    "class Dog(Animal, Pet):\n",
    "    def __init__(self, name, owner):\n",
    "        Animal.__init__(self, name)\n",
    "        Pet.__init__(self, owner)\n",
    "        \n",
    "    def speak(self):\n",
    "        return f\"{self.name} says Woof!\"\n",
    "    \n",
    "# Creating an object of the derived class\n",
    "dog = Dog(\"Buddy\", \"Alice\")\n",
    "print(dog.speak())  # Output: Buddy says Woof!\n",
    "print(f\"Owner: {dog.owner}\") # Output: Owner: Alice"
   ]
  }
 ],
 "metadata": {
  "kernelspec": {
   "display_name": "base",
   "language": "python",
   "name": "python3"
  },
  "language_info": {
   "codemirror_mode": {
    "name": "ipython",
    "version": 3
   },
   "file_extension": ".py",
   "mimetype": "text/x-python",
   "name": "python",
   "nbconvert_exporter": "python",
   "pygments_lexer": "ipython3",
   "version": "3.13.5"
  }
 },
 "nbformat": 4,
 "nbformat_minor": 5
}

{
 "cells": [
  {
   "cell_type": "code",
   "execution_count": 1,
   "id": "64d27d4f",
   "metadata": {},
   "outputs": [
    {
     "name": "stdout",
     "output_type": "stream",
     "text": [
      "Directory 'package' created.\n"
     ]
    }
   ],
   "source": [
    "## create a new directory\n",
    "import os\n",
    "new_directory = 'package'\n",
    "os.makedirs(new_directory, exist_ok=True)\n",
    "print(f\"Directory '{new_directory}' created.\")"
   ]
  },
  {
   "cell_type": "code",
   "execution_count": 2,
   "id": "c50e62b7",
   "metadata": {},
   "outputs": [
    {
     "name": "stdout",
     "output_type": "stream",
     "text": [
      "Items in the current directory: ['6.1-fileOperation.ipynb', '6.2-filePath.ipynb', 'copy_of_example.txt', 'example.bin', 'example.txt', 'package']\n"
     ]
    }
   ],
   "source": [
    "## Listing Files ANd Directories\n",
    "items = os.listdir('.') # List items in the current directory\n",
    "print(\"Items in the current directory:\", items)"
   ]
  },
  {
   "cell_type": "code",
   "execution_count": 3,
   "id": "e45278d1",
   "metadata": {},
   "outputs": [
    {
     "name": "stdout",
     "output_type": "stream",
     "text": [
      "Joined path: folder\\file.txt\n"
     ]
    }
   ],
   "source": [
    "### Joining Paths\n",
    "dir_name = 'folder'\n",
    "file_name = 'file.txt'\n",
    "filled_path = os.path.join(dir_name, file_name)\n",
    "print(\"Joined path:\", filled_path)"
   ]
  },
  {
   "cell_type": "code",
   "execution_count": 4,
   "id": "91cfbef7",
   "metadata": {},
   "outputs": [
    {
     "name": "stdout",
     "output_type": "stream",
     "text": [
      "Joined path: c:\\Programming\\MACHINE LEARNING\\Python\\6-File Handling\\folder\\file.txt\n"
     ]
    }
   ],
   "source": [
    "### Joining Paths\n",
    "dir_name = 'folder'\n",
    "file_name = 'file.txt'\n",
    "filled_path = os.path.join(os.getcwd(), dir_name, file_name)\n",
    "print(\"Joined path:\", filled_path)"
   ]
  },
  {
   "cell_type": "code",
   "execution_count": 5,
   "id": "3ec77415",
   "metadata": {},
   "outputs": [
    {
     "name": "stdout",
     "output_type": "stream",
     "text": [
      "The file 'example1.txt' does not exist.\n"
     ]
    }
   ],
   "source": [
    "path = 'example1.txt'\n",
    "if os.path.exists(path):\n",
    "    print(f\"The file '{path}' exists.\")\n",
    "else:\n",
    "    print(f\"The file '{path}' does not exist.\")"
   ]
  },
  {
   "cell_type": "code",
   "execution_count": 6,
   "id": "532841c1",
   "metadata": {},
   "outputs": [
    {
     "name": "stdout",
     "output_type": "stream",
     "text": [
      "'example.txt' is a file.\n"
     ]
    }
   ],
   "source": [
    "# Checking if a path is a file or directory\n",
    "path = 'example.txt'\n",
    "if os.path.isfile(path):\n",
    "    print(f\"'{path}' is a file.\")\n",
    "elif os.path.isdir(path):\n",
    "    print(f\"'{path}' is a directory.\")\n",
    "else:\n",
    "    print(f\"'{path}' does not exist.\")"
   ]
  },
  {
   "cell_type": "code",
   "execution_count": 7,
   "id": "25247d32",
   "metadata": {},
   "outputs": [
    {
     "name": "stdout",
     "output_type": "stream",
     "text": [
      "Absolute path of 'example.txt': c:\\Programming\\MACHINE LEARNING\\Python\\6-File Handling\\example.txt\n"
     ]
    }
   ],
   "source": [
    "## Getting a absolute Path\n",
    "relative_path = 'example.txt'\n",
    "absolute_path = os.path.abspath(relative_path)\n",
    "print(f\"Absolute path of '{relative_path}': {absolute_path}\")"
   ]
  }
 ],
 "metadata": {
  "kernelspec": {
   "display_name": "base",
   "language": "python",
   "name": "python3"
  },
  "language_info": {
   "codemirror_mode": {
    "name": "ipython",
    "version": 3
   },
   "file_extension": ".py",
   "mimetype": "text/x-python",
   "name": "python",
   "nbconvert_exporter": "python",
   "pygments_lexer": "ipython3",
   "version": "3.13.5"
  }
 },
 "nbformat": 4,
 "nbformat_minor": 5
}

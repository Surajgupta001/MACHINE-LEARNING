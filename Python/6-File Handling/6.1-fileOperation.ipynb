{
 "cells": [
  {
   "cell_type": "markdown",
   "id": "37975654",
   "metadata": {},
   "source": [
    "# File Operation - Read And Write Files\n",
    "\n",
    "File handling is a crucial aspect of programming that allows you to read from and write to files on your system. This guide will cover the basics of file operations in Python, including how to open, read, write, and close files."
   ]
  },
  {
   "cell_type": "code",
   "execution_count": 2,
   "id": "a98f6166",
   "metadata": {},
   "outputs": [
    {
     "name": "stdout",
     "output_type": "stream",
     "text": [
      "Hello World\n",
      "This is an example text file.\n",
      "It contains multiple lines of text.\n",
      "You can read from and write to this file using Python.\n"
     ]
    }
   ],
   "source": [
    "### Read a whole file\n",
    "\n",
    "with open('example.txt', 'r') as file:\n",
    "    content = file.read()\n",
    "    print(content)"
   ]
  },
  {
   "cell_type": "code",
   "execution_count": 4,
   "id": "b74f0db0",
   "metadata": {},
   "outputs": [
    {
     "name": "stdout",
     "output_type": "stream",
     "text": [
      "Hello World\n",
      "This is an example text file.\n",
      "It contains multiple lines of text.\n",
      "You can read from and write to this file using Python.\n"
     ]
    }
   ],
   "source": [
    "## Read a file line by line\n",
    "with open('example.txt', 'r') as file:\n",
    "    for line in file:\n",
    "        print(line.strip()) # strip() removes leading/trailing whitespace"
   ]
  },
  {
   "cell_type": "code",
   "execution_count": 8,
   "id": "d1303e94",
   "metadata": {},
   "outputs": [],
   "source": [
    "### Write to a file(overwrites existing content)\n",
    "with open('example.txt', 'w') as file:\n",
    "    file.write(\"This is a new line.\\n\")\n",
    "    file.write(\"This will overwrite the existing content.\\n\")"
   ]
  },
  {
   "cell_type": "code",
   "execution_count": 9,
   "id": "6dcefca8",
   "metadata": {},
   "outputs": [],
   "source": [
    "## Write a file without overwriting(existing content will be preserved)\n",
    "with open('example.txt', 'a') as file:\n",
    "    file.write(\"This line is appended to the file.\\n\")\n",
    "### Append to a file (adds content to the end of the file)"
   ]
  },
  {
   "cell_type": "code",
   "execution_count": 10,
   "id": "b0e58c41",
   "metadata": {},
   "outputs": [],
   "source": [
    "### Writing a list of lines to a file\n",
    "lines = [\"First line\\n\", \"Second line\\n\", \"Third line\\n\"]\n",
    "with open('example.txt', 'a') as file:\n",
    "    file.writelines(lines)"
   ]
  },
  {
   "cell_type": "code",
   "execution_count": 11,
   "id": "18ba9af0",
   "metadata": {},
   "outputs": [],
   "source": [
    "### Binary file operations\n",
    "\n",
    "# Writting t0 a binary file\n",
    "data = b'\\x00\\x01\\x02\\x03\\x04\\x05'\n",
    "with open('example.bin', 'wb') as file:\n",
    "    file.write(data)"
   ]
  },
  {
   "cell_type": "code",
   "execution_count": 12,
   "id": "9e1c6f0a",
   "metadata": {},
   "outputs": [
    {
     "name": "stdout",
     "output_type": "stream",
     "text": [
      "b'\\x00\\x01\\x02\\x03\\x04\\x05'\n"
     ]
    }
   ],
   "source": [
    "### Reading a binary file\n",
    "with open('example.bin', 'rb') as file:\n",
    "    binary_content = file.read()\n",
    "    print(binary_content)"
   ]
  },
  {
   "cell_type": "code",
   "execution_count": 13,
   "id": "57c626a1",
   "metadata": {},
   "outputs": [],
   "source": [
    "### Read the content from a source text file and write it to a destination text file\n",
    "\n",
    "# Coping a text file\n",
    "with open('example.txt', 'r') as source_file:\n",
    "    content = source_file.read()\n",
    "    \n",
    "with open('copy_of_example.txt', 'w') as dest_file:\n",
    "    dest_file.write(content)"
   ]
  },
  {
   "cell_type": "code",
   "execution_count": 14,
   "id": "c523a291",
   "metadata": {},
   "outputs": [
    {
     "name": "stdout",
     "output_type": "stream",
     "text": [
      "Lines: 6, Words: 24, Characters: 131\n"
     ]
    }
   ],
   "source": [
    "## Read a text and count the number of lines, words, and characters\n",
    "def count_file_contents(file_path):\n",
    "    with open(file_path, 'r') as file:\n",
    "        lines = file.readlines()\n",
    "        num_lines = len(lines)\n",
    "        num_words = sum(len(line.split()) for line in lines)\n",
    "        num_chars = sum(len(line) for line in lines)\n",
    "        \n",
    "    return num_lines, num_words, num_chars\n",
    "\n",
    "file_path = 'example.txt'\n",
    "lines, words, chars = count_file_contents(file_path)\n",
    "print(f\"Lines: {lines}, Words: {words}, Characters: {chars}\")"
   ]
  },
  {
   "cell_type": "markdown",
   "id": "5b8a0366",
   "metadata": {},
   "source": [
    "The w+ mode opens a file for both writing and reading. If the file already exists, its content is truncated (deleted) before writing. If the file does not exist, it is created."
   ]
  },
  {
   "cell_type": "code",
   "execution_count": 15,
   "id": "8e9c257d",
   "metadata": {},
   "outputs": [
    {
     "name": "stdout",
     "output_type": "stream",
     "text": [
      "Hello, World!\n",
      "This file is opened in w+ mode.\n",
      "\n"
     ]
    }
   ],
   "source": [
    "### Writing and then reading a file\n",
    "\n",
    "with open('example.txt', 'w+') as file:\n",
    "    file.write(\"Hello, World!\\n\")\n",
    "    file.write(\"This file is opened in w+ mode.\\n\")\n",
    "\n",
    "    # Move the file cursor to the beginning\n",
    "    file.seek(0)\n",
    "\n",
    "    # Read the contents of the file\n",
    "    content = file.read()\n",
    "    print(content)"
   ]
  }
 ],
 "metadata": {
  "kernelspec": {
   "display_name": "base",
   "language": "python",
   "name": "python3"
  },
  "language_info": {
   "codemirror_mode": {
    "name": "ipython",
    "version": 3
   },
   "file_extension": ".py",
   "mimetype": "text/x-python",
   "name": "python",
   "nbconvert_exporter": "python",
   "pygments_lexer": "ipython3",
   "version": "3.13.5"
  }
 },
 "nbformat": 4,
 "nbformat_minor": 5
}

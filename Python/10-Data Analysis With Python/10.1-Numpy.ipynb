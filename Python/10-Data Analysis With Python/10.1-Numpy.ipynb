{
 "cells": [
  {
   "cell_type": "markdown",
   "id": "19fbfe11",
   "metadata": {},
   "source": [
    "# Numpy\n",
    "\n",
    "Numpy is a fundamental library for scientific computing in Python. It provides support for arrays, matrices, along with a collection of mathematical functions to operate on these data structures."
   ]
  },
  {
   "cell_type": "code",
   "execution_count": 1,
   "id": "4b385f18",
   "metadata": {},
   "outputs": [],
   "source": [
    "import numpy as np"
   ]
  },
  {
   "cell_type": "code",
   "execution_count": 17,
   "id": "59524896",
   "metadata": {},
   "outputs": [
    {
     "name": "stdout",
     "output_type": "stream",
     "text": [
      "[1 2 3 4 5]\n"
     ]
    }
   ],
   "source": [
    "## Create a arrays using numpy\n",
    "## Create a 1D array\n",
    "arr1 = np.array([1, 2, 3, 4, 5])\n",
    "print(arr1)"
   ]
  },
  {
   "cell_type": "code",
   "execution_count": null,
   "id": "98ee3899",
   "metadata": {},
   "outputs": [
    {
     "data": {
      "text/plain": [
       "array([[1, 2, 3, 4, 5]])"
      ]
     },
     "execution_count": 7,
     "metadata": {},
     "output_type": "execute_result"
    }
   ],
   "source": [
    "arr1 = np.array([1, 2, 3, 4, 5])\n",
    "arr1.reshape(1, 5) # Reshape to 1 row and 5 columns"
   ]
  },
  {
   "cell_type": "code",
   "execution_count": 8,
   "id": "dacc723b",
   "metadata": {},
   "outputs": [
    {
     "data": {
      "text/plain": [
       "(1, 5)"
      ]
     },
     "execution_count": 8,
     "metadata": {},
     "output_type": "execute_result"
    }
   ],
   "source": [
    "arr1 = np.array([[1, 2, 3, 4, 5]])\n",
    "arr1.shape"
   ]
  },
  {
   "cell_type": "code",
   "execution_count": null,
   "id": "d5779757",
   "metadata": {},
   "outputs": [
    {
     "name": "stdout",
     "output_type": "stream",
     "text": [
      "[[1 2 3]\n",
      " [4 5 6]]\n",
      "(2, 3)\n"
     ]
    }
   ],
   "source": [
    "## Create a 2D array\n",
    "arr1=np.array([[1,2,3],[4,5,6]])\n",
    "print(arr1)\n",
    "print(arr1.shape)"
   ]
  },
  {
   "cell_type": "code",
   "execution_count": 10,
   "id": "19aee097",
   "metadata": {},
   "outputs": [
    {
     "data": {
      "text/plain": [
       "array([0, 2, 4, 6, 8])"
      ]
     },
     "execution_count": 10,
     "metadata": {},
     "output_type": "execute_result"
    }
   ],
   "source": [
    "np.arange(0, 10, 2) # Create an array with values from 0 to 10 with a step of 2"
   ]
  },
  {
   "cell_type": "code",
   "execution_count": 11,
   "id": "fa27d4a3",
   "metadata": {},
   "outputs": [
    {
     "data": {
      "text/plain": [
       "array([[0],\n",
       "       [2],\n",
       "       [4],\n",
       "       [6],\n",
       "       [8]])"
      ]
     },
     "execution_count": 11,
     "metadata": {},
     "output_type": "execute_result"
    }
   ],
   "source": [
    "np.arange(0, 10, 2) .reshape(5, 1) # Reshape to 5 rows and 1 column"
   ]
  },
  {
   "cell_type": "code",
   "execution_count": 13,
   "id": "2b6ddfc2",
   "metadata": {},
   "outputs": [
    {
     "data": {
      "text/plain": [
       "array([[1., 1., 1., 1.],\n",
       "       [1., 1., 1., 1.],\n",
       "       [1., 1., 1., 1.]])"
      ]
     },
     "execution_count": 13,
     "metadata": {},
     "output_type": "execute_result"
    }
   ],
   "source": [
    "np.ones((3,4)) # Create an array of ones with shape 3x4"
   ]
  },
  {
   "cell_type": "code",
   "execution_count": 14,
   "id": "6dc75dd3",
   "metadata": {},
   "outputs": [
    {
     "data": {
      "text/plain": [
       "array([[1., 0., 0.],\n",
       "       [0., 1., 0.],\n",
       "       [0., 0., 1.]])"
      ]
     },
     "execution_count": 14,
     "metadata": {},
     "output_type": "execute_result"
    }
   ],
   "source": [
    "## Identity Matrix\n",
    "np.eye(3) # Create a 3x3 identity matrix"
   ]
  },
  {
   "cell_type": "code",
   "execution_count": 16,
   "id": "cd2dd469",
   "metadata": {},
   "outputs": [
    {
     "name": "stdout",
     "output_type": "stream",
     "text": [
      "1D Array: [[ 1  2  3  4  5]\n",
      " [ 6  7  8  9 10]]\n",
      "Type: <class 'numpy.ndarray'>\n",
      "Shape: (2, 5)\n",
      "Data Type: int64\n",
      "Size: 10\n",
      "Number of Dimensions: 2\n",
      "Item Size (in bytes): 8\n"
     ]
    }
   ],
   "source": [
    "## Attributes of Numpy Array\n",
    "arr = np.array([[1, 2, 3, 4, 5], [6, 7, 8, 9, 10]])\n",
    "print(\"1D Array:\", arr)\n",
    "print(\"Type:\", type(arr))\n",
    "print(\"Shape:\", arr.shape)\n",
    "print(\"Data Type:\", arr.dtype)\n",
    "print(\"Size:\", arr.size)\n",
    "print(\"Number of Dimensions:\", arr.ndim)\n",
    "print(\"Item Size (in bytes):\", arr.itemsize)"
   ]
  },
  {
   "cell_type": "code",
   "execution_count": null,
   "id": "d423ac83",
   "metadata": {},
   "outputs": [
    {
     "name": "stdout",
     "output_type": "stream",
     "text": [
      "Addition: [11 22 33 44 55]\n",
      "Subtraction: [ 9 18 27 36 45]\n",
      "Multiplication: [ 10  40  90 160 250]\n",
      "Division: [10. 10. 10. 10. 10.]\n",
      "Square Root of a: [1.         1.41421356 1.73205081 2.         2.23606798]\n",
      "Square Root of b: [3.16227766 4.47213595 5.47722558 6.32455532 7.07106781]\n",
      "Exponentiation of a: [  2.71828183   7.3890561   20.08553692  54.59815003 148.4131591 ]\n",
      "Exponentiation of b: [2.20264658e+04 4.85165195e+08 1.06864746e+13 2.35385267e+17\n",
      " 5.18470553e+21]\n"
     ]
    }
   ],
   "source": [
    "### Numpy Vectorised Operations\n",
    "a = np.array([1, 2, 3, 4, 5])\n",
    "b = np.array([10, 20, 30, 40, 50])\n",
    "\n",
    "## Element-wise addition\n",
    "print(\"Addition:\", a + b)\n",
    "\n",
    "## Element-wise subtraction\n",
    "print(\"Subtraction:\", b - a)\n",
    "\n",
    "## Element-wise multiplication\n",
    "print(\"Multiplication:\", a * b)\n",
    "\n",
    "## Element-wise division\n",
    "print(\"Division:\", b / a)\n",
    "\n",
    "## Element-wise square root\n",
    "print(\"Square Root of a:\", np.sqrt(a))\n",
    "print(\"Square Root of b:\", np.sqrt(b))\n",
    "\n",
    "## Element-wise exponentiation\n",
    "print(\"Exponentiation of a:\", np.exp(a))\n",
    "print(\"Exponentiation of b:\", np.exp(b))"
   ]
  },
  {
   "cell_type": "code",
   "execution_count": 20,
   "id": "eceac0f9",
   "metadata": {},
   "outputs": [
    {
     "name": "stdout",
     "output_type": "stream",
     "text": [
      "Square Root: [1.         1.41421356 1.73205081 2.         2.23606798]\n",
      "Exponential: [  2.71828183   7.3890561   20.08553692  54.59815003 148.4131591 ]\n",
      "Natural Logarithm: [0.         0.69314718 1.09861229 1.38629436 1.60943791]\n",
      "Sine: [ 0.84147098  0.90929743  0.14112001 -0.7568025  -0.95892427]\n",
      "Cosine: [ 0.54030231 -0.41614684 -0.9899925  -0.65364362  0.28366219]\n",
      "Tangent: [ 1.55740772 -2.18503986 -0.14254654  1.15782128 -3.38051501]\n"
     ]
    }
   ],
   "source": [
    "## Universals functions\n",
    "a = np.array([1, 2, 3, 4, 5])\n",
    "\n",
    "## Square root\n",
    "print(\"Square Root:\", np.sqrt(a))\n",
    "\n",
    "## Exponential\n",
    "print(\"Exponential:\", np.exp(a))\n",
    "\n",
    "## Natural Logarithm\n",
    "print(\"Natural Logarithm:\", np.log(a))\n",
    "\n",
    "## Trigonometric functions\n",
    "print(\"Sine:\", np.sin(a))\n",
    "print(\"Cosine:\", np.cos(a))\n",
    "print(\"Tangent:\", np.tan(a))"
   ]
  },
  {
   "cell_type": "code",
   "execution_count": 21,
   "id": "0170b021",
   "metadata": {},
   "outputs": [
    {
     "name": "stdout",
     "output_type": "stream",
     "text": [
      "Original Array:\n",
      " [[ 1  2  3  4  5]\n",
      " [ 6  7  8  9 10]\n",
      " [11 12 13 14 15]]\n"
     ]
    }
   ],
   "source": [
    "## Array Slicing and Indexing\n",
    "arr = np.array([[1, 2, 3, 4, 5], [6, 7, 8, 9, 10], [11, 12, 13, 14, 15]])\n",
    "print(\"Original Array:\\n\", arr)"
   ]
  },
  {
   "cell_type": "code",
   "execution_count": 22,
   "id": "a0f6c240",
   "metadata": {},
   "outputs": [
    {
     "data": {
      "text/plain": [
       "array([1, 2, 3, 4, 5])"
      ]
     },
     "execution_count": 22,
     "metadata": {},
     "output_type": "execute_result"
    }
   ],
   "source": [
    "arr[0]"
   ]
  },
  {
   "cell_type": "code",
   "execution_count": 23,
   "id": "0e6f3a80",
   "metadata": {},
   "outputs": [
    {
     "data": {
      "text/plain": [
       "np.int64(1)"
      ]
     },
     "execution_count": 23,
     "metadata": {},
     "output_type": "execute_result"
    }
   ],
   "source": [
    "arr[0][0]"
   ]
  },
  {
   "cell_type": "code",
   "execution_count": 25,
   "id": "d1c41405",
   "metadata": {},
   "outputs": [
    {
     "data": {
      "text/plain": [
       "np.int64(2)"
      ]
     },
     "execution_count": 25,
     "metadata": {},
     "output_type": "execute_result"
    }
   ],
   "source": [
    "arr[0][1]"
   ]
  },
  {
   "cell_type": "code",
   "execution_count": 28,
   "id": "5541b113",
   "metadata": {},
   "outputs": [
    {
     "data": {
      "text/plain": [
       "array([[ 8,  9, 10],\n",
       "       [13, 14, 15]])"
      ]
     },
     "execution_count": 28,
     "metadata": {},
     "output_type": "execute_result"
    }
   ],
   "source": [
    "arr[1:, 2:]"
   ]
  },
  {
   "cell_type": "code",
   "execution_count": 29,
   "id": "ccd33600",
   "metadata": {},
   "outputs": [
    {
     "name": "stdout",
     "output_type": "stream",
     "text": [
      "1\n",
      "[[ 1  2  3  4  5]\n",
      " [ 6  7  8  9 10]]\n"
     ]
    }
   ],
   "source": [
    "print(arr[0][0])\n",
    "print(arr[0:2])"
   ]
  },
  {
   "cell_type": "code",
   "execution_count": 35,
   "id": "d7742b00",
   "metadata": {},
   "outputs": [
    {
     "name": "stdout",
     "output_type": "stream",
     "text": [
      "1\n",
      "[[ 2  3  4  5]\n",
      " [ 7  8  9 10]]\n"
     ]
    }
   ],
   "source": [
    "print(arr[0][0])\n",
    "print(arr[0:2,1:])"
   ]
  },
  {
   "cell_type": "code",
   "execution_count": 37,
   "id": "5a93c476",
   "metadata": {},
   "outputs": [
    {
     "name": "stdout",
     "output_type": "stream",
     "text": [
      "Modified Array:\n",
      " [[100   2   3   4   5]\n",
      " [  6   7   8   9  10]\n",
      " [ 11  12  13  14  15]]\n"
     ]
    }
   ],
   "source": [
    "## Modify array elements\n",
    "arr[0][0] = 100\n",
    "print(\"Modified Array:\\n\", arr)"
   ]
  },
  {
   "cell_type": "code",
   "execution_count": null,
   "id": "6d6b9487",
   "metadata": {},
   "outputs": [
    {
     "name": "stdout",
     "output_type": "stream",
     "text": [
      "Mean: 5.5\n",
      "Normalized Data: [-1.5666989  -1.21854359 -0.87038828 -0.52223297 -0.17407766  0.17407766\n",
      "  0.52223297  0.87038828  1.21854359  1.5666989 ]\n"
     ]
    }
   ],
   "source": [
    "## Statistical Concept - Normalization\n",
    "## to have a mean of 0 and standard deviation of 1\n",
    "data = np.array([1,2,3,4,5,6,7,8,9,10])\n",
    "\n",
    "# Calculate the mean and standard deviation\n",
    "mean = np.mean(data)\n",
    "print(\"Mean:\", mean)\n",
    "std_dev = np.std(data)\n",
    "\n",
    "# Normalize the data\n",
    "normalized_data = (data - mean) / std_dev\n",
    "print(\"Normalized Data:\", normalized_data)"
   ]
  },
  {
   "cell_type": "code",
   "execution_count": 41,
   "id": "110d7ca4",
   "metadata": {},
   "outputs": [
    {
     "name": "stdout",
     "output_type": "stream",
     "text": [
      "Mean: 5.5\n",
      "Median: 5.5\n",
      "Standard Deviation: 2.8722813232690143\n",
      "Variance: 8.25\n"
     ]
    }
   ],
   "source": [
    "# mean\n",
    "mean = np.mean(data)\n",
    "print(\"Mean:\", mean)\n",
    "\n",
    "# Median\n",
    "median = np.median(data)\n",
    "print(\"Median:\", median)\n",
    "\n",
    "# Standard Deviation\n",
    "std_dev = np.std(data)\n",
    "print(\"Standard Deviation:\", std_dev)\n",
    "\n",
    "# Variance\n",
    "variance = np.var(data)\n",
    "print(\"Variance:\", variance)"
   ]
  },
  {
   "cell_type": "code",
   "execution_count": 46,
   "id": "c1e94e09",
   "metadata": {},
   "outputs": [
    {
     "data": {
      "text/plain": [
       "array([6, 7, 8])"
      ]
     },
     "execution_count": 46,
     "metadata": {},
     "output_type": "execute_result"
    }
   ],
   "source": [
    "## Logical Operations\n",
    "data = np.array([1, 2, 3, 4, 5, 6, 7, 8, 9, 10])\n",
    "\n",
    "data[(data > 5) & (data <= 8)]"
   ]
  }
 ],
 "metadata": {
  "kernelspec": {
   "display_name": "base",
   "language": "python",
   "name": "python3"
  },
  "language_info": {
   "codemirror_mode": {
    "name": "ipython",
    "version": 3
   },
   "file_extension": ".py",
   "mimetype": "text/x-python",
   "name": "python",
   "nbconvert_exporter": "python",
   "pygments_lexer": "ipython3",
   "version": "3.13.5"
  }
 },
 "nbformat": 4,
 "nbformat_minor": 5
}

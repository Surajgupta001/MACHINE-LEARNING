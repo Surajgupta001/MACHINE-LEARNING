{
 "cells": [
  {
   "cell_type": "markdown",
   "id": "83d071b5",
   "metadata": {},
   "source": [
    "# Understanding Exceptions"
   ]
  },
  {
   "cell_type": "markdown",
   "id": "f7180058",
   "metadata": {},
   "source": [
    "Exception handling in python allows you to handle errors gracefully without crashing your program. You can use `try`, `except`, `else`, and `finally` blocks to manage exceptions."
   ]
  },
  {
   "cell_type": "markdown",
   "id": "fc0e1e2e",
   "metadata": {},
   "source": [
    "## What Are Exceptions?\n",
    "\n",
    "Exceptions are events that disrupt the normal flow of a program's execution. They occur when an error is encountered during program execution. Common exceptions include\n",
    "\n",
    "- `ZeroDivisionError`: Raised when a division by zero is attempted.\n",
    "- `FileNotFoundError`: Raised when a file operation is requested but the file does not exist.\n",
    "- `ValueError`: Raised when a function receives an argument of the right type but an inappropriate value.\n",
    "- `TypeError`: Raised when an operation or function is applied to an object of inappropriate type."
   ]
  },
  {
   "cell_type": "code",
   "execution_count": 1,
   "id": "05df97ce",
   "metadata": {},
   "outputs": [
    {
     "ename": "NameError",
     "evalue": "name 'b' is not defined",
     "output_type": "error",
     "traceback": [
      "\u001b[1;31m---------------------------------------------------------------------------\u001b[0m",
      "\u001b[1;31mNameError\u001b[0m                                 Traceback (most recent call last)",
      "Cell \u001b[1;32mIn[1], line 1\u001b[0m\n\u001b[1;32m----> 1\u001b[0m a\u001b[38;5;241m=\u001b[39mb\n",
      "\u001b[1;31mNameError\u001b[0m: name 'b' is not defined"
     ]
    }
   ],
   "source": [
    "a=b"
   ]
  },
  {
   "cell_type": "code",
   "execution_count": 2,
   "id": "f22d4f6b",
   "metadata": {},
   "outputs": [
    {
     "name": "stdout",
     "output_type": "stream",
     "text": [
      "The variable has not been assigned\n"
     ]
    }
   ],
   "source": [
    "try:\n",
    "    a=b\n",
    "except:\n",
    "    print(\"The variable has not been assigned\")"
   ]
  },
  {
   "cell_type": "code",
   "execution_count": 3,
   "id": "1758213e",
   "metadata": {},
   "outputs": [
    {
     "name": "stdout",
     "output_type": "stream",
     "text": [
      "NameError: name 'b' is not defined\n"
     ]
    }
   ],
   "source": [
    "## Exception Handling with specific exception\n",
    "try:\n",
    "    a=b\n",
    "except NameError as e:\n",
    "    print(f\"NameError: {e}\")"
   ]
  },
  {
   "cell_type": "code",
   "execution_count": 5,
   "id": "33fa09d2",
   "metadata": {},
   "outputs": [
    {
     "name": "stdout",
     "output_type": "stream",
     "text": [
      "ZeroDivisionError: division by zero\n",
      "Please enter the denominator other than zero.\n"
     ]
    }
   ],
   "source": [
    "try:\n",
    "    result = 10 / 0\n",
    "except ZeroDivisionError as e:\n",
    "    print(f\"ZeroDivisionError: {e}\")\n",
    "    print(\"Please enter the denominator other than zero.\")"
   ]
  },
  {
   "cell_type": "code",
   "execution_count": 7,
   "id": "ec64b208",
   "metadata": {},
   "outputs": [
    {
     "ename": "NameError",
     "evalue": "name 'b' is not defined",
     "output_type": "error",
     "traceback": [
      "\u001b[1;31m---------------------------------------------------------------------------\u001b[0m",
      "\u001b[1;31mNameError\u001b[0m                                 Traceback (most recent call last)",
      "Cell \u001b[1;32mIn[7], line 3\u001b[0m\n\u001b[0;32m      1\u001b[0m \u001b[38;5;28;01mtry\u001b[39;00m:\n\u001b[0;32m      2\u001b[0m     result \u001b[38;5;241m=\u001b[39m \u001b[38;5;241m10\u001b[39m \u001b[38;5;241m/\u001b[39m \u001b[38;5;241m2\u001b[39m\n\u001b[1;32m----> 3\u001b[0m     a\u001b[38;5;241m=\u001b[39mb\n\u001b[0;32m      4\u001b[0m \u001b[38;5;28;01mexcept\u001b[39;00m \u001b[38;5;167;01mZeroDivisionError\u001b[39;00m \u001b[38;5;28;01mas\u001b[39;00m e:\n\u001b[0;32m      5\u001b[0m     \u001b[38;5;28mprint\u001b[39m(\u001b[38;5;124mf\u001b[39m\u001b[38;5;124m\"\u001b[39m\u001b[38;5;124mZeroDivisionError: \u001b[39m\u001b[38;5;132;01m{\u001b[39;00me\u001b[38;5;132;01m}\u001b[39;00m\u001b[38;5;124m\"\u001b[39m)\n",
      "\u001b[1;31mNameError\u001b[0m: name 'b' is not defined"
     ]
    }
   ],
   "source": [
    "try:\n",
    "    result = 10 / 2\n",
    "    a=b\n",
    "except ZeroDivisionError as e:\n",
    "    print(f\"ZeroDivisionError: {e}\")\n",
    "    print(\"Please enter the denominator other than zero.\")"
   ]
  },
  {
   "cell_type": "code",
   "execution_count": 8,
   "id": "a7f1cd8d",
   "metadata": {},
   "outputs": [
    {
     "name": "stdout",
     "output_type": "stream",
     "text": [
      "Some other exception occurred: name 'b' is not defined\n"
     ]
    }
   ],
   "source": [
    "try:\n",
    "    result = 10 / 2\n",
    "    a=b\n",
    "except ZeroDivisionError as e:\n",
    "    print(f\"ZeroDivisionError: {e}\")\n",
    "    print(\"Please enter the denominator other than zero.\")\n",
    "except Exception as e1:\n",
    "    print(f\"Some other exception occurred: {e1}\")"
   ]
  },
  {
   "cell_type": "code",
   "execution_count": null,
   "id": "c24caa4a",
   "metadata": {},
   "outputs": [
    {
     "name": "stdout",
     "output_type": "stream",
     "text": [
      "Result: 2.0\n",
      "Done.\n"
     ]
    }
   ],
   "source": [
    "try:\n",
    "    num = int(input(\"Enter a number: \"))\n",
    "    result = 10 / num\n",
    "except ValueError as ve:\n",
    "    print(f\"ValueError: {ve}\")\n",
    "    print(\"Please enter a valid integer.\")\n",
    "except ZeroDivisionError as zde:\n",
    "    print(f\"ZeroDivisionError: {zde}\")\n",
    "    print(\"Denominator cannot be zero, enter a valid number.\")\n",
    "except Exception as e:\n",
    "    print(f\"Some other exception occurred: {e}\")\n",
    "else:\n",
    "    # This runs only if no exception was raised\n",
    "    print(f\"Result: {result}\")"
   ]
  },
  {
   "cell_type": "code",
   "execution_count": 16,
   "id": "f96bd4c9",
   "metadata": {},
   "outputs": [
    {
     "name": "stdout",
     "output_type": "stream",
     "text": [
      "You can't divide by zero!\n"
     ]
    }
   ],
   "source": [
    "## try, except, else block\n",
    "try:\n",
    "    num = int(input(\"Enter a number: \"))\n",
    "    result = 10 / num\n",
    "except ValueError:\n",
    "    print(\"Please enter a valid integer.\")\n",
    "except ZeroDivisionError:\n",
    "    print(\"You can't divide by zero!\")\n",
    "except Exception as ex:\n",
    "    print(ex)\n",
    "else:\n",
    "    print(f\"The result is {result}\")"
   ]
  },
  {
   "cell_type": "code",
   "execution_count": 17,
   "id": "b88dbc8a",
   "metadata": {},
   "outputs": [
    {
     "name": "stdout",
     "output_type": "stream",
     "text": [
      "The result is 2.0\n",
      "Execution completed.\n"
     ]
    }
   ],
   "source": [
    "## try, except, else block and finally\n",
    "try:\n",
    "    num = int(input(\"Enter a number: \"))\n",
    "    result = 10 / num\n",
    "except ValueError:\n",
    "    print(\"Please enter a valid integer.\")\n",
    "except ZeroDivisionError:\n",
    "    print(\"You can't divide by zero!\")\n",
    "except Exception as ex:\n",
    "    print(ex)\n",
    "else:\n",
    "    print(f\"The result is {result}\")\n",
    "finally:\n",
    "    print(\"Execution completed.\")"
   ]
  },
  {
   "cell_type": "code",
   "execution_count": 30,
   "id": "b36a7a85",
   "metadata": {},
   "outputs": [
    {
     "name": "stdout",
     "output_type": "stream",
     "text": [
      "name 'b' is not defined\n",
      "File closed.\n"
     ]
    }
   ],
   "source": [
    "## File Handling and Exception Handling\n",
    "try:\n",
    "    file = open(\"sample.txt\", \"r\")\n",
    "    content = file.read()\n",
    "    a = b\n",
    "    print(content)\n",
    "except FileNotFoundError:\n",
    "    print(\"The file does not exist.\")\n",
    "except Exception as e:\n",
    "    print(e)\n",
    "finally:\n",
    "    if 'file' in locals() or file.closed():\n",
    "        file.close()\n",
    "        print(\"File closed.\")"
   ]
  }
 ],
 "metadata": {
  "kernelspec": {
   "display_name": "base",
   "language": "python",
   "name": "python3"
  },
  "language_info": {
   "codemirror_mode": {
    "name": "ipython",
    "version": 3
   },
   "file_extension": ".py",
   "mimetype": "text/x-python",
   "name": "python",
   "nbconvert_exporter": "python",
   "pygments_lexer": "ipython3",
   "version": "3.13.5"
  }
 },
 "nbformat": 4,
 "nbformat_minor": 5
}

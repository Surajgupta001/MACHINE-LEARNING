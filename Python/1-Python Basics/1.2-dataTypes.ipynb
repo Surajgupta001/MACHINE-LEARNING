{
 "cells": [
  {
   "cell_type": "markdown",
   "id": "c9f3a469",
   "metadata": {},
   "source": [
    "# DataTypes"
   ]
  },
  {
   "cell_type": "markdown",
   "id": "580ebe7a",
   "metadata": {},
   "source": [
    "1. Definition:\n",
    "   - Data types are classifications of data which tells the compiler or interpreter how the programmer intends to use the data.\n",
    "   - They determine the operations that can be performed on the data, the value that the data can take, and the amount of memory nedeed to store the data.\n",
    "2. Importance of Data Types in Programming\n",
    "   \n",
    "   Explanation:\n",
    "   - Data types ensure that data is stored in an efficient way.\n",
    "   - They help in performing correct operations on data.\n",
    "   - Proper use of data types can prevent errors and bugs in the program.\n",
    "  \n",
    "   COURSE OUTLINE\n",
    "   1. Introduction to Data Types\n",
    "   2. Importance of Data Types in Programming\n",
    "   3. Basic Data Types\n",
    "      - Integers\n",
    "      - Floating-Point Numbers\n",
    "      - Strings\n",
    "      - Booleans\n",
    "   4. Advanced Data Types\n",
    "      - Lists\n",
    "      - Tuples\n",
    "      - Dictionaries\n",
    "      - Sets\n",
    "   5. Type Conversion\n",
    "   6. Practical Examples and Exercises"
   ]
  },
  {
   "cell_type": "code",
   "execution_count": 1,
   "id": "1d448e40",
   "metadata": {},
   "outputs": [
    {
     "name": "stdout",
     "output_type": "stream",
     "text": [
      "Age: 35\n",
      "Type of age: <class 'int'>\n"
     ]
    }
   ],
   "source": [
    "## Integer Example\n",
    "age = 35\n",
    "print(\"Age:\", age)\n",
    "print(\"Type of age:\", type(age))"
   ]
  },
  {
   "cell_type": "code",
   "execution_count": 2,
   "id": "09357c40",
   "metadata": {},
   "outputs": [
    {
     "name": "stdout",
     "output_type": "stream",
     "text": [
      "Height: 5.9\n",
      "Type of height: <class 'float'>\n"
     ]
    }
   ],
   "source": [
    "## Floating Point Datatypes\n",
    "height = 5.9\n",
    "print(\"Height:\", height)\n",
    "print(\"Type of height:\", type(height))"
   ]
  },
  {
   "cell_type": "code",
   "execution_count": 3,
   "id": "cd67f657",
   "metadata": {},
   "outputs": [
    {
     "name": "stdout",
     "output_type": "stream",
     "text": [
      "Name: Alice\n",
      "Type of name: <class 'str'>\n"
     ]
    }
   ],
   "source": [
    "## String datatypes example\n",
    "name = \"Alice\"\n",
    "print(\"Name:\", name)\n",
    "print(\"Type of name:\", type(name))"
   ]
  },
  {
   "cell_type": "code",
   "execution_count": 4,
   "id": "c8824f0d",
   "metadata": {},
   "outputs": [
    {
     "name": "stdout",
     "output_type": "stream",
     "text": [
      "Is Student: False\n",
      "Type of is_student: <class 'bool'>\n"
     ]
    }
   ],
   "source": [
    "## Boolean datatypes example\n",
    "is_student = False\n",
    "print(\"Is Student:\", is_student)\n",
    "print(\"Type of is_student:\", type(is_student))"
   ]
  },
  {
   "cell_type": "code",
   "execution_count": 5,
   "id": "0c27739e",
   "metadata": {},
   "outputs": [
    {
     "data": {
      "text/plain": [
       "bool"
      ]
     },
     "execution_count": 5,
     "metadata": {},
     "output_type": "execute_result"
    }
   ],
   "source": [
    "a = 10\n",
    "b = 10\n",
    "\n",
    "a == b\n",
    "type(a == b)"
   ]
  },
  {
   "cell_type": "code",
   "execution_count": 6,
   "id": "29160a61",
   "metadata": {},
   "outputs": [
    {
     "ename": "TypeError",
     "evalue": "can only concatenate str (not \"int\") to str",
     "output_type": "error",
     "traceback": [
      "\u001b[1;31m---------------------------------------------------------------------------\u001b[0m",
      "\u001b[1;31mTypeError\u001b[0m                                 Traceback (most recent call last)",
      "Cell \u001b[1;32mIn[6], line 2\u001b[0m\n\u001b[0;32m      1\u001b[0m \u001b[38;5;66;03m## Coomon Errors\u001b[39;00m\n\u001b[1;32m----> 2\u001b[0m result \u001b[38;5;241m=\u001b[39m \u001b[38;5;124m'\u001b[39m\u001b[38;5;124mHellow\u001b[39m\u001b[38;5;124m'\u001b[39m \u001b[38;5;241m+\u001b[39m \u001b[38;5;241m5\u001b[39m\n",
      "\u001b[1;31mTypeError\u001b[0m: can only concatenate str (not \"int\") to str"
     ]
    }
   ],
   "source": [
    "## Coomon Errors\n",
    "result = 'Hellow' + 5"
   ]
  },
  {
   "cell_type": "code",
   "execution_count": 7,
   "id": "392cf97d",
   "metadata": {},
   "outputs": [
    {
     "name": "stdout",
     "output_type": "stream",
     "text": [
      "Hello5\n"
     ]
    }
   ],
   "source": [
    "result = 'Hello' + str(5)\n",
    "print(result)  # Hello5"
   ]
  }
 ],
 "metadata": {
  "kernelspec": {
   "display_name": "base",
   "language": "python",
   "name": "python3"
  },
  "language_info": {
   "codemirror_mode": {
    "name": "ipython",
    "version": 3
   },
   "file_extension": ".py",
   "mimetype": "text/x-python",
   "name": "python",
   "nbconvert_exporter": "python",
   "pygments_lexer": "ipython3",
   "version": "3.13.5"
  }
 },
 "nbformat": 4,
 "nbformat_minor": 5
}

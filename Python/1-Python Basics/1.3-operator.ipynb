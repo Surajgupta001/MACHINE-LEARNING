{
 "cells": [
  {
   "cell_type": "markdown",
   "id": "7965cc71",
   "metadata": {},
   "source": [
    "# Operators in Python"
   ]
  },
  {
   "cell_type": "markdown",
   "id": "8c7e8f17",
   "metadata": {},
   "source": [
    "## Course Outline\n",
    "1. Introduction to Operators\n",
    "2. Arthmetic Operators\n",
    "   - Addition\n",
    "   - Subtraction\n",
    "   - Multiplication\n",
    "   - Division\n",
    "   - Modulus\n",
    "   - Exponentiation\n",
    "   - Floor Division\n",
    "3. Comparison Operators\n",
    "   - Equal to\n",
    "   - Not Equal to\n",
    "   - Greater than\n",
    "   - Less than\n",
    "   - Greater than or Equal to\n",
    "   - Less than or Equal to\n",
    "4. Logical Operators\n",
    "   - AND\n",
    "   - OR\n",
    "   - NOT\n",
    "5. Practical Examples and Common Erros"
   ]
  },
  {
   "cell_type": "code",
   "execution_count": 2,
   "id": "8adff4f9",
   "metadata": {},
   "outputs": [
    {
     "name": "stdout",
     "output_type": "stream",
     "text": [
      "Addition: 13\n",
      "Subtraction: 7\n",
      "Multiplication: 30\n",
      "Division: 3.3333333333333335\n",
      "Floor Division: 3\n",
      "Modulus: 1\n",
      "Exponentiation: 1000\n"
     ]
    }
   ],
   "source": [
    "## Arithmetic Operators\n",
    "a = 10\n",
    "b = 3\n",
    "\n",
    "add_result = a + b # Addition\n",
    "sub_result = a - b # Subtraction\n",
    "mul_result = a * b # Multiplication\n",
    "div_result = a / b # Division\n",
    "floor_div_result = a // b # Floor Division\n",
    "mod_result = a % b # Modulus\n",
    "exp_result = a ** b # Exponentiation\n",
    "\n",
    "print(\"Addition:\", add_result)\n",
    "print(\"Subtraction:\", sub_result)\n",
    "print(\"Multiplication:\", mul_result)\n",
    "print(\"Division:\", div_result)\n",
    "print(\"Floor Division:\", floor_div_result)\n",
    "print(\"Modulus:\", mod_result)\n",
    "print(\"Exponentiation:\", exp_result)"
   ]
  },
  {
   "cell_type": "code",
   "execution_count": 5,
   "id": "81329f0b",
   "metadata": {},
   "outputs": [
    {
     "data": {
      "text/plain": [
       "2.0"
      ]
     },
     "execution_count": 5,
     "metadata": {},
     "output_type": "execute_result"
    }
   ],
   "source": [
    "10/5"
   ]
  },
  {
   "cell_type": "code",
   "execution_count": 6,
   "id": "2ee0a4d0",
   "metadata": {},
   "outputs": [
    {
     "data": {
      "text/plain": [
       "2"
      ]
     },
     "execution_count": 6,
     "metadata": {},
     "output_type": "execute_result"
    }
   ],
   "source": [
    "10//5"
   ]
  },
  {
   "cell_type": "code",
   "execution_count": 7,
   "id": "e6dfc878",
   "metadata": {},
   "outputs": [
    {
     "name": "stdout",
     "output_type": "stream",
     "text": [
      "Equal: False\n"
     ]
    }
   ],
   "source": [
    "## Comparison Operators\n",
    "## ==\n",
    "x = 5\n",
    "y = 10\n",
    "\n",
    "print(\"Equal:\", x == y) # Equal"
   ]
  },
  {
   "cell_type": "code",
   "execution_count": 8,
   "id": "96ed8989",
   "metadata": {},
   "outputs": [
    {
     "name": "stdout",
     "output_type": "stream",
     "text": [
      "Greater Than: False\n"
     ]
    }
   ],
   "source": [
    "## Greater Than\n",
    "print(\"Greater Than:\", x > y) # Greater Than"
   ]
  },
  {
   "cell_type": "code",
   "execution_count": 10,
   "id": "ac509a7e",
   "metadata": {},
   "outputs": [
    {
     "name": "stdout",
     "output_type": "stream",
     "text": [
      "Less Than: True\n"
     ]
    }
   ],
   "source": [
    "## Less Than\n",
    "print(\"Less Than:\", x < y) # Less Than"
   ]
  }
 ],
 "metadata": {
  "kernelspec": {
   "display_name": "base",
   "language": "python",
   "name": "python3"
  },
  "language_info": {
   "codemirror_mode": {
    "name": "ipython",
    "version": 3
   },
   "file_extension": ".py",
   "mimetype": "text/x-python",
   "name": "python",
   "nbconvert_exporter": "python",
   "pygments_lexer": "ipython3",
   "version": "3.13.5"
  }
 },
 "nbformat": 4,
 "nbformat_minor": 5
}

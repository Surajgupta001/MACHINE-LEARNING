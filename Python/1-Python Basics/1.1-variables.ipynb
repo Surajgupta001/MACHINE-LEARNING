{
 "cells": [
  {
   "cell_type": "markdown",
   "id": "c7a55eae",
   "metadata": {},
   "source": [
    "# Variables"
   ]
  },
  {
   "cell_type": "markdown",
   "id": "f0ce6269",
   "metadata": {},
   "source": [
    "**Variables** are fundamental elements in programming used to store data that can be referenced and manipulated in a program. In Python, variables are created when you assign a value to them, and they do not need explicit declaration of reserve memory space. The declaration happens automatically when you assign a value to a variable."
   ]
  },
  {
   "cell_type": "markdown",
   "id": "8cf27b9d",
   "metadata": {},
   "source": [
    "## Course Outline\n",
    "- Introduction to Variables\n",
    "- Declaring anf Assigning Variables\n",
    "- Naming Conventions\n",
    "- Understanding variable types\n",
    "- Type Checking and Conversion\n",
    "- Dynamic Typing\n",
    "- Practical Examples and Common Errors"
   ]
  },
  {
   "cell_type": "code",
   "execution_count": 1,
   "id": "af231e98",
   "metadata": {},
   "outputs": [],
   "source": [
    "a=10"
   ]
  },
  {
   "cell_type": "code",
   "execution_count": 2,
   "id": "4429e285",
   "metadata": {},
   "outputs": [
    {
     "name": "stdout",
     "output_type": "stream",
     "text": [
      "Age: 23\n",
      "Name: John\n",
      "Height: 5.9\n",
      "Is Student: True\n"
     ]
    }
   ],
   "source": [
    "## Declaring and Assigning Variables\n",
    "\n",
    "age=23\n",
    "name=\"John\"\n",
    "height=5.9\n",
    "is_student=True\n",
    "\n",
    "## Printing Variables\n",
    "print('Age:', age)\n",
    "print('Name:', name)\n",
    "print('Height:', height)\n",
    "print('Is Student:', is_student)"
   ]
  },
  {
   "cell_type": "code",
   "execution_count": 3,
   "id": "1b73020c",
   "metadata": {},
   "outputs": [],
   "source": [
    "## Naming Conventions\n",
    "## variables names should be descriptive.\n",
    "## They must start with a letter or an underscore (_) and contain letters, numbers, and underscores only.\n",
    "## Variables names are case-sensitive (e.g., age and Age are different variables).\n",
    "\n",
    "# Valid variable names\n",
    "user_name = \"Alice\"\n",
    "last_name = \"Smith\""
   ]
  },
  {
   "cell_type": "code",
   "execution_count": 4,
   "id": "3a860306",
   "metadata": {},
   "outputs": [],
   "source": [
    "## Invalid variable names\n",
    "# 2age=30\n",
    "# first-name=\"Bob\"\n",
    "# @name=\"Charlie\""
   ]
  },
  {
   "cell_type": "code",
   "execution_count": 5,
   "id": "72f8ea85",
   "metadata": {},
   "outputs": [
    {
     "data": {
      "text/plain": [
       "False"
      ]
     },
     "execution_count": 5,
     "metadata": {},
     "output_type": "execute_result"
    }
   ],
   "source": [
    "## Case Sensitivity\n",
    "name=\"John\"\n",
    "Name=\"Doe\"\n",
    "\n",
    "name == Name  # This will be False"
   ]
  },
  {
   "cell_type": "code",
   "execution_count": 6,
   "id": "30f4eb9e",
   "metadata": {},
   "outputs": [
    {
     "name": "stdout",
     "output_type": "stream",
     "text": [
      "<class 'int'>\n",
      "<class 'float'>\n",
      "<class 'bool'>\n",
      "<class 'str'>\n"
     ]
    }
   ],
   "source": [
    "## Understanding Variable Types\n",
    "## Python is dynamically typed, type of a variable is determined at runtime based on the assigned value.\n",
    "age=25         # Integer\n",
    "price=19.99    # Float\n",
    "is_active=True # Boolean\n",
    "username=\"user123\" # String\n",
    "\n",
    "print(type(age))        # <class 'int'>\n",
    "print(type(price))      # <class 'float'>\n",
    "print(type(is_active))  # <class 'bool'>\n",
    "print(type(username))   # <class 'str'>"
   ]
  },
  {
   "cell_type": "code",
   "execution_count": 7,
   "id": "fb3085d9",
   "metadata": {},
   "outputs": [
    {
     "name": "stdout",
     "output_type": "stream",
     "text": [
      "<class 'int'>\n",
      "<class 'str'>\n"
     ]
    }
   ],
   "source": [
    "## Type Checking and Conversion\n",
    "age=30\n",
    "print(type(age))  # <class 'int'>\n",
    "\n",
    "age_str=str(age)\n",
    "print(type(age_str))  # <class 'str'>\n"
   ]
  },
  {
   "cell_type": "code",
   "execution_count": 8,
   "id": "ede39533",
   "metadata": {},
   "outputs": [
    {
     "name": "stdout",
     "output_type": "stream",
     "text": [
      "10 <class 'int'>\n",
      "Hello <class 'str'>\n"
     ]
    }
   ],
   "source": [
    "## Dynamic Typing\n",
    "## Python allows variables to change types during execution.\n",
    "var=10\n",
    "print(var, type(var))  # 10 <class 'int'>\n",
    "\n",
    "# Reassigning to a string\n",
    "var=\"Hello\"\n",
    "print(var, type(var))  # Hello <class 'str'>"
   ]
  },
  {
   "cell_type": "code",
   "execution_count": 9,
   "id": "e3595ee3",
   "metadata": {},
   "outputs": [
    {
     "name": "stdout",
     "output_type": "stream",
     "text": [
      "12 <class 'str'>\n"
     ]
    }
   ],
   "source": [
    "## input\n",
    "age=input(\"Enter your age: \")\n",
    "print(age, type(age))  # <class 'str'>"
   ]
  },
  {
   "cell_type": "code",
   "execution_count": 10,
   "metadata": {},
   "outputs": [
    {
     "name": "stdout",
     "output_type": "stream",
     "text": [
      "Sum: 46.0\n",
      "Difference: 0.0\n",
      "Product: 529.0\n",
      "Quotient: 1.0\n",
      "Modulus: 0.0\n",
      "Exponentiation: 2.088046799984791e+31\n",
      "Floor Division: 1.0\n"
     ]
    }
   ],
   "source": [
    "## Simple Calculator\n",
    "num1 = float(input(\"Enter first number: \"))\n",
    "num2 = float(input(\"Enter second number: \"))\n",
    "\n",
    "sum = num1 + num2\n",
    "difference = num1 - num2\n",
    "product = num1 * num2\n",
    "quotient = num1 / num2 if num2 != 0 else \"undefined (division by zero)\"\n",
    "modulus = num1 % num2 if num2 != 0 else \"undefined (modulus by zero)\"\n",
    "exponentiation = num1 ** num2\n",
    "floor_division = num1 // num2 if num2 != 0 else \"undefined (floor division by zero)\"\n",
    "\n",
    "print(\"Sum:\", sum)\n",
    "print(\"Difference:\", difference)\n",
    "print(\"Product:\", product)\n",
    "print(\"Quotient:\", quotient)\n",
    "print(\"Modulus:\", modulus)\n",
    "print(\"Exponentiation:\", exponentiation)\n",
    "print(\"Floor Division:\", floor_division)"
   ]
  },
  {
   "cell_type": "markdown",
   "id": "a9c54be8",
   "metadata": {},
   "source": [
    "# DataTypes\n"
   ]
  },
  {
   "cell_type": "markdown",
   "id": "a79e76a9",
   "metadata": {},
   "source": [
    "1. Definition:\n",
    "   - Data types are classifications of data which tells the compiler or interpreter how the programmer intends to use the data.\n",
    "   - They determine the operations that can be performed on the data, the value that the data can take, and the amount of memory nedeed to store the data.\n",
    "2. Importance of Data Types in Programming\n",
    "   \n",
    "   Explanation:\n",
    "   - Data types ensure that data is stored in an efficient way.\n",
    "   - They help in performing correct operations on data.\n",
    "   - Proper use of data types can prevent errors and bugs in the program.\n",
    "  \n",
    "   COURSE OUTLINE\n",
    "   1. Introduction to Data Types\n",
    "   2. Importance of Data Types in Programming\n",
    "   3. Basic Data Types\n",
    "      - Integers\n",
    "      - Floating-Point Numbers\n",
    "      - Strings\n",
    "      - Booleans\n",
    "   4. Advanced Data Types\n",
    "      - Lists\n",
    "      - Tuples\n",
    "      - Dictionaries\n",
    "      - Sets\n",
    "   5. Type Conversion\n",
    "   6. Practical Examples and Exercises"
   ]
  },
  {
   "cell_type": "code",
   "execution_count": 11,
   "id": "326600a1",
   "metadata": {},
   "outputs": [
    {
     "name": "stdout",
     "output_type": "stream",
     "text": [
      "Age: 35\n",
      "Type of age: <class 'int'>\n"
     ]
    }
   ],
   "source": [
    "## Integer Example\n",
    "age = 35\n",
    "print(\"Age:\", age)\n",
    "print(\"Type of age:\", type(age))"
   ]
  },
  {
   "cell_type": "code",
   "execution_count": 12,
   "id": "956a5ab5",
   "metadata": {},
   "outputs": [
    {
     "name": "stdout",
     "output_type": "stream",
     "text": [
      "Height: 5.9\n",
      "Type of height: <class 'float'>\n"
     ]
    }
   ],
   "source": [
    "## Floating Point Datatypes\n",
    "height = 5.9\n",
    "print(\"Height:\", height)\n",
    "print(\"Type of height:\", type(height))"
   ]
  },
  {
   "cell_type": "code",
   "execution_count": 13,
   "id": "b0101e2e",
   "metadata": {},
   "outputs": [
    {
     "name": "stdout",
     "output_type": "stream",
     "text": [
      "Name: Alice\n",
      "Type of name: <class 'str'>\n"
     ]
    }
   ],
   "source": [
    "## String datatypes example\n",
    "name = \"Alice\"\n",
    "print(\"Name:\", name)\n",
    "print(\"Type of name:\", type(name))"
   ]
  },
  {
   "cell_type": "code",
   "execution_count": 14,
   "id": "e1f6b85a",
   "metadata": {},
   "outputs": [
    {
     "name": "stdout",
     "output_type": "stream",
     "text": [
      "Is Student: False\n",
      "Type of is_student: <class 'bool'>\n"
     ]
    }
   ],
   "source": [
    "## Boolean datatypes example\n",
    "is_student = False\n",
    "print(\"Is Student:\", is_student)\n",
    "print(\"Type of is_student:\", type(is_student))"
   ]
  },
  {
   "cell_type": "code",
   "execution_count": 15,
   "id": "1b29f2a3",
   "metadata": {},
   "outputs": [
    {
     "data": {
      "text/plain": [
       "bool"
      ]
     },
     "execution_count": 15,
     "metadata": {},
     "output_type": "execute_result"
    }
   ],
   "source": [
    "a = 10\n",
    "b = 10\n",
    "\n",
    "a == b\n",
    "type(a == b)"
   ]
  },
  {
   "cell_type": "code",
   "execution_count": 16,
   "id": "c3980d82",
   "metadata": {},
   "outputs": [
    {
     "ename": "TypeError",
     "evalue": "can only concatenate str (not \"int\") to str",
     "output_type": "error",
     "traceback": [
      "\u001b[1;31m---------------------------------------------------------------------------\u001b[0m",
      "\u001b[1;31mTypeError\u001b[0m                                 Traceback (most recent call last)",
      "Cell \u001b[1;32mIn[16], line 2\u001b[0m\n\u001b[0;32m      1\u001b[0m \u001b[38;5;66;03m## Coomon Errors\u001b[39;00m\n\u001b[1;32m----> 2\u001b[0m result \u001b[38;5;241m=\u001b[39m \u001b[38;5;124m'\u001b[39m\u001b[38;5;124mHellow\u001b[39m\u001b[38;5;124m'\u001b[39m \u001b[38;5;241m+\u001b[39m \u001b[38;5;241m5\u001b[39m\n",
      "\u001b[1;31mTypeError\u001b[0m: can only concatenate str (not \"int\") to str"
     ]
    }
   ],
   "source": [
    "## Coomon Errors\n",
    "result = 'Hellow' + 5"
   ]
  },
  {
   "cell_type": "code",
   "execution_count": null,
   "id": "3bda8bcd",
   "metadata": {},
   "outputs": [
    {
     "name": "stdout",
     "output_type": "stream",
     "text": [
      "Hello5\n"
     ]
    }
   ],
   "source": [
    "result = 'Hello' + str(5)\n",
    "print(result)  # Hello5"
   ]
  }
 ],
 "metadata": {
  "kernelspec": {
   "display_name": "base",
   "language": "python",
   "name": "python3"
  },
  "language_info": {
   "codemirror_mode": {
    "name": "ipython",
    "version": 3
   },
   "file_extension": ".py",
   "mimetype": "text/x-python",
   "name": "python",
   "nbconvert_exporter": "python",
   "pygments_lexer": "ipython3",
   "version": "3.13.5"
  }
 },
 "nbformat": 4,
 "nbformat_minor": 5
}

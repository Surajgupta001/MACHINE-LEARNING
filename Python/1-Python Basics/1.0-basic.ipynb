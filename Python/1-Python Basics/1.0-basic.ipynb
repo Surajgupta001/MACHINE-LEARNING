{
 "cells": [
  {
   "cell_type": "markdown",
   "id": "66f9750d",
   "metadata": {},
   "source": [
    "# Syntax and Semantics in Python"
   ]
  },
  {
   "cell_type": "markdown",
   "id": "498ee3de",
   "metadata": {},
   "source": [
    "Course Outline:\n",
    "- Single line Comments and Multiline Comments\n",
    "- Defining of syntax and semantics\n",
    "- Basic Syntax Rules in Python\n",
    "- Understanding Semantics in Python\n",
    "- Common Syntax Errors and How to Avoid Them\n",
    "- Practical Code Examples"
   ]
  },
  {
   "cell_type": "markdown",
   "id": "5d1c3294",
   "metadata": {},
   "source": [
    "**Syntax** refers to the set of rules that define the combinations of symbols that are considered to be correctly structured programs in a programming language. In simple terms, syntax is about the correct arrangement of words and symbols to create valid code."
   ]
  },
  {
   "cell_type": "markdown",
   "id": "df7ef7a1",
   "metadata": {},
   "source": [
    "**Semantics** refers to the meaning or the interpretation of the symbols, characters, and commands in a language. It is about what the code is supposed to do when it is executed."
   ]
  },
  {
   "cell_type": "code",
   "execution_count": null,
   "id": "03516f18",
   "metadata": {},
   "outputs": [
    {
     "name": "stdout",
     "output_type": "stream",
     "text": [
      "John\n",
      "Doe\n"
     ]
    }
   ],
   "source": [
    "## Basic Syntax Rules in Python\n",
    "## Case Sensitivity - python is case-sensitive\n",
    "\n",
    "name=\"John\"\n",
    "Name=\"Doe\"\n",
    "print(name)  # Output: John\n",
    "print(Name)  # Output: Doe"
   ]
  },
  {
   "cell_type": "markdown",
   "id": "b68f3860",
   "metadata": {},
   "source": [
    "### Indentation\n",
    "**Indentation** in Python is used to define the structure and hierarchy of the code. Unlike many other programming languages that use braces `{}` to delimit blocks of code, Python uses indentation to determine the grouping of statements. This means that all the statements within a block must be indented to the same level."
   ]
  },
  {
   "cell_type": "code",
   "execution_count": 6,
   "id": "5c2e8b08",
   "metadata": {},
   "outputs": [
    {
     "name": "stdout",
     "output_type": "stream",
     "text": [
      "You are older than 32\n",
      "This is outside the if block\n"
     ]
    }
   ],
   "source": [
    "# ## Indentation\n",
    "# ## Python uses indentation to define blocks of code. Consistent use of spaces (commonly 4) or a tab is required.\n",
    "\n",
    "age=32\n",
    "if age>30:\n",
    "    print(\"You are older than 32\")\n",
    "print(\"This is outside the if block\")  # This line is not indented, so it's outside the if block"
   ]
  },
  {
   "cell_type": "code",
   "execution_count": 7,
   "id": "7e5313eb",
   "metadata": {},
   "outputs": [
    {
     "name": "stdout",
     "output_type": "stream",
     "text": [
      "Hello, World!\n"
     ]
    }
   ],
   "source": [
    "## This is a single line comment\n",
    "print(\"Hello, World!\")  # This prints a message to the console"
   ]
  },
  {
   "cell_type": "code",
   "execution_count": 8,
   "id": "3cf6a436",
   "metadata": {},
   "outputs": [
    {
     "name": "stdout",
     "output_type": "stream",
     "text": [
      "21\n"
     ]
    }
   ],
   "source": [
    "## Line Continuation\n",
    "total = 1 + 2 + 3 + \\\n",
    "        4 + 5 + 6\n",
    "print(total)  # Output: 21"
   ]
  },
  {
   "cell_type": "code",
   "execution_count": 9,
   "id": "e37eca99",
   "metadata": {},
   "outputs": [
    {
     "name": "stdout",
     "output_type": "stream",
     "text": [
      "15\n"
     ]
    }
   ],
   "source": [
    "## Multiple Statement on a single line\n",
    "x = 5; y = 10; print(x + y)  # Output: 15"
   ]
  },
  {
   "cell_type": "code",
   "execution_count": 14,
   "id": "ec2cd425",
   "metadata": {},
   "outputs": [],
   "source": [
    "## Understand Semantics in Python\n",
    "## Variable assignment\n",
    "age=32 ## age is a integer\n",
    "name=\"John\" ## name is a string"
   ]
  },
  {
   "cell_type": "code",
   "execution_count": null,
   "id": "5540e8fa",
   "metadata": {},
   "outputs": [
    {
     "data": {
      "text/plain": [
       "int"
      ]
     },
     "execution_count": 16,
     "metadata": {},
     "output_type": "execute_result"
    }
   ],
   "source": [
    "type(age)"
   ]
  },
  {
   "cell_type": "code",
   "execution_count": 17,
   "id": "ff21de64",
   "metadata": {},
   "outputs": [
    {
     "data": {
      "text/plain": [
       "str"
      ]
     },
     "execution_count": 17,
     "metadata": {},
     "output_type": "execute_result"
    }
   ],
   "source": [
    "type(name)"
   ]
  },
  {
   "cell_type": "code",
   "execution_count": 20,
   "id": "63de690f",
   "metadata": {},
   "outputs": [
    {
     "name": "stdout",
     "output_type": "stream",
     "text": [
      "<class 'int'>\n",
      "<class 'str'>\n"
     ]
    }
   ],
   "source": [
    "## Type Interference\n",
    "variable=10  ## Initially an integer\n",
    "print(type(variable))  # Output: <class 'int'>\n",
    "variable=\"Now I'm a string\"  ## Now it's a string\n",
    "print(type(variable))  # Output: <class 'str'>"
   ]
  },
  {
   "cell_type": "code",
   "execution_count": 21,
   "id": "e35d8d13",
   "metadata": {},
   "outputs": [
    {
     "ename": "NameError",
     "evalue": "name 'b' is not defined",
     "output_type": "error",
     "traceback": [
      "\u001b[31m---------------------------------------------------------------------------\u001b[39m",
      "\u001b[31mNameError\u001b[39m                                 Traceback (most recent call last)",
      "\u001b[36mCell\u001b[39m\u001b[36m \u001b[39m\u001b[32mIn[21]\u001b[39m\u001b[32m, line 2\u001b[39m\n\u001b[32m      1\u001b[39m \u001b[38;5;66;03m## Name Error\u001b[39;00m\n\u001b[32m----> \u001b[39m\u001b[32m2\u001b[39m a=\u001b[43mb\u001b[49m\n",
      "\u001b[31mNameError\u001b[39m: name 'b' is not defined"
     ]
    }
   ],
   "source": [
    "## Name Error\n",
    "a=b"
   ]
  },
  {
   "cell_type": "code",
   "execution_count": 23,
   "id": "2c9cc07b",
   "metadata": {},
   "outputs": [
    {
     "name": "stdout",
     "output_type": "stream",
     "text": [
      "This is indented\n",
      "Still inside the first if\n",
      "Outside of both if statements\n"
     ]
    }
   ],
   "source": [
    "## Code example of indentation\n",
    "if True:\n",
    "    print(\"This is indented\")\n",
    "    if False:\n",
    "        print(\"This won't print\")\n",
    "    print(\"Still inside the first if\")\n",
    "print(\"Outside of both if statements\")"
   ]
  }
 ],
 "metadata": {
  "kernelspec": {
   "display_name": "Python 3",
   "language": "python",
   "name": "python3"
  },
  "language_info": {
   "codemirror_mode": {
    "name": "ipython",
    "version": 3
   },
   "file_extension": ".py",
   "mimetype": "text/x-python",
   "name": "python",
   "nbconvert_exporter": "python",
   "pygments_lexer": "ipython3",
   "version": "3.12.0"
  }
 },
 "nbformat": 4,
 "nbformat_minor": 5
}

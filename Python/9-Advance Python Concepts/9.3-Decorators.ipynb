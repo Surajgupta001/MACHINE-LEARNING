{
 "cells": [
  {
   "cell_type": "markdown",
   "id": "c4cd5dd0",
   "metadata": {},
   "source": [
    "# Decorators\n",
    "\n",
    "Decorators are a powerful and flexible feature in Python that allows you to modify the behavior of functions or methods. They are commonly used to add functionality to functions or methods without changing their actual code. Decorators are often used for logging, access control, caching, and more."
   ]
  },
  {
   "cell_type": "code",
   "execution_count": 42,
   "id": "20471cd8",
   "metadata": {},
   "outputs": [],
   "source": [
    "## Function copy\n",
    "## Closures\n",
    "## Decorators"
   ]
  },
  {
   "cell_type": "code",
   "execution_count": 43,
   "id": "f814d73c",
   "metadata": {},
   "outputs": [
    {
     "data": {
      "text/plain": [
       "'Welcome to Python'"
      ]
     },
     "execution_count": 43,
     "metadata": {},
     "output_type": "execute_result"
    }
   ],
   "source": [
    "## Function copy\n",
    "def welcome():\n",
    "    return \"Welcome to Python\"\n",
    "\n",
    "welcome()"
   ]
  },
  {
   "cell_type": "code",
   "execution_count": 44,
   "id": "e6914183",
   "metadata": {},
   "outputs": [
    {
     "name": "stdout",
     "output_type": "stream",
     "text": [
      "Welcome to Python\n",
      "Welcome to Python\n"
     ]
    }
   ],
   "source": [
    "wel=welcome\n",
    "print(wel())\n",
    "del welcome\n",
    "print(wel())"
   ]
  },
  {
   "cell_type": "code",
   "execution_count": 51,
   "id": "b99627ef",
   "metadata": {},
   "outputs": [],
   "source": [
    "## Closures functions\n",
    "def main_welcome(func):\n",
    "    def subWelcome():\n",
    "        print(\"This is sub function\")\n",
    "        func(\"Welcome to Python.....\")\n",
    "        print(\"Please enjoy your learning\")\n",
    "    return subWelcome()\n"
   ]
  },
  {
   "cell_type": "code",
   "execution_count": 46,
   "id": "08f30335",
   "metadata": {},
   "outputs": [
    {
     "name": "stdout",
     "output_type": "stream",
     "text": [
      "This is sub function\n",
      "Welcome to Python.....\n",
      "Please enjoy your learning\n"
     ]
    }
   ],
   "source": [
    "main_welcome(print)"
   ]
  },
  {
   "cell_type": "code",
   "execution_count": 52,
   "id": "74272bbe",
   "metadata": {},
   "outputs": [
    {
     "name": "stdout",
     "output_type": "stream",
     "text": [
      "This is sub function\n"
     ]
    },
    {
     "ename": "TypeError",
     "evalue": "'str' object is not callable",
     "output_type": "error",
     "traceback": [
      "\u001b[1;31m---------------------------------------------------------------------------\u001b[0m",
      "\u001b[1;31mTypeError\u001b[0m                                 Traceback (most recent call last)",
      "Cell \u001b[1;32mIn[52], line 1\u001b[0m\n\u001b[1;32m----> 1\u001b[0m main_welcome(\u001b[38;5;124m\"\u001b[39m\u001b[38;5;124mWelcome to Python...\u001b[39m\u001b[38;5;124m\"\u001b[39m)\n",
      "Cell \u001b[1;32mIn[51], line 7\u001b[0m, in \u001b[0;36mmain_welcome\u001b[1;34m(func)\u001b[0m\n\u001b[0;32m      5\u001b[0m     func(\u001b[38;5;124m\"\u001b[39m\u001b[38;5;124mWelcome to Python.....\u001b[39m\u001b[38;5;124m\"\u001b[39m)\n\u001b[0;32m      6\u001b[0m     \u001b[38;5;28mprint\u001b[39m(\u001b[38;5;124m\"\u001b[39m\u001b[38;5;124mPlease enjoy your learning\u001b[39m\u001b[38;5;124m\"\u001b[39m)\n\u001b[1;32m----> 7\u001b[0m \u001b[38;5;28;01mreturn\u001b[39;00m subWelcome()\n",
      "Cell \u001b[1;32mIn[51], line 5\u001b[0m, in \u001b[0;36mmain_welcome.<locals>.subWelcome\u001b[1;34m()\u001b[0m\n\u001b[0;32m      3\u001b[0m \u001b[38;5;28;01mdef\u001b[39;00m\u001b[38;5;250m \u001b[39m\u001b[38;5;21msubWelcome\u001b[39m():\n\u001b[0;32m      4\u001b[0m     \u001b[38;5;28mprint\u001b[39m(\u001b[38;5;124m\"\u001b[39m\u001b[38;5;124mThis is sub function\u001b[39m\u001b[38;5;124m\"\u001b[39m)\n\u001b[1;32m----> 5\u001b[0m     func(\u001b[38;5;124m\"\u001b[39m\u001b[38;5;124mWelcome to Python.....\u001b[39m\u001b[38;5;124m\"\u001b[39m)\n\u001b[0;32m      6\u001b[0m     \u001b[38;5;28mprint\u001b[39m(\u001b[38;5;124m\"\u001b[39m\u001b[38;5;124mPlease enjoy your learning\u001b[39m\u001b[38;5;124m\"\u001b[39m)\n",
      "\u001b[1;31mTypeError\u001b[0m: 'str' object is not callable"
     ]
    }
   ],
   "source": [
    "main_welcome(\"Welcome to Python...\")"
   ]
  },
  {
   "cell_type": "code",
   "execution_count": 53,
   "id": "1d9be041",
   "metadata": {},
   "outputs": [],
   "source": [
    "def main_welcome(func, lst):\n",
    "    def subWelcome():\n",
    "        print(\"This is sub function\")\n",
    "        print(func(lst))\n",
    "        print(\"Please enjoy your learning\")\n",
    "    return subWelcome()"
   ]
  },
  {
   "cell_type": "code",
   "execution_count": 54,
   "id": "6046f962",
   "metadata": {},
   "outputs": [
    {
     "name": "stdout",
     "output_type": "stream",
     "text": [
      "This is sub function\n",
      "5\n",
      "Please enjoy your learning\n"
     ]
    }
   ],
   "source": [
    "main_welcome(len, [1,2,3,4,5])"
   ]
  },
  {
   "cell_type": "code",
   "execution_count": 56,
   "id": "58649648",
   "metadata": {},
   "outputs": [],
   "source": [
    "## Decorators\n",
    "def main_welcome(func):\n",
    "    def subWelcome():\n",
    "        print(\"This is sub function\")\n",
    "        func()\n",
    "        print(\"Please enjoy your learning\")\n",
    "    return subWelcome()"
   ]
  },
  {
   "cell_type": "code",
   "execution_count": 58,
   "id": "64f467fa",
   "metadata": {},
   "outputs": [
    {
     "name": "stdout",
     "output_type": "stream",
     "text": [
      "This is Python Course\n"
     ]
    }
   ],
   "source": [
    "def course_introduction():\n",
    "    print(\"This is Python Course\")\n",
    "    \n",
    "course_introduction()"
   ]
  },
  {
   "cell_type": "code",
   "execution_count": 59,
   "id": "c9f98a91",
   "metadata": {},
   "outputs": [
    {
     "name": "stdout",
     "output_type": "stream",
     "text": [
      "This is sub function\n",
      "This is Python Course\n",
      "Please enjoy your learning\n"
     ]
    }
   ],
   "source": [
    "main_welcome(course_introduction)"
   ]
  },
  {
   "cell_type": "code",
   "execution_count": 61,
   "id": "1099f18d",
   "metadata": {},
   "outputs": [
    {
     "name": "stdout",
     "output_type": "stream",
     "text": [
      "This is sub function\n",
      "This is Python Course\n",
      "Please enjoy your learning\n"
     ]
    }
   ],
   "source": [
    "@main_welcome\n",
    "def course_introduction():\n",
    "    print(\"This is Python Course\")"
   ]
  },
  {
   "cell_type": "code",
   "execution_count": 1,
   "id": "8d6a4189",
   "metadata": {},
   "outputs": [],
   "source": [
    "## Decorator\n",
    "def my_decorator(func):\n",
    "    def wrapper():\n",
    "        print(\"Something is happening before the function is called.\")\n",
    "        func()\n",
    "        print(\"Something is happening after the function is called.\")\n",
    "    return wrapper"
   ]
  },
  {
   "cell_type": "code",
   "execution_count": 4,
   "id": "0a7674db",
   "metadata": {},
   "outputs": [],
   "source": [
    "@my_decorator\n",
    "def say_hello():\n",
    "    print(\"Hello!\")"
   ]
  },
  {
   "cell_type": "code",
   "execution_count": 6,
   "id": "72c63d4d",
   "metadata": {},
   "outputs": [
    {
     "name": "stdout",
     "output_type": "stream",
     "text": [
      "Something is happening before the function is called.\n",
      "Hello!\n",
      "Something is happening after the function is called.\n"
     ]
    }
   ],
   "source": [
    "say_hello()"
   ]
  },
  {
   "cell_type": "code",
   "execution_count": 10,
   "id": "20ab3736",
   "metadata": {},
   "outputs": [],
   "source": [
    "## Decorators with arguments\n",
    "def repeat(n):\n",
    "    def decorator(func):\n",
    "        def wrapper(*args, **kwargs):\n",
    "            for _ in range(n):\n",
    "                func(*args, **kwargs)\n",
    "        return wrapper\n",
    "    return decorator"
   ]
  },
  {
   "cell_type": "code",
   "execution_count": 12,
   "id": "bd9dbf0a",
   "metadata": {},
   "outputs": [],
   "source": [
    "@repeat(3)\n",
    "def say_hello():\n",
    "    print(\"Hello!\")"
   ]
  },
  {
   "cell_type": "code",
   "execution_count": 13,
   "id": "fc905558",
   "metadata": {},
   "outputs": [
    {
     "name": "stdout",
     "output_type": "stream",
     "text": [
      "Hello!\n",
      "Hello!\n",
      "Hello!\n"
     ]
    }
   ],
   "source": [
    "say_hello()"
   ]
  }
 ],
 "metadata": {
  "kernelspec": {
   "display_name": "base",
   "language": "python",
   "name": "python3"
  },
  "language_info": {
   "codemirror_mode": {
    "name": "ipython",
    "version": 3
   },
   "file_extension": ".py",
   "mimetype": "text/x-python",
   "name": "python",
   "nbconvert_exporter": "python",
   "pygments_lexer": "ipython3",
   "version": "3.13.5"
  }
 },
 "nbformat": 4,
 "nbformat_minor": 5
}

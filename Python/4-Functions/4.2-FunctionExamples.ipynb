{
 "cells": [
  {
   "cell_type": "markdown",
   "id": "fa825931",
   "metadata": {},
   "source": [
    "# Function Examples and Best Practices"
   ]
  },
  {
   "cell_type": "markdown",
   "id": "d487b60b",
   "metadata": {},
   "source": [
    "## Examples 1: Temperature Conversion"
   ]
  },
  {
   "cell_type": "code",
   "execution_count": 2,
   "id": "74336422",
   "metadata": {},
   "outputs": [
    {
     "name": "stdout",
     "output_type": "stream",
     "text": [
      "34.7°C is 94.46000000000001°F\n"
     ]
    }
   ],
   "source": [
    "## Temperature Conversion\n",
    "def celsius_to_fahrenheit(celsius):\n",
    "    \"\"\"Convert Celsius to Fahrenheit\"\"\"\n",
    "    fahrenheit = (celsius * 9/5) + 32\n",
    "    return fahrenheit\n",
    "\n",
    "# User input\n",
    "temp_c = float(input(\"Enter temperature in Celsius: \"))\n",
    "temp_f = celsius_to_fahrenheit(temp_c)\n",
    "print(f\"{temp_c}°C is {temp_f}°F\")"
   ]
  },
  {
   "cell_type": "markdown",
   "id": "ee11b70e",
   "metadata": {},
   "source": [
    "## Examples 2: Password Strength Checker"
   ]
  },
  {
   "cell_type": "code",
   "execution_count": null,
   "id": "f72faf0f",
   "metadata": {},
   "outputs": [
    {
     "name": "stdout",
     "output_type": "stream",
     "text": [
      "Password Strength: Weak\n"
     ]
    }
   ],
   "source": [
    "## Password Strength Checker\n",
    "def check_password_strength(password):\n",
    "    \"\"\"Check the strength of a given password\"\"\"\n",
    "    length = len(password)\n",
    "    has_upper = any(c.isupper() for c in password) # Check for uppercase letters\n",
    "    has_lower = any(c.islower() for c in password) # Check for lowercase letters\n",
    "    has_digit = any(c.isdigit() for c in password) # Check for digits\n",
    "    has_special = any(not c.isalnum() for c in password) # Check for special characters\n",
    "\n",
    "    strength = 0\n",
    "    if length >= 8:\n",
    "        strength += 1 # Length criteria\n",
    "    if has_upper:\n",
    "        strength += 1 # Uppercase criteria\n",
    "    if has_lower:\n",
    "        strength += 1 # Lowercase criteria\n",
    "    if has_digit:\n",
    "        strength += 1 # Digit criteria\n",
    "    if has_special:\n",
    "        strength += 1 # Special character criteria\n",
    "        strength += 1 # Additional criteria for special characters\n",
    "\n",
    "    if strength == 5:\n",
    "        return \"Very Strong\"\n",
    "    elif strength >= 4:\n",
    "        return \"Strong\"\n",
    "    elif strength >= 3:\n",
    "        return \"Moderate\"\n",
    "    else:\n",
    "        return \"Weak\"\n",
    "\n",
    "# User input\n",
    "user_password = input(\"Enter a password to check its strength: \")\n",
    "strength = check_password_strength(user_password)\n",
    "print(f\"Password Strength: {strength}\")"
   ]
  },
  {
   "cell_type": "markdown",
   "id": "09f65ef8",
   "metadata": {},
   "source": [
    "## Examples 3: Calculate the Total COst Of Items in a Shopping Cart"
   ]
  },
  {
   "cell_type": "code",
   "execution_count": 4,
   "id": "f63e052c",
   "metadata": {},
   "outputs": [
    {
     "name": "stdout",
     "output_type": "stream",
     "text": [
      "Total Cost: $6.00\n"
     ]
    }
   ],
   "source": [
    "## Calculate the Total Cost Of Items in a Shopping Cart\n",
    "def calculate_total_cost(cart):\n",
    "    \"\"\"Calculate the total cost of items in a shopping cart\"\"\"\n",
    "    total = 0\n",
    "    for item, price in cart.items():\n",
    "        total += price\n",
    "    return total\n",
    "\n",
    "# Example shopping cart\n",
    "shopping_cart = {\n",
    "    \"apple\": 1.2,\n",
    "    \"banana\": 0.5,\n",
    "    \"milk\": 2.5,\n",
    "    \"bread\": 1.8\n",
    "}\n",
    "\n",
    "total_cost = calculate_total_cost(shopping_cart)\n",
    "print(f\"Total Cost: ${total_cost:.2f}\")"
   ]
  },
  {
   "cell_type": "markdown",
   "id": "e6287d58",
   "metadata": {},
   "source": [
    "## Examples 4: Check if a string is a palindrome"
   ]
  },
  {
   "cell_type": "code",
   "execution_count": 7,
   "id": "5e3d083b",
   "metadata": {},
   "outputs": [
    {
     "name": "stdout",
     "output_type": "stream",
     "text": [
      "\"awa\" is a palindrome.\n"
     ]
    }
   ],
   "source": [
    "## Check if a string is a palindrome\n",
    "def is_palindrome(s):\n",
    "    \"\"\"Check if the given string is a palindrome\"\"\"\n",
    "    s = s.replace(\" \", \"\").lower() # Remove spaces and convert to lowercase\n",
    "    return s == s[::-1] # Check if string is equal to its reverse\n",
    "\n",
    "# User input\n",
    "user_string = input(\"Enter a string to check if it's a palindrome: \")\n",
    "if is_palindrome(user_string):\n",
    "    print(f'\"{user_string}\" is a palindrome.')\n",
    "else:\n",
    "    print(f'\"{user_string}\" is not a palindrome.')"
   ]
  },
  {
   "cell_type": "markdown",
   "id": "92ef755e",
   "metadata": {},
   "source": [
    "## Example 5: Calculate the Factorial of a Number using Recursion"
   ]
  },
  {
   "cell_type": "code",
   "execution_count": 8,
   "id": "32b55b2c",
   "metadata": {},
   "outputs": [
    {
     "name": "stdout",
     "output_type": "stream",
     "text": [
      "The factorial of 4 is 24.\n"
     ]
    }
   ],
   "source": [
    "## Calculate the Factorial of a Number using Recursion\n",
    "def factorial(n):\n",
    "    \"\"\"Calculate the factorial of a number using recursion\"\"\"\n",
    "    if n == 0 or n == 1:\n",
    "        return 1\n",
    "    else:\n",
    "        return n * factorial(n - 1)\n",
    "    \n",
    "# User input\n",
    "num = int(input(\"Enter a number to calculate its factorial: \"))\n",
    "fact = factorial(num)\n",
    "print(f\"The factorial of {num} is {fact}.\")"
   ]
  },
  {
   "cell_type": "markdown",
   "id": "493e84ee",
   "metadata": {},
   "source": [
    "## Example 6: A Function to Read A File and Count the each Word"
   ]
  },
  {
   "cell_type": "code",
   "execution_count": 10,
   "id": "7f294128",
   "metadata": {},
   "outputs": [
    {
     "name": "stdout",
     "output_type": "stream",
     "text": [
      "File not found. Please check the file path.\n"
     ]
    }
   ],
   "source": [
    "## A Function to Read A File and Count the each Word\n",
    "def word_count(file_path):\n",
    "    \"\"\"Read a file and count the occurrences of each word\"\"\"\n",
    "    try:\n",
    "        with open(file_path, 'r') as file:\n",
    "            text = file.read().lower() # Read and convert to lowercase\n",
    "            words = text.split() # Split text into words\n",
    "            word_freq = {}\n",
    "            for word in words:\n",
    "                word = word.strip('.,!?;\"()[]{}') # Remove punctuation\n",
    "                if word in word_freq:\n",
    "                    word_freq[word] += 1\n",
    "                else:\n",
    "                    word_freq[word] = 1\n",
    "            return word_freq\n",
    "    except FileNotFoundError:\n",
    "        print(\"File not found. Please check the file path.\")\n",
    "        return {}\n",
    "    \n",
    "# User input\n",
    "file_path = input(\"Enter the path of the text file: \")\n",
    "word_frequencies = word_count(file_path)\n",
    "for word, count in word_frequencies.items():\n",
    "    print(f\"{word}: {count}\")"
   ]
  },
  {
   "cell_type": "markdown",
   "id": "09d0bba3",
   "metadata": {},
   "source": [
    "## Examples 7: Validate Email Address"
   ]
  },
  {
   "cell_type": "code",
   "execution_count": null,
   "id": "f1e6350e",
   "metadata": {},
   "outputs": [
    {
     "name": "stdout",
     "output_type": "stream",
     "text": [
      "suraj23@gmail.com is a valid email address.\n"
     ]
    },
    {
     "ename": "",
     "evalue": "",
     "output_type": "error",
     "traceback": [
      "\u001b[1;31mThe Kernel crashed while executing code in the current cell or a previous cell. \n",
      "\u001b[1;31mPlease review the code in the cell(s) to identify a possible cause of the failure. \n",
      "\u001b[1;31mClick <a href='https://aka.ms/vscodeJupyterKernelCrash'>here</a> for more info. \n",
      "\u001b[1;31mView Jupyter <a href='command:jupyter.viewOutput'>log</a> for further details."
     ]
    }
   ],
   "source": [
    "import re\n",
    "\n",
    "## Validate Email Address\n",
    "def validate_email(email):\n",
    "    \"\"\"Validate the format of an email address\"\"\"\n",
    "    pattern = r'^[a-zA-Z0-9._%+-]+@[a-zA-Z0-9.-]+\\.[a-zA-Z]{2,}$'\n",
    "    if re.match(pattern, email):\n",
    "        return True\n",
    "    else:\n",
    "        return False\n",
    "    \n",
    "# User input\n",
    "user_email = input(\"Enter an email address to validate: \")\n",
    "if validate_email(user_email):\n",
    "    print(f\"{user_email} is a valid email address.\")\n",
    "else:\n",
    "    print(f\"{user_email} is not a valid email address.\")"
   ]
  }
 ],
 "metadata": {
  "kernelspec": {
   "display_name": "base",
   "language": "python",
   "name": "python3"
  },
  "language_info": {
   "codemirror_mode": {
    "name": "ipython",
    "version": 3
   },
   "file_extension": ".py",
   "mimetype": "text/x-python",
   "name": "python",
   "nbconvert_exporter": "python",
   "pygments_lexer": "ipython3",
   "version": "3.13.5"
  }
 },
 "nbformat": 4,
 "nbformat_minor": 5
}

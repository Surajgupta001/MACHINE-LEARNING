{
 "cells": [
  {
   "cell_type": "markdown",
   "id": "3dde928d",
   "metadata": {},
   "source": [
    "# Filter() Function In Python\n",
    "\n",
    "The filter() function constructs an iterator from elements of an iterable for which a function returns true. In simpler terms, it filters the elements of a list (or any iterable) based on a condition defined in a function."
   ]
  },
  {
   "cell_type": "code",
   "execution_count": 2,
   "id": "6b6c8060",
   "metadata": {},
   "outputs": [
    {
     "data": {
      "text/plain": [
       "True"
      ]
     },
     "execution_count": 2,
     "metadata": {},
     "output_type": "execute_result"
    }
   ],
   "source": [
    "def even(num):\n",
    "    if num % 2 == 0:\n",
    "        return True\n",
    "    return False\n",
    "\n",
    "even(4) # Output: True"
   ]
  },
  {
   "cell_type": "code",
   "execution_count": null,
   "id": "279aee52",
   "metadata": {},
   "outputs": [
    {
     "name": "stdout",
     "output_type": "stream",
     "text": [
      "[2, 4, 6, 8, 10]\n"
     ]
    }
   ],
   "source": [
    "list_of_numbers = [1, 2, 3, 4, 5, 6, 7, 8, 9, 10]\n",
    "even_numbers = list(filter(even, list_of_numbers)) # filter(function, iterable)\n",
    "print(even_numbers)  # Output: [2, 4, 6, 8, 10]"
   ]
  },
  {
   "cell_type": "code",
   "execution_count": 4,
   "id": "e4b57d50",
   "metadata": {},
   "outputs": [
    {
     "name": "stdout",
     "output_type": "stream",
     "text": [
      "[2, 4, 6, 8, 10]\n"
     ]
    }
   ],
   "source": [
    "## Filter with Lambda Function\n",
    "even_numbers_lambda = list(filter(lambda x: x % 2 == 0, list_of_numbers))\n",
    "print(even_numbers_lambda)  # Output: [2, 4, 6, 8, 10]"
   ]
  },
  {
   "cell_type": "code",
   "execution_count": 8,
   "id": "0bae1e59",
   "metadata": {},
   "outputs": [
    {
     "name": "stdout",
     "output_type": "stream",
     "text": [
      "[None, None, None, None, None, 6, None, 8, None, 10]\n"
     ]
    }
   ],
   "source": [
    "## The map() with a lambda function and multiple conditionals\n",
    "numbers = [1, 2, 3, 4, 5, 6, 7, 8, 9, 10]\n",
    "even_and_greater_than_five = list(map(lambda x: x if x % 2 == 0 and x > 5 else None, numbers))\n",
    "print(even_and_greater_than_five)  # Output: [None, None, None, 6, None, 8, None, 10]"
   ]
  },
  {
   "cell_type": "code",
   "execution_count": 9,
   "id": "bd75ccb1",
   "metadata": {},
   "outputs": [
    {
     "name": "stdout",
     "output_type": "stream",
     "text": [
      "[{'name': 'Alice', 'age': 30}, {'name': 'Charlie', 'age': 35}]\n"
     ]
    }
   ],
   "source": [
    "## Filter to check if the age is greater than 25 in dictionary\n",
    "people = [\n",
    "    {\"name\": \"Alice\", \"age\": 30},\n",
    "    {\"name\": \"Bob\", \"age\": 22},\n",
    "    {\"name\": \"Charlie\", \"age\": 35}\n",
    "]\n",
    "adults = list(filter(lambda person: person['age'] > 25, people))\n",
    "print(adults)  # Output: [{'name': 'Alice', 'age': 30}, {'name': 'Charlie', 'age': 35}]"
   ]
  },
  {
   "cell_type": "markdown",
   "id": "3bd4a2ab",
   "metadata": {},
   "source": [
    "## Conclusion\n",
    "The map() function is a powerful tool in Python for applying functions to iterables efficiently. It can be used with both named functions and lambda functions, and it supports multiple iterables as well. By converting the map object to a list or another iterable type, you can easily work with the transformed data."
   ]
  }
 ],
 "metadata": {
  "kernelspec": {
   "display_name": "base",
   "language": "python",
   "name": "python3"
  },
  "language_info": {
   "codemirror_mode": {
    "name": "ipython",
    "version": 3
   },
   "file_extension": ".py",
   "mimetype": "text/x-python",
   "name": "python",
   "nbconvert_exporter": "python",
   "pygments_lexer": "ipython3",
   "version": "3.13.5"
  }
 },
 "nbformat": 4,
 "nbformat_minor": 5
}

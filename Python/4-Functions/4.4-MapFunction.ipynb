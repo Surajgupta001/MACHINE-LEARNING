{
 "cells": [
  {
   "cell_type": "markdown",
   "id": "59c857a7",
   "metadata": {},
   "source": [
    "# The Map() Function In Python\n",
    "\n",
    "The map() function applies a given function to all items in an input list (or any iterable) and returns a map object (which is an iterator). This is particularly useful for transforming data in a concise and efficient manner."
   ]
  },
  {
   "cell_type": "code",
   "execution_count": 1,
   "id": "a75f6c84",
   "metadata": {},
   "outputs": [
    {
     "data": {
      "text/plain": [
       "25"
      ]
     },
     "execution_count": 1,
     "metadata": {},
     "output_type": "execute_result"
    }
   ],
   "source": [
    "def square(x):\n",
    "    return x * x\n",
    "\n",
    "square(5) # Output: 25"
   ]
  },
  {
   "cell_type": "code",
   "execution_count": null,
   "id": "1511669b",
   "metadata": {},
   "outputs": [
    {
     "name": "stdout",
     "output_type": "stream",
     "text": [
      "[1, 4, 9, 16, 25]\n"
     ]
    }
   ],
   "source": [
    "numbers = [1, 2, 3, 4, 5]\n",
    "squared_numbers = list(map(square, numbers)) # map(function, iterable)\n",
    "print(squared_numbers)  # Output: [1, 4, 9, 16, 25]"
   ]
  },
  {
   "cell_type": "code",
   "execution_count": 4,
   "id": "8d546039",
   "metadata": {},
   "outputs": [
    {
     "name": "stdout",
     "output_type": "stream",
     "text": [
      "[1, 4, 9, 16, 25]\n"
     ]
    }
   ],
   "source": [
    "## Lambda Function with Map\n",
    "squared_numbers_lambda = list(map(lambda x: x * x, numbers))\n",
    "\n",
    "print(squared_numbers_lambda)  # Output: [1, 4, 9, 16, 25]"
   ]
  },
  {
   "cell_type": "code",
   "execution_count": 6,
   "id": "0d75cae5",
   "metadata": {},
   "outputs": [
    {
     "name": "stdout",
     "output_type": "stream",
     "text": [
      "[5, 7, 9]\n"
     ]
    }
   ],
   "source": [
    "### map multiple iterables\n",
    "numbers1 = [1, 2, 3]\n",
    "numbers2 = [4, 5, 6]\n",
    "\n",
    "added_numbers = list(map(lambda x, y: x + y, numbers1, numbers2))\n",
    "print(added_numbers)  # Output: [5, 7, 9]"
   ]
  },
  {
   "cell_type": "code",
   "execution_count": 7,
   "id": "fc947deb",
   "metadata": {},
   "outputs": [
    {
     "name": "stdout",
     "output_type": "stream",
     "text": [
      "[1, 2, 3, 4, 5]\n"
     ]
    }
   ],
   "source": [
    "### map() to convert a list of strings to integers\n",
    "# Use map() to convert a list of strings to integers\n",
    "string_numbers = ['1', '2', '3', '4', '5']\n",
    "int_numbers = list(map(int, string_numbers))\n",
    "\n",
    "print(int_numbers)  # Output: [1, 2, 3, 4, 5]"
   ]
  },
  {
   "cell_type": "code",
   "execution_count": 8,
   "id": "1d219cf7",
   "metadata": {},
   "outputs": [
    {
     "name": "stdout",
     "output_type": "stream",
     "text": [
      "['IRON MAN', 'THOR', 'HULK', 'BLACK WIDOW']\n"
     ]
    }
   ],
   "source": [
    "## In-built Functions with map()\n",
    "marvel_heroes = ['Iron Man', 'Thor', 'Hulk', 'Black Widow']\n",
    "uppercase_heroes = list(map(str.upper, marvel_heroes))\n",
    "print(uppercase_heroes)"
   ]
  },
  {
   "cell_type": "code",
   "execution_count": 9,
   "id": "f6e7790d",
   "metadata": {},
   "outputs": [
    {
     "name": "stdout",
     "output_type": "stream",
     "text": [
      "['Alice', 'Bob', 'Charlie']\n",
      "[30, 25, 35]\n"
     ]
    }
   ],
   "source": [
    "def get_name(person):\n",
    "    return person['name']\n",
    "\n",
    "def get_age(person):\n",
    "    return person['age']\n",
    "\n",
    "people = [\n",
    "    {'name': 'Alice', 'age': 30},\n",
    "    {'name': 'Bob', 'age': 25},\n",
    "    {'name': 'Charlie', 'age': 35}\n",
    "]\n",
    "\n",
    "names = list(map(get_name, people))\n",
    "ages = list(map(get_age, people))\n",
    "\n",
    "print(names)  # Output: ['Alice', 'Bob', 'Charlie']\n",
    "print(ages)   # Output: [30, 25, 35]"
   ]
  },
  {
   "cell_type": "markdown",
   "id": "f05023db",
   "metadata": {},
   "source": [
    "### Conclusion\n",
    "The map() function is a powerful tool in Python for applying functions to iterables efficiently. It can be used with both named functions and lambda functions, and it supports multiple iterables as well. By converting the map object to a list or another iterable type, you can easily work with the transformed data.\n",
    "\n",
    "The map() function applies a specified function to each item in an iterable (like a list) and returns a map object (which is an iterator). You can convert this map object to a list or another iterable type.\n"
   ]
  }
 ],
 "metadata": {
  "kernelspec": {
   "display_name": "base",
   "language": "python",
   "name": "python3"
  },
  "language_info": {
   "codemirror_mode": {
    "name": "ipython",
    "version": 3
   },
   "file_extension": ".py",
   "mimetype": "text/x-python",
   "name": "python",
   "nbconvert_exporter": "python",
   "pygments_lexer": "ipython3",
   "version": "3.13.5"
  }
 },
 "nbformat": 4,
 "nbformat_minor": 5
}

{
 "cells": [
  {
   "cell_type": "markdown",
   "id": "bdbe5926",
   "metadata": {},
   "source": [
    "# Functions in Python"
   ]
  },
  {
   "cell_type": "markdown",
   "id": "71657b7e",
   "metadata": {},
   "source": [
    "## Course Outline\n",
    "1. Introduction to Functions\n",
    "2. Defining Functions\n",
    "3. Calling Functions\n",
    "4. Function Parameters and Arguments\n",
    "5. Default Parameter Values\n",
    "6. Variable-Length Arguments\n",
    "7. Return Values"
   ]
  },
  {
   "cell_type": "markdown",
   "id": "05a6357f",
   "metadata": {},
   "source": [
    "### Introduction to Functions\n",
    "\n",
    "- A function is a reusable block of code that performs a specific task.\n",
    "- Functions help in organizing code, improving readability, and reducing redundancy.\n",
    "- Functions can take inputs (parameters) and return outputs (return values).\n",
    "- Functions are defined using the `def` keyword in Python.\n",
    "- Functions can be built-in (like `print()`, `len()`) or user-defined.\n",
    "- Using functions allows for modular programming, making it easier to debug and maintain code."
   ]
  },
  {
   "cell_type": "code",
   "execution_count": 2,
   "id": "c9b701d5",
   "metadata": {},
   "outputs": [
    {
     "data": {
      "text/plain": [
       "'\\ndef function_name(parameter):\\n    \"\"\"docstring\"\"\"\\n    # function body\\n    return expression\\n'"
      ]
     },
     "execution_count": 2,
     "metadata": {},
     "output_type": "execute_result"
    }
   ],
   "source": [
    "## Syntax of Functions\n",
    "'''\n",
    "def function_name(parameter):\n",
    "    \"\"\"docstring\"\"\"\n",
    "    # function body\n",
    "    return expression\n",
    "'''"
   ]
  },
  {
   "cell_type": "code",
   "execution_count": 4,
   "id": "07bf66d0",
   "metadata": {},
   "outputs": [
    {
     "data": {
      "text/plain": [
       "'\\ndef function_name(param1, param2=default_value):\\n    \"\"\"docstring\"\"\"\\n    # function body\\n    return expression\\n'"
      ]
     },
     "execution_count": 4,
     "metadata": {},
     "output_type": "execute_result"
    }
   ],
   "source": [
    "## Function with multiple parameters\n",
    "'''\n",
    "def function_name(param1, param2, param3):\n",
    "    \"\"\"docstring\"\"\"\n",
    "    # function body\n",
    "    return expression\n",
    "'''\n",
    "## Function with default parameter\n",
    "'''\n",
    "def function_name(param1, param2=default_value):\n",
    "    \"\"\"docstring\"\"\"\n",
    "    # function body\n",
    "    return expression\n",
    "'''"
   ]
  },
  {
   "cell_type": "code",
   "execution_count": 8,
   "id": "3a432156",
   "metadata": {},
   "outputs": [
    {
     "name": "stdout",
     "output_type": "stream",
     "text": [
      "1\n",
      "2\n",
      "3\n",
      "4\n",
      "5\n",
      "6\n",
      "7\n",
      "8\n",
      "suraj\n"
     ]
    }
   ],
   "source": [
    "## Variable Length Arguments\n",
    "## Positional and keyword arguments\n",
    "'''\n",
    "def function_name(*args, **kwargs):\n",
    "    \"\"\"docstring\"\"\"\n",
    "    # function body\n",
    "    return expression\n",
    "'''\n",
    "## Here args is a tuple of positional arguments and kwargs is a dictionary of keyword arguments.\n",
    "def print_numbers(*suraj):\n",
    "    for number in suraj:\n",
    "        print(number)\n",
    "        \n",
    "print_numbers(1,2,3,4,5,6,7,8,\"suraj\")"
   ]
  },
  {
   "cell_type": "code",
   "execution_count": null,
   "id": "285267fc",
   "metadata": {},
   "outputs": [
    {
     "name": "stdout",
     "output_type": "stream",
     "text": [
      "1\n",
      "2\n",
      "3\n",
      "4\n",
      "5\n",
      "suraj\n"
     ]
    }
   ],
   "source": [
    "## Positional arguments -> Best Practices\n",
    "def print_info(*args):\n",
    "    \"\"\"This prints a passed info into this function\"\"\"\n",
    "    for arg in args:\n",
    "        print(arg)\n",
    "    return\n",
    "print_info(1,2,3,4,5,\"suraj\")\n"
   ]
  },
  {
   "cell_type": "code",
   "execution_count": 11,
   "id": "61339fc3",
   "metadata": {},
   "outputs": [
    {
     "name": "stdout",
     "output_type": "stream",
     "text": [
      "name: suraj\n",
      "age: 21\n",
      "city: pune\n"
     ]
    }
   ],
   "source": [
    "## Keyword arguments -> Best Practices\n",
    "def print_info(**kwargs):\n",
    "    \"\"\"This prints a passed info into this function\"\"\"\n",
    "    for key, value in kwargs.items():\n",
    "        print(f\"{key}: {value}\")\n",
    "    return\n",
    "\n",
    "print_info(name=\"suraj\", age=21, city=\"pune\")"
   ]
  },
  {
   "cell_type": "code",
   "execution_count": 12,
   "id": "c5f409c2",
   "metadata": {},
   "outputs": [
    {
     "name": "stdout",
     "output_type": "stream",
     "text": [
      "1\n",
      "2\n",
      "3\n",
      "name: suraj\n",
      "age: 21\n",
      "city: pune\n"
     ]
    }
   ],
   "source": [
    "## Postional and Keyword arguments\n",
    "def print_info(*args, **kwargs):\n",
    "    \"\"\"This prints a passed info into this function\"\"\"\n",
    "    for arg in args:\n",
    "        print(arg)\n",
    "    for key, value in kwargs.items():\n",
    "        print(f\"{key}: {value}\")\n",
    "    return\n",
    "\n",
    "print_info(1,2,3, name=\"suraj\", age=21, city=\"pune\")"
   ]
  },
  {
   "cell_type": "code",
   "execution_count": null,
   "id": "a82017bb",
   "metadata": {},
   "outputs": [
    {
     "name": "stdout",
     "output_type": "stream",
     "text": [
      "Sum: 8\n"
     ]
    },
    {
     "ename": "",
     "evalue": "",
     "output_type": "error",
     "traceback": [
      "\u001b[1;31mThe Kernel crashed while executing code in the current cell or a previous cell. \n",
      "\u001b[1;31mPlease review the code in the cell(s) to identify a possible cause of the failure. \n",
      "\u001b[1;31mClick <a href='https://aka.ms/vscodeJupyterKernelCrash'>here</a> for more info. \n",
      "\u001b[1;31mView Jupyter <a href='command:jupyter.viewOutput'>log</a> for further details."
     ]
    }
   ],
   "source": [
    "## Return statement\n",
    "def add(a, b):\n",
    "    \"\"\"This function adds two numbers and returns the result\"\"\"\n",
    "    return a + b\n",
    "\n",
    "result = add(3, 5)\n",
    "print(\"Sum:\", result)"
   ]
  }
 ],
 "metadata": {
  "kernelspec": {
   "display_name": "base",
   "language": "python",
   "name": "python3"
  },
  "language_info": {
   "codemirror_mode": {
    "name": "ipython",
    "version": 3
   },
   "file_extension": ".py",
   "mimetype": "text/x-python",
   "name": "python",
   "nbconvert_exporter": "python",
   "pygments_lexer": "ipython3",
   "version": "3.13.5"
  }
 },
 "nbformat": 4,
 "nbformat_minor": 5
}

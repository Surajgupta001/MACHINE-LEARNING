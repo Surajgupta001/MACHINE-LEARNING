{
 "cells": [
  {
   "cell_type": "markdown",
   "id": "eeea672e",
   "metadata": {},
   "source": [
    "# Lambda Function In Python\n",
    "\n",
    "Lambda functions are small anonymous functions defined using the `lambda` keyword. They can take any number of arguments but can only have a single expression. The expression is evaluated and returned when the lambda function is called.\n",
    "\n",
    "They are commonly used for short operations or as arguments to higher-order functions like `map()`, `filter()`, and `sorted()`.\n",
    "\n"
   ]
  },
  {
   "cell_type": "code",
   "execution_count": null,
   "id": "c51e3bc1",
   "metadata": {},
   "outputs": [],
   "source": [
    "## Lambda Function Syntax\n",
    "\"\"\"\n",
    "lambda arguments: expression\n",
    "\"\"\""
   ]
  },
  {
   "cell_type": "code",
   "execution_count": 1,
   "id": "175d1394",
   "metadata": {},
   "outputs": [
    {
     "data": {
      "text/plain": [
       "5"
      ]
     },
     "execution_count": 1,
     "metadata": {},
     "output_type": "execute_result"
    }
   ],
   "source": [
    "def add(x, y):\n",
    "    return x + y\n",
    "\n",
    "add(2, 3) # Output: 5"
   ]
  },
  {
   "cell_type": "code",
   "execution_count": 2,
   "id": "e6868952",
   "metadata": {},
   "outputs": [
    {
     "name": "stdout",
     "output_type": "stream",
     "text": [
      "12\n"
     ]
    }
   ],
   "source": [
    "addition = lambda a, b: a + b\n",
    "type(addition) # Output: <class 'function'>\n",
    "print(addition(5, 7)) # Output: 12"
   ]
  },
  {
   "cell_type": "code",
   "execution_count": 4,
   "id": "20794ccc",
   "metadata": {},
   "outputs": [
    {
     "data": {
      "text/plain": [
       "'Odd'"
      ]
     },
     "execution_count": 4,
     "metadata": {},
     "output_type": "execute_result"
    }
   ],
   "source": [
    "def even_or_odd(num):\n",
    "    return \"Even\" if num % 2 == 0 else \"Odd\"\n",
    "\n",
    "even_or_odd(4) # Output: \"Even\"\n",
    "even_or_odd(7) # Output: \"Odd\""
   ]
  },
  {
   "cell_type": "code",
   "execution_count": 7,
   "id": "a199a222",
   "metadata": {},
   "outputs": [
    {
     "data": {
      "text/plain": [
       "'Even'"
      ]
     },
     "execution_count": 7,
     "metadata": {},
     "output_type": "execute_result"
    }
   ],
   "source": [
    "even_or_odd_lambda = lambda num: \"Even\" if num % 2 == 0 else \"Odd\"\n",
    "even_or_odd_lambda(10) # Output: \"Even\""
   ]
  },
  {
   "cell_type": "code",
   "execution_count": 8,
   "id": "6c0314ae",
   "metadata": {},
   "outputs": [
    {
     "name": "stdout",
     "output_type": "stream",
     "text": [
      "6\n"
     ]
    }
   ],
   "source": [
    "addition = lambda x, y,z : x + y + z\n",
    "print(addition(1, 2,3)) # Output: 6"
   ]
  },
  {
   "cell_type": "code",
   "execution_count": null,
   "id": "b919ea35",
   "metadata": {},
   "outputs": [
    {
     "name": "stdout",
     "output_type": "stream",
     "text": [
      "[1, 4, 9, 16, 25]\n"
     ]
    },
    {
     "ename": "",
     "evalue": "",
     "output_type": "error",
     "traceback": [
      "\u001b[1;31mThe Kernel crashed while executing code in the current cell or a previous cell. \n",
      "\u001b[1;31mPlease review the code in the cell(s) to identify a possible cause of the failure. \n",
      "\u001b[1;31mClick <a href='https://aka.ms/vscodeJupyterKernelCrash'>here</a> for more info. \n",
      "\u001b[1;31mView Jupyter <a href='command:jupyter.viewOutput'>log</a> for further details."
     ]
    }
   ],
   "source": [
    "## map() with Lambda Function\n",
    "numbers = [1, 2, 3, 4, 5]\n",
    "squared = list(map(lambda x: x**2, numbers))\n",
    "print(squared) # Output: [1, 4, 9, 16, 25]"
   ]
  }
 ],
 "metadata": {
  "kernelspec": {
   "display_name": "base",
   "language": "python",
   "name": "python3"
  },
  "language_info": {
   "codemirror_mode": {
    "name": "ipython",
    "version": 3
   },
   "file_extension": ".py",
   "mimetype": "text/x-python",
   "name": "python",
   "nbconvert_exporter": "python",
   "pygments_lexer": "ipython3",
   "version": "3.13.5"
  }
 },
 "nbformat": 4,
 "nbformat_minor": 5
}
